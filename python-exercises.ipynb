{
 "cells": [
  {
   "cell_type": "markdown",
   "id": "a75316af",
   "metadata": {
    "papermill": {
     "duration": 0.008877,
     "end_time": "2022-11-24T17:29:18.925525",
     "exception": false,
     "start_time": "2022-11-24T17:29:18.916648",
     "status": "completed"
    },
    "tags": []
   },
   "source": [
    "# **Python Exercises**"
   ]
  },
  {
   "cell_type": "markdown",
   "id": "4753085d",
   "metadata": {
    "papermill": {
     "duration": 0.007516,
     "end_time": "2022-11-24T17:29:18.940850",
     "exception": false,
     "start_time": "2022-11-24T17:29:18.933334",
     "status": "completed"
    },
    "tags": []
   },
   "source": [
    "## Let's examine the types of the following data structures"
   ]
  },
  {
   "cell_type": "code",
   "execution_count": 1,
   "id": "9c537745",
   "metadata": {
    "execution": {
     "iopub.execute_input": "2022-11-24T17:29:18.959984Z",
     "iopub.status.busy": "2022-11-24T17:29:18.959454Z",
     "iopub.status.idle": "2022-11-24T17:29:18.974323Z",
     "shell.execute_reply": "2022-11-24T17:29:18.972213Z"
    },
    "papermill": {
     "duration": 0.028572,
     "end_time": "2022-11-24T17:29:18.977691",
     "exception": false,
     "start_time": "2022-11-24T17:29:18.949119",
     "status": "completed"
    },
    "tags": []
   },
   "outputs": [],
   "source": [
    "x = 8\n",
    "y = 3.2\n",
    "z = 8j + 18\n",
    "a = \"Hello World\"\n",
    "b = True\n",
    "c = 23 < 22\n",
    "l = [1, 2, 3, 4, \"String\", 3.2, False]\n",
    "d = {\"Name\": \"Jake\",\n",
    "     \"Age\": [27, 56],\n",
    "     \"Adress\": \"Downtown\"}\n",
    "t = (\"Machine Learning\", \"Data Science\")\n",
    "s = {\"Python\", \"Machine Learning\", \"Data Science\", \"Python\"}"
   ]
  },
  {
   "cell_type": "code",
   "execution_count": 2,
   "id": "96cd402c",
   "metadata": {
    "execution": {
     "iopub.execute_input": "2022-11-24T17:29:18.997286Z",
     "iopub.status.busy": "2022-11-24T17:29:18.996742Z",
     "iopub.status.idle": "2022-11-24T17:29:19.004966Z",
     "shell.execute_reply": "2022-11-24T17:29:19.003281Z"
    },
    "papermill": {
     "duration": 0.023458,
     "end_time": "2022-11-24T17:29:19.009625",
     "exception": false,
     "start_time": "2022-11-24T17:29:18.986167",
     "status": "completed"
    },
    "tags": []
   },
   "outputs": [
    {
     "name": "stdout",
     "output_type": "stream",
     "text": [
      "<class 'int'>\n",
      "<class 'float'>\n",
      "<class 'complex'>\n",
      "<class 'str'>\n",
      "<class 'bool'>\n",
      "<class 'bool'>\n",
      "<class 'list'>\n",
      "<class 'dict'>\n",
      "<class 'tuple'>\n",
      "<class 'set'>\n"
     ]
    }
   ],
   "source": [
    "print(type(x))\n",
    "print(type(y))\n",
    "print(type(z))\n",
    "print(type(a))\n",
    "print(type(b))\n",
    "print(type(c))\n",
    "print(type(l))\n",
    "print(type(d))\n",
    "print(type(t))\n",
    "print(type(s))"
   ]
  },
  {
   "cell_type": "markdown",
   "id": "65258e7f",
   "metadata": {
    "papermill": {
     "duration": 0.009567,
     "end_time": "2022-11-24T17:29:19.028077",
     "exception": false,
     "start_time": "2022-11-24T17:29:19.018510",
     "status": "completed"
    },
    "tags": []
   },
   "source": [
    "## Let's convert all letters of the given string expression to uppercase and replace commas and periods with spaces, separate them word by word"
   ]
  },
  {
   "cell_type": "code",
   "execution_count": 3,
   "id": "b5e2bcd2",
   "metadata": {
    "execution": {
     "iopub.execute_input": "2022-11-24T17:29:19.053092Z",
     "iopub.status.busy": "2022-11-24T17:29:19.052533Z",
     "iopub.status.idle": "2022-11-24T17:29:19.065417Z",
     "shell.execute_reply": "2022-11-24T17:29:19.063811Z"
    },
    "papermill": {
     "duration": 0.033067,
     "end_time": "2022-11-24T17:29:19.070602",
     "exception": false,
     "start_time": "2022-11-24T17:29:19.037535",
     "status": "completed"
    },
    "tags": []
   },
   "outputs": [
    {
     "data": {
      "text/plain": [
       "['THE',\n",
       " 'GOAL',\n",
       " 'IS',\n",
       " 'TO',\n",
       " 'TURN',\n",
       " 'DATA',\n",
       " 'INTO',\n",
       " 'INFORMATION',\n",
       " 'AND',\n",
       " 'INFORMATION',\n",
       " 'INTO',\n",
       " 'INSIGHT']"
      ]
     },
     "execution_count": 3,
     "metadata": {},
     "output_type": "execute_result"
    }
   ],
   "source": [
    "text = \"The goal is to turn data into information, and information into insight.\"\n",
    "text = text.upper().replace('.', ' ').replace(',', ' ').split()\n",
    "text"
   ]
  },
  {
   "cell_type": "markdown",
   "id": "77a9ccb7",
   "metadata": {
    "papermill": {
     "duration": 0.01227,
     "end_time": "2022-11-24T17:29:19.098977",
     "exception": false,
     "start_time": "2022-11-24T17:29:19.086707",
     "status": "completed"
    },
    "tags": []
   },
   "source": [
    "## Let's do the following tasks for the given list"
   ]
  },
  {
   "cell_type": "code",
   "execution_count": 4,
   "id": "2de029f2",
   "metadata": {
    "execution": {
     "iopub.execute_input": "2022-11-24T17:29:19.123994Z",
     "iopub.status.busy": "2022-11-24T17:29:19.123499Z",
     "iopub.status.idle": "2022-11-24T17:29:19.128771Z",
     "shell.execute_reply": "2022-11-24T17:29:19.127624Z"
    },
    "papermill": {
     "duration": 0.019628,
     "end_time": "2022-11-24T17:29:19.130981",
     "exception": false,
     "start_time": "2022-11-24T17:29:19.111353",
     "status": "completed"
    },
    "tags": []
   },
   "outputs": [],
   "source": [
    "lst = [\"D\", \"A\", \"T\", \"A\", \"S\", \"C\", \"I\", \"E\", \"N\", \"C\", \"E\"]"
   ]
  },
  {
   "cell_type": "code",
   "execution_count": 5,
   "id": "4babd176",
   "metadata": {
    "execution": {
     "iopub.execute_input": "2022-11-24T17:29:19.154387Z",
     "iopub.status.busy": "2022-11-24T17:29:19.153989Z",
     "iopub.status.idle": "2022-11-24T17:29:19.160280Z",
     "shell.execute_reply": "2022-11-24T17:29:19.159389Z"
    },
    "papermill": {
     "duration": 0.019662,
     "end_time": "2022-11-24T17:29:19.162155",
     "exception": false,
     "start_time": "2022-11-24T17:29:19.142493",
     "status": "completed"
    },
    "tags": []
   },
   "outputs": [
    {
     "data": {
      "text/plain": [
       "11"
      ]
     },
     "execution_count": 5,
     "metadata": {},
     "output_type": "execute_result"
    }
   ],
   "source": [
    "# Let's look at the number of elements of the given list\n",
    "len(lst)"
   ]
  },
  {
   "cell_type": "code",
   "execution_count": 6,
   "id": "444cf6a5",
   "metadata": {
    "execution": {
     "iopub.execute_input": "2022-11-24T17:29:19.185045Z",
     "iopub.status.busy": "2022-11-24T17:29:19.184516Z",
     "iopub.status.idle": "2022-11-24T17:29:19.194992Z",
     "shell.execute_reply": "2022-11-24T17:29:19.193490Z"
    },
    "papermill": {
     "duration": 0.027577,
     "end_time": "2022-11-24T17:29:19.198189",
     "exception": false,
     "start_time": "2022-11-24T17:29:19.170612",
     "status": "completed"
    },
    "tags": []
   },
   "outputs": [
    {
     "name": "stdout",
     "output_type": "stream",
     "text": [
      "D\n",
      "E\n",
      "E\n"
     ]
    }
   ],
   "source": [
    "# Let's call the elements at index zero and tenth\n",
    "print(lst[0])\n",
    "print(lst[-1])\n",
    "print(lst[10])"
   ]
  },
  {
   "cell_type": "code",
   "execution_count": 7,
   "id": "1103a69f",
   "metadata": {
    "execution": {
     "iopub.execute_input": "2022-11-24T17:29:19.225656Z",
     "iopub.status.busy": "2022-11-24T17:29:19.225106Z",
     "iopub.status.idle": "2022-11-24T17:29:19.236407Z",
     "shell.execute_reply": "2022-11-24T17:29:19.235196Z"
    },
    "papermill": {
     "duration": 0.02598,
     "end_time": "2022-11-24T17:29:19.238592",
     "exception": false,
     "start_time": "2022-11-24T17:29:19.212612",
     "status": "completed"
    },
    "tags": []
   },
   "outputs": [
    {
     "data": {
      "text/plain": [
       "['D', 'A', 'T', 'A']"
      ]
     },
     "execution_count": 7,
     "metadata": {},
     "output_type": "execute_result"
    }
   ],
   "source": [
    "# Let's create a list [\"D\",\"A\",\"T\",\"A\"] from the given list\n",
    "lst[0:4]"
   ]
  },
  {
   "cell_type": "code",
   "execution_count": 8,
   "id": "a64048bd",
   "metadata": {
    "execution": {
     "iopub.execute_input": "2022-11-24T17:29:19.261817Z",
     "iopub.status.busy": "2022-11-24T17:29:19.259853Z",
     "iopub.status.idle": "2022-11-24T17:29:19.268004Z",
     "shell.execute_reply": "2022-11-24T17:29:19.266764Z"
    },
    "papermill": {
     "duration": 0.021427,
     "end_time": "2022-11-24T17:29:19.270479",
     "exception": false,
     "start_time": "2022-11-24T17:29:19.249052",
     "status": "completed"
    },
    "tags": []
   },
   "outputs": [
    {
     "name": "stdout",
     "output_type": "stream",
     "text": [
      "N\n",
      "['D', 'A', 'T', 'A', 'S', 'C', 'I', 'E', 'C', 'E']\n"
     ]
    }
   ],
   "source": [
    "# Let's delete the element in the eighth index\n",
    "print(lst.pop(8))\n",
    "print(lst)"
   ]
  },
  {
   "cell_type": "code",
   "execution_count": 9,
   "id": "4892aecf",
   "metadata": {
    "execution": {
     "iopub.execute_input": "2022-11-24T17:29:19.293173Z",
     "iopub.status.busy": "2022-11-24T17:29:19.292687Z",
     "iopub.status.idle": "2022-11-24T17:29:19.299548Z",
     "shell.execute_reply": "2022-11-24T17:29:19.298318Z"
    },
    "papermill": {
     "duration": 0.021102,
     "end_time": "2022-11-24T17:29:19.301688",
     "exception": false,
     "start_time": "2022-11-24T17:29:19.280586",
     "status": "completed"
    },
    "tags": []
   },
   "outputs": [
    {
     "name": "stdout",
     "output_type": "stream",
     "text": [
      "['D', 'A', 'T', 'A', 'S', 'C', 'I', 'E', 'C', 'E', 'X']\n"
     ]
    }
   ],
   "source": [
    "# Let's add a new element\n",
    "lst.append('X')\n",
    "print(lst)"
   ]
  },
  {
   "cell_type": "code",
   "execution_count": 10,
   "id": "81313d0e",
   "metadata": {
    "execution": {
     "iopub.execute_input": "2022-11-24T17:29:19.322882Z",
     "iopub.status.busy": "2022-11-24T17:29:19.322440Z",
     "iopub.status.idle": "2022-11-24T17:29:19.327860Z",
     "shell.execute_reply": "2022-11-24T17:29:19.326823Z"
    },
    "papermill": {
     "duration": 0.020082,
     "end_time": "2022-11-24T17:29:19.331528",
     "exception": false,
     "start_time": "2022-11-24T17:29:19.311446",
     "status": "completed"
    },
    "tags": []
   },
   "outputs": [
    {
     "name": "stdout",
     "output_type": "stream",
     "text": [
      "['D', 'A', 'T', 'A', 'S', 'C', 'I', 'E', 'N', 'C', 'E', 'X']\n"
     ]
    }
   ],
   "source": [
    "# Re-add element \"N\" to the eighth index.\n",
    "lst.insert(8, 'N')\n",
    "print(lst)"
   ]
  },
  {
   "cell_type": "markdown",
   "id": "ede0e0f1",
   "metadata": {
    "papermill": {
     "duration": 0.008459,
     "end_time": "2022-11-24T17:29:19.349786",
     "exception": false,
     "start_time": "2022-11-24T17:29:19.341327",
     "status": "completed"
    },
    "tags": []
   },
   "source": [
    "## Let's apply the following steps to the given dictionary structure"
   ]
  },
  {
   "cell_type": "code",
   "execution_count": 11,
   "id": "17be769e",
   "metadata": {
    "execution": {
     "iopub.execute_input": "2022-11-24T17:29:19.373122Z",
     "iopub.status.busy": "2022-11-24T17:29:19.371888Z",
     "iopub.status.idle": "2022-11-24T17:29:19.385588Z",
     "shell.execute_reply": "2022-11-24T17:29:19.383233Z"
    },
    "papermill": {
     "duration": 0.029224,
     "end_time": "2022-11-24T17:29:19.388447",
     "exception": false,
     "start_time": "2022-11-24T17:29:19.359223",
     "status": "completed"
    },
    "tags": []
   },
   "outputs": [],
   "source": [
    "dict = {'Christian': [\"America\", 18],\n",
    "        'Daisy': [\"England\", 12],\n",
    "        'Antonio': [\"Spain\", 22],\n",
    "        'Dante': [\"Italy\", 25]}"
   ]
  },
  {
   "cell_type": "code",
   "execution_count": 12,
   "id": "84c76f97",
   "metadata": {
    "execution": {
     "iopub.execute_input": "2022-11-24T17:29:19.412021Z",
     "iopub.status.busy": "2022-11-24T17:29:19.409681Z",
     "iopub.status.idle": "2022-11-24T17:29:19.419837Z",
     "shell.execute_reply": "2022-11-24T17:29:19.418200Z"
    },
    "papermill": {
     "duration": 0.025149,
     "end_time": "2022-11-24T17:29:19.422761",
     "exception": false,
     "start_time": "2022-11-24T17:29:19.397612",
     "status": "completed"
    },
    "tags": []
   },
   "outputs": [
    {
     "data": {
      "text/plain": [
       "dict_keys(['Christian', 'Daisy', 'Antonio', 'Dante'])"
      ]
     },
     "execution_count": 12,
     "metadata": {},
     "output_type": "execute_result"
    }
   ],
   "source": [
    "# Let's access the key values\n",
    "dict.keys()"
   ]
  },
  {
   "cell_type": "code",
   "execution_count": 13,
   "id": "6d93a286",
   "metadata": {
    "execution": {
     "iopub.execute_input": "2022-11-24T17:29:19.449450Z",
     "iopub.status.busy": "2022-11-24T17:29:19.447377Z",
     "iopub.status.idle": "2022-11-24T17:29:19.456974Z",
     "shell.execute_reply": "2022-11-24T17:29:19.455902Z"
    },
    "papermill": {
     "duration": 0.02602,
     "end_time": "2022-11-24T17:29:19.460106",
     "exception": false,
     "start_time": "2022-11-24T17:29:19.434086",
     "status": "completed"
    },
    "tags": []
   },
   "outputs": [
    {
     "data": {
      "text/plain": [
       "dict_values([['America', 18], ['England', 12], ['Spain', 22], ['Italy', 25]])"
      ]
     },
     "execution_count": 13,
     "metadata": {},
     "output_type": "execute_result"
    }
   ],
   "source": [
    "# Let's access the values\n",
    "dict.values()"
   ]
  },
  {
   "cell_type": "code",
   "execution_count": 14,
   "id": "2ae2eb47",
   "metadata": {
    "execution": {
     "iopub.execute_input": "2022-11-24T17:29:19.485140Z",
     "iopub.status.busy": "2022-11-24T17:29:19.484398Z",
     "iopub.status.idle": "2022-11-24T17:29:19.493903Z",
     "shell.execute_reply": "2022-11-24T17:29:19.492891Z"
    },
    "papermill": {
     "duration": 0.024696,
     "end_time": "2022-11-24T17:29:19.495879",
     "exception": false,
     "start_time": "2022-11-24T17:29:19.471183",
     "status": "completed"
    },
    "tags": []
   },
   "outputs": [
    {
     "data": {
      "text/plain": [
       "{'Christian': ['America', 18],\n",
       " 'Daisy': ['England', 13],\n",
       " 'Antonio': ['Spain', 22],\n",
       " 'Dante': ['Italy', 25]}"
      ]
     },
     "execution_count": 14,
     "metadata": {},
     "output_type": "execute_result"
    }
   ],
   "source": [
    "# Let's update the value 12 of the Daisy key to 13\n",
    "dict['Daisy'][1] = 13\n",
    "dict"
   ]
  },
  {
   "cell_type": "code",
   "execution_count": 15,
   "id": "30318a65",
   "metadata": {
    "execution": {
     "iopub.execute_input": "2022-11-24T17:29:19.517599Z",
     "iopub.status.busy": "2022-11-24T17:29:19.516497Z",
     "iopub.status.idle": "2022-11-24T17:29:19.525128Z",
     "shell.execute_reply": "2022-11-24T17:29:19.523735Z"
    },
    "papermill": {
     "duration": 0.023315,
     "end_time": "2022-11-24T17:29:19.529021",
     "exception": false,
     "start_time": "2022-11-24T17:29:19.505706",
     "status": "completed"
    },
    "tags": []
   },
   "outputs": [
    {
     "data": {
      "text/plain": [
       "{'Christian': ['America', 18],\n",
       " 'Daisy': ['England', 13],\n",
       " 'Antonio': ['Spain', 22],\n",
       " 'Dante': ['Italy', 25],\n",
       " 'Ahmet': ['Turkey', 24]}"
      ]
     },
     "execution_count": 15,
     "metadata": {},
     "output_type": "execute_result"
    }
   ],
   "source": [
    "# Let's add a new value whose key value is Ahmet value [Turkey,24]\n",
    "dict.update({'Ahmet': ['Turkey', 24]})\n",
    "dict"
   ]
  },
  {
   "cell_type": "code",
   "execution_count": 16,
   "id": "0209ccdc",
   "metadata": {
    "execution": {
     "iopub.execute_input": "2022-11-24T17:29:19.550527Z",
     "iopub.status.busy": "2022-11-24T17:29:19.550099Z",
     "iopub.status.idle": "2022-11-24T17:29:19.559358Z",
     "shell.execute_reply": "2022-11-24T17:29:19.558550Z"
    },
    "papermill": {
     "duration": 0.022037,
     "end_time": "2022-11-24T17:29:19.561398",
     "exception": false,
     "start_time": "2022-11-24T17:29:19.539361",
     "status": "completed"
    },
    "tags": []
   },
   "outputs": [
    {
     "data": {
      "text/plain": [
       "{'Christian': ['America', 18],\n",
       " 'Daisy': ['England', 13],\n",
       " 'Dante': ['Italy', 25],\n",
       " 'Ahmet': ['Turkey', 24]}"
      ]
     },
     "execution_count": 16,
     "metadata": {},
     "output_type": "execute_result"
    }
   ],
   "source": [
    "# Let's delete Antonio from dictionary\n",
    "dict.pop('Antonio')\n",
    "dict"
   ]
  },
  {
   "cell_type": "markdown",
   "id": "36c3aec7",
   "metadata": {
    "papermill": {
     "duration": 0.009219,
     "end_time": "2022-11-24T17:29:19.580688",
     "exception": false,
     "start_time": "2022-11-24T17:29:19.571469",
     "status": "completed"
    },
    "tags": []
   },
   "source": [
    "## Let's write a function that takes a list as an argument, assigns the odd and even numbers in the list to separate lists and returns these lists"
   ]
  },
  {
   "cell_type": "code",
   "execution_count": 17,
   "id": "639717c7",
   "metadata": {
    "execution": {
     "iopub.execute_input": "2022-11-24T17:29:19.602899Z",
     "iopub.status.busy": "2022-11-24T17:29:19.602328Z",
     "iopub.status.idle": "2022-11-24T17:29:19.610097Z",
     "shell.execute_reply": "2022-11-24T17:29:19.608722Z"
    },
    "papermill": {
     "duration": 0.022991,
     "end_time": "2022-11-24T17:29:19.613790",
     "exception": false,
     "start_time": "2022-11-24T17:29:19.590799",
     "status": "completed"
    },
    "tags": []
   },
   "outputs": [
    {
     "name": "stdout",
     "output_type": "stream",
     "text": [
      "[13, 93]\n",
      "[2, 18, 22]\n"
     ]
    }
   ],
   "source": [
    "lst = [2, 13, 18, 93, 22]\n",
    "\n",
    "def odd_even_numbers(list_store):\n",
    "    odd_numbers, even_numbers = [], []\n",
    "    for num in list_store:\n",
    "        if num % 2 == 0:\n",
    "            even_numbers.append(num)\n",
    "        else:\n",
    "            odd_numbers.append(num)\n",
    "    return odd_numbers, even_numbers\n",
    "\n",
    "odd_list, even_list = odd_even_numbers(lst)\n",
    "print(odd_list)\n",
    "print(even_list)"
   ]
  },
  {
   "cell_type": "code",
   "execution_count": 18,
   "id": "fc7a8d66",
   "metadata": {
    "execution": {
     "iopub.execute_input": "2022-11-24T17:29:19.634138Z",
     "iopub.status.busy": "2022-11-24T17:29:19.633709Z",
     "iopub.status.idle": "2022-11-24T17:29:19.640216Z",
     "shell.execute_reply": "2022-11-24T17:29:19.638929Z"
    },
    "papermill": {
     "duration": 0.019279,
     "end_time": "2022-11-24T17:29:19.642617",
     "exception": false,
     "start_time": "2022-11-24T17:29:19.623338",
     "status": "completed"
    },
    "tags": []
   },
   "outputs": [
    {
     "name": "stdout",
     "output_type": "stream",
     "text": [
      "[2, 18, 22]\n",
      "[13, 93]\n"
     ]
    }
   ],
   "source": [
    "# Let's solve it another way\n",
    "def odd_even_num(list):\n",
    "     return [i for i in list if i % 2 == 0], [i for i in list if i % 2 != 0]\n",
    "\n",
    "even, odd = odd_even_num(lst)\n",
    "print(even)\n",
    "print(odd)"
   ]
  },
  {
   "cell_type": "markdown",
   "id": "03b51c7d",
   "metadata": {
    "papermill": {
     "duration": 0.01004,
     "end_time": "2022-11-24T17:29:19.663300",
     "exception": false,
     "start_time": "2022-11-24T17:29:19.653260",
     "status": "completed"
    },
    "tags": []
   },
   "source": [
    "## In the list given below are the names of the students who received degrees in engineering and medicine faculties. Respectively, the first three students represent the success order of the engineering faculty, while the last three students belong to the medical faculty student rank. Let's print student degrees specific to faculty using Enumarate"
   ]
  },
  {
   "cell_type": "code",
   "execution_count": 19,
   "id": "83f4a640",
   "metadata": {
    "execution": {
     "iopub.execute_input": "2022-11-24T17:29:19.688655Z",
     "iopub.status.busy": "2022-11-24T17:29:19.687653Z",
     "iopub.status.idle": "2022-11-24T17:29:19.692805Z",
     "shell.execute_reply": "2022-11-24T17:29:19.691535Z"
    },
    "papermill": {
     "duration": 0.019897,
     "end_time": "2022-11-24T17:29:19.695457",
     "exception": false,
     "start_time": "2022-11-24T17:29:19.675560",
     "status": "completed"
    },
    "tags": []
   },
   "outputs": [],
   "source": [
    "students = [\"Ali\", \"Veli\", \"Ayse\", \"Talat\", \"Zeynep\", \"Ece\"]"
   ]
  },
  {
   "cell_type": "code",
   "execution_count": 20,
   "id": "241fec26",
   "metadata": {
    "execution": {
     "iopub.execute_input": "2022-11-24T17:29:19.716972Z",
     "iopub.status.busy": "2022-11-24T17:29:19.716040Z",
     "iopub.status.idle": "2022-11-24T17:29:19.722686Z",
     "shell.execute_reply": "2022-11-24T17:29:19.721665Z"
    },
    "papermill": {
     "duration": 0.020102,
     "end_time": "2022-11-24T17:29:19.725096",
     "exception": false,
     "start_time": "2022-11-24T17:29:19.704994",
     "status": "completed"
    },
    "tags": []
   },
   "outputs": [
    {
     "name": "stdout",
     "output_type": "stream",
     "text": [
      "Muhendislik Fakultesi: 1. ogrenci: Ali\n",
      "Muhendislik Fakultesi: 2. ogrenci: Veli\n",
      "Muhendislik Fakultesi: 3. ogrenci: Ayse\n",
      "Tip Fakultesi 1. ogrenci: Talat\n",
      "Tip Fakultesi 2. ogrenci: Zeynep\n",
      "Tip Fakultesi 3. ogrenci: Ece\n"
     ]
    }
   ],
   "source": [
    "# Solution_1 with for loop\n",
    "for index, student in enumerate(students, 1):\n",
    "    if index < 4:\n",
    "        print(f'Muhendislik Fakultesi: {index}. ogrenci: {student}')\n",
    "    else:\n",
    "        print(f'Tip Fakultesi {index - 3}. ogrenci: {student}')"
   ]
  },
  {
   "cell_type": "code",
   "execution_count": 21,
   "id": "0e7c7ed3",
   "metadata": {
    "execution": {
     "iopub.execute_input": "2022-11-24T17:29:19.748369Z",
     "iopub.status.busy": "2022-11-24T17:29:19.747530Z",
     "iopub.status.idle": "2022-11-24T17:29:19.756471Z",
     "shell.execute_reply": "2022-11-24T17:29:19.755280Z"
    },
    "papermill": {
     "duration": 0.024221,
     "end_time": "2022-11-24T17:29:19.759633",
     "exception": false,
     "start_time": "2022-11-24T17:29:19.735412",
     "status": "completed"
    },
    "tags": []
   },
   "outputs": [
    {
     "name": "stdout",
     "output_type": "stream",
     "text": [
      "Muhendislik Fakultesi: 1. ogrenci: Ali\n",
      "Muhendislik Fakultesi: 2. ogrenci: Veli\n",
      "Muhendislik Fakultesi: 3. ogrenci: Ayse\n",
      "Tip Fakultesi 1. ogrenci: Talat\n",
      "Tip Fakultesi 2. ogrenci: Zeynep\n",
      "Tip Fakultesi 3. ogrenci: Ece\n"
     ]
    }
   ],
   "source": [
    "# Solution_2 with list comprehension\n",
    "student_list = [f'Muhendislik Fakultesi: {index}. ogrenci: {student}' if index < 4 else f'Tip Fakultesi {index - 3}. ogrenci: {student}' for index, student in enumerate(students, 1)]\n",
    "for i in student_list:\n",
    "    print(i)"
   ]
  },
  {
   "cell_type": "markdown",
   "id": "d8c922b3",
   "metadata": {
    "papermill": {
     "duration": 0.010669,
     "end_time": "2022-11-24T17:29:19.780999",
     "exception": false,
     "start_time": "2022-11-24T17:29:19.770330",
     "status": "completed"
    },
    "tags": []
   },
   "source": [
    "## Three lists are given below. In the lists, there is a course code, credit and quota information, respectively. Let's print course information using zip"
   ]
  },
  {
   "cell_type": "code",
   "execution_count": 22,
   "id": "0a5f8302",
   "metadata": {
    "execution": {
     "iopub.execute_input": "2022-11-24T17:29:19.805303Z",
     "iopub.status.busy": "2022-11-24T17:29:19.804678Z",
     "iopub.status.idle": "2022-11-24T17:29:19.812447Z",
     "shell.execute_reply": "2022-11-24T17:29:19.810719Z"
    },
    "papermill": {
     "duration": 0.02218,
     "end_time": "2022-11-24T17:29:19.815864",
     "exception": false,
     "start_time": "2022-11-24T17:29:19.793684",
     "status": "completed"
    },
    "tags": []
   },
   "outputs": [],
   "source": [
    "ders_kodu = [\"CMP1005\", \"PSY1001\", \"HUK1005\", \"SEN2204\"]\n",
    "kredi = [3, 4, 2, 4]\n",
    "kontenjan = [30, 75, 150, 25]"
   ]
  },
  {
   "cell_type": "code",
   "execution_count": 23,
   "id": "1ae9dd70",
   "metadata": {
    "execution": {
     "iopub.execute_input": "2022-11-24T17:29:19.839280Z",
     "iopub.status.busy": "2022-11-24T17:29:19.838574Z",
     "iopub.status.idle": "2022-11-24T17:29:19.845127Z",
     "shell.execute_reply": "2022-11-24T17:29:19.844305Z"
    },
    "papermill": {
     "duration": 0.022878,
     "end_time": "2022-11-24T17:29:19.849697",
     "exception": false,
     "start_time": "2022-11-24T17:29:19.826819",
     "status": "completed"
    },
    "tags": []
   },
   "outputs": [
    {
     "data": {
      "text/plain": [
       "[(3, 'CMP1005', 30),\n",
       " (4, 'PSY1001', 75),\n",
       " (2, 'HUK1005', 150),\n",
       " (4, 'SEN2204', 25)]"
      ]
     },
     "execution_count": 23,
     "metadata": {},
     "output_type": "execute_result"
    }
   ],
   "source": [
    "course_info = list(zip(kredi, ders_kodu, kontenjan))\n",
    "course_info"
   ]
  },
  {
   "cell_type": "code",
   "execution_count": 24,
   "id": "90a76b45",
   "metadata": {
    "execution": {
     "iopub.execute_input": "2022-11-24T17:29:19.873425Z",
     "iopub.status.busy": "2022-11-24T17:29:19.872458Z",
     "iopub.status.idle": "2022-11-24T17:29:19.880661Z",
     "shell.execute_reply": "2022-11-24T17:29:19.877722Z"
    },
    "papermill": {
     "duration": 0.024414,
     "end_time": "2022-11-24T17:29:19.884419",
     "exception": false,
     "start_time": "2022-11-24T17:29:19.860005",
     "status": "completed"
    },
    "tags": []
   },
   "outputs": [
    {
     "name": "stdout",
     "output_type": "stream",
     "text": [
      "Kredisi 3 olan CMP1005 kodlu dersin konetenjani 30 kisidir.\n",
      "Kredisi 4 olan PSY1001 kodlu dersin konetenjani 75 kisidir.\n",
      "Kredisi 2 olan HUK1005 kodlu dersin konetenjani 150 kisidir.\n",
      "Kredisi 4 olan SEN2204 kodlu dersin konetenjani 25 kisidir.\n"
     ]
    }
   ],
   "source": [
    "# Solution_1 with for loop\n",
    "for i in course_info:\n",
    "    print(f'Kredisi {i[0]} olan {i[1]} kodlu dersin konetenjani {i[2]} kisidir.')"
   ]
  },
  {
   "cell_type": "code",
   "execution_count": 25,
   "id": "c0e7aed0",
   "metadata": {
    "execution": {
     "iopub.execute_input": "2022-11-24T17:29:19.907712Z",
     "iopub.status.busy": "2022-11-24T17:29:19.907309Z",
     "iopub.status.idle": "2022-11-24T17:29:19.916907Z",
     "shell.execute_reply": "2022-11-24T17:29:19.915169Z"
    },
    "papermill": {
     "duration": 0.025737,
     "end_time": "2022-11-24T17:29:19.921143",
     "exception": false,
     "start_time": "2022-11-24T17:29:19.895406",
     "status": "completed"
    },
    "tags": []
   },
   "outputs": [
    {
     "data": {
      "text/plain": [
       "['Kredisi 3 olan CMP1005 kodlu dersin konetenjani 30 kisidir.',\n",
       " 'Kredisi 4 olan PSY1001 kodlu dersin konetenjani 75 kisidir.',\n",
       " 'Kredisi 2 olan HUK1005 kodlu dersin konetenjani 150 kisidir.',\n",
       " 'Kredisi 4 olan SEN2204 kodlu dersin konetenjani 25 kisidir.']"
      ]
     },
     "execution_count": 25,
     "metadata": {},
     "output_type": "execute_result"
    }
   ],
   "source": [
    "# Solution_2 with list comprehension\n",
    "[f'Kredisi {i[0]} olan {i[1]} kodlu dersin konetenjani {i[2]} kisidir.' for i in course_info]"
   ]
  },
  {
   "cell_type": "markdown",
   "id": "2c99a9b7",
   "metadata": {
    "papermill": {
     "duration": 0.011772,
     "end_time": "2022-11-24T17:29:19.942832",
     "exception": false,
     "start_time": "2022-11-24T17:29:19.931060",
     "status": "completed"
    },
    "tags": []
   },
   "source": [
    "## Below are 2 sets. If the 1st set includes the 2nd set, let's define the function that will print the common elements, if not, the difference of the 2nd set from the 1st set"
   ]
  },
  {
   "cell_type": "code",
   "execution_count": 26,
   "id": "12f2c86e",
   "metadata": {
    "execution": {
     "iopub.execute_input": "2022-11-24T17:29:19.970136Z",
     "iopub.status.busy": "2022-11-24T17:29:19.969067Z",
     "iopub.status.idle": "2022-11-24T17:29:19.978100Z",
     "shell.execute_reply": "2022-11-24T17:29:19.975784Z"
    },
    "papermill": {
     "duration": 0.025231,
     "end_time": "2022-11-24T17:29:19.980885",
     "exception": false,
     "start_time": "2022-11-24T17:29:19.955654",
     "status": "completed"
    },
    "tags": []
   },
   "outputs": [],
   "source": [
    "set1 = set([\"data\", \"python\"])\n",
    "set2 = set([\"data\", \"function\", \"qcut\", \"lambda\", \"python\", \"miuul\"])"
   ]
  },
  {
   "cell_type": "code",
   "execution_count": 27,
   "id": "a0726a46",
   "metadata": {
    "execution": {
     "iopub.execute_input": "2022-11-24T17:29:20.003765Z",
     "iopub.status.busy": "2022-11-24T17:29:20.003354Z",
     "iopub.status.idle": "2022-11-24T17:29:20.012759Z",
     "shell.execute_reply": "2022-11-24T17:29:20.011045Z"
    },
    "papermill": {
     "duration": 0.024236,
     "end_time": "2022-11-24T17:29:20.015483",
     "exception": false,
     "start_time": "2022-11-24T17:29:19.991247",
     "status": "completed"
    },
    "tags": []
   },
   "outputs": [
    {
     "name": "stdout",
     "output_type": "stream",
     "text": [
      "{'qcut', 'miuul', 'lambda', 'python', 'function', 'data'}\n"
     ]
    }
   ],
   "source": [
    "def superset_kume(set1, set2):\n",
    "    if set1.issuperset(set2):\n",
    "        print(set2.intersection(set1))\n",
    "    else:\n",
    "        print(set2.difference(set1))\n",
    "\n",
    "superset_kume(set2, set2)"
   ]
  },
  {
   "cell_type": "markdown",
   "id": "f244aa60",
   "metadata": {
    "papermill": {
     "duration": 0.00925,
     "end_time": "2022-11-24T17:29:20.034860",
     "exception": false,
     "start_time": "2022-11-24T17:29:20.025610",
     "status": "completed"
    },
    "tags": []
   },
   "source": [
    "# **Thanks for checking my notebook!**"
   ]
  }
 ],
 "metadata": {
  "kernelspec": {
   "display_name": "Python 3",
   "language": "python",
   "name": "python3"
  },
  "language_info": {
   "codemirror_mode": {
    "name": "ipython",
    "version": 3
   },
   "file_extension": ".py",
   "mimetype": "text/x-python",
   "name": "python",
   "nbconvert_exporter": "python",
   "pygments_lexer": "ipython3",
   "version": "3.7.12"
  },
  "papermill": {
   "default_parameters": {},
   "duration": 12.007246,
   "end_time": "2022-11-24T17:29:21.170272",
   "environment_variables": {},
   "exception": null,
   "input_path": "__notebook__.ipynb",
   "output_path": "__notebook__.ipynb",
   "parameters": {},
   "start_time": "2022-11-24T17:29:09.163026",
   "version": "2.3.4"
  }
 },
 "nbformat": 4,
 "nbformat_minor": 5
}
