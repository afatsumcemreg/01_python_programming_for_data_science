{
 "cells": [
  {
   "cell_type": "markdown",
   "id": "b689b025",
   "metadata": {
    "papermill": {
     "duration": 0.017739,
     "end_time": "2022-11-02T10:20:21.849648",
     "exception": false,
     "start_time": "2022-11-02T10:20:21.831909",
     "status": "completed"
    },
    "tags": []
   },
   "source": [
    "# **Lead Calculation with Rule-Based Classification**\n",
    "\n",
    "## Business Problem\n",
    "\n",
    "A game company wants to create new level-based customer definitions (personas) by using some features of its customers, and to create segments according to these new customer definitions and to estimate how much the new customers can earn on average according to these segments.\n",
    "\n",
    "For example: It is desired to determine how much a 25-year-old male user from Turkey who is an IOS user can earn on average.\n",
    "\n",
    "\n",
    "## Dataset Story\n",
    "\n",
    "Persona.csv dataset contains the prices of the products sold by an international game company and some demographic information of the users who buy these products. The data set consists of records created in each sales transaction. This means that the table is not deduplicated. In other words, a user with certain demographic characteristics may have made more than one purchase.\n",
    "\n",
    "* Price: Customer's spending amount\n",
    "* Source: The type of device the customer is connecting to\n",
    "* Sex: Gender of the client\n",
    "* Country: Country of the customer\n",
    "* Age: Customer's age\n",
    "\n",
    "\n",
    "### Before Application\n",
    "\n",
    "* PRICE SOURCE SEX COUNTRY AGE\n",
    "* 0 39 android male bra 17\n",
    "* 1 39 android male bra 17\n",
    "* 2 49 android male bra 17\n",
    "* 3 29 android male tour 17\n",
    "* 4 49 android male tur 17\n",
    "\n",
    "### After Application\n",
    "\n",
    "* customers_level_based PRICE SEGMENT\n",
    "* 0 BRA_ANDROID_FEMALE_0_18 1139.800000 A\n",
    "* 1 BRA_ANDROID_FEMALE_19_23 1070.60000 A\n",
    "* 2 BRA_ANDROID_FEMALE_24_30 508.142857 A\n",
    "* 3 BRA_ANDROID_FEMALE_31_40 233.166667 C\n",
    "* 4 BRA_ANDROID_FEMALE_41_66 236.666667 C"
   ]
  },
  {
   "cell_type": "markdown",
   "id": "674f296d",
   "metadata": {
    "papermill": {
     "duration": 0.015977,
     "end_time": "2022-11-02T10:20:21.880118",
     "exception": false,
     "start_time": "2022-11-02T10:20:21.864141",
     "status": "completed"
    },
    "tags": []
   },
   "source": [
    "## PROJECT TASKS"
   ]
  },
  {
   "cell_type": "code",
   "execution_count": 1,
   "id": "c37530f2",
   "metadata": {
    "_cell_guid": "b1076dfc-b9ad-4769-8c92-a6c4dae69d19",
    "_uuid": "8f2839f25d086af736a60e9eeb907d3b93b6e0e5",
    "execution": {
     "iopub.execute_input": "2022-11-02T10:20:21.911183Z",
     "iopub.status.busy": "2022-11-02T10:20:21.910638Z",
     "iopub.status.idle": "2022-11-02T10:20:23.110105Z",
     "shell.execute_reply": "2022-11-02T10:20:23.108642Z"
    },
    "papermill": {
     "duration": 1.216872,
     "end_time": "2022-11-02T10:20:23.113235",
     "exception": false,
     "start_time": "2022-11-02T10:20:21.896363",
     "status": "completed"
    },
    "tags": []
   },
   "outputs": [],
   "source": [
    "# importing the libraries\n",
    "import pandas as pd\n",
    "import seaborn as sns\n",
    "import matplotlib.pyplot as plt\n",
    "pd.set_option('display.max_columns', None)\n",
    "pd.set_option('display.width', 500)\n",
    "pd.set_option('display.float_format', lambda x: '%.2f' % x)"
   ]
  },
  {
   "cell_type": "markdown",
   "id": "91db96ce",
   "metadata": {
    "papermill": {
     "duration": 0.013067,
     "end_time": "2022-11-02T10:20:23.139728",
     "exception": false,
     "start_time": "2022-11-02T10:20:23.126661",
     "status": "completed"
    },
    "tags": []
   },
   "source": [
    "## TASK 1: Answer the following questions."
   ]
  },
  {
   "cell_type": "markdown",
   "id": "e1e90cba",
   "metadata": {
    "papermill": {
     "duration": 0.012203,
     "end_time": "2022-11-02T10:20:23.164689",
     "exception": false,
     "start_time": "2022-11-02T10:20:23.152486",
     "status": "completed"
    },
    "tags": []
   },
   "source": [
    "### Question 1: Read the dataset and show the general information about the dataset."
   ]
  },
  {
   "cell_type": "code",
   "execution_count": 2,
   "id": "d5372305",
   "metadata": {
    "execution": {
     "iopub.execute_input": "2022-11-02T10:20:23.193963Z",
     "iopub.status.busy": "2022-11-02T10:20:23.193528Z",
     "iopub.status.idle": "2022-11-02T10:20:23.234988Z",
     "shell.execute_reply": "2022-11-02T10:20:23.233643Z"
    },
    "papermill": {
     "duration": 0.058641,
     "end_time": "2022-11-02T10:20:23.238143",
     "exception": false,
     "start_time": "2022-11-02T10:20:23.179502",
     "status": "completed"
    },
    "tags": []
   },
   "outputs": [
    {
     "data": {
      "text/html": [
       "<div>\n",
       "<style scoped>\n",
       "    .dataframe tbody tr th:only-of-type {\n",
       "        vertical-align: middle;\n",
       "    }\n",
       "\n",
       "    .dataframe tbody tr th {\n",
       "        vertical-align: top;\n",
       "    }\n",
       "\n",
       "    .dataframe thead th {\n",
       "        text-align: right;\n",
       "    }\n",
       "</style>\n",
       "<table border=\"1\" class=\"dataframe\">\n",
       "  <thead>\n",
       "    <tr style=\"text-align: right;\">\n",
       "      <th></th>\n",
       "      <th>PRICE</th>\n",
       "      <th>SOURCE</th>\n",
       "      <th>SEX</th>\n",
       "      <th>COUNTRY</th>\n",
       "      <th>AGE</th>\n",
       "    </tr>\n",
       "  </thead>\n",
       "  <tbody>\n",
       "    <tr>\n",
       "      <th>0</th>\n",
       "      <td>39</td>\n",
       "      <td>android</td>\n",
       "      <td>male</td>\n",
       "      <td>bra</td>\n",
       "      <td>17</td>\n",
       "    </tr>\n",
       "    <tr>\n",
       "      <th>1</th>\n",
       "      <td>39</td>\n",
       "      <td>android</td>\n",
       "      <td>male</td>\n",
       "      <td>bra</td>\n",
       "      <td>17</td>\n",
       "    </tr>\n",
       "    <tr>\n",
       "      <th>2</th>\n",
       "      <td>49</td>\n",
       "      <td>android</td>\n",
       "      <td>male</td>\n",
       "      <td>bra</td>\n",
       "      <td>17</td>\n",
       "    </tr>\n",
       "    <tr>\n",
       "      <th>3</th>\n",
       "      <td>29</td>\n",
       "      <td>android</td>\n",
       "      <td>male</td>\n",
       "      <td>tur</td>\n",
       "      <td>17</td>\n",
       "    </tr>\n",
       "    <tr>\n",
       "      <th>4</th>\n",
       "      <td>49</td>\n",
       "      <td>android</td>\n",
       "      <td>male</td>\n",
       "      <td>tur</td>\n",
       "      <td>17</td>\n",
       "    </tr>\n",
       "  </tbody>\n",
       "</table>\n",
       "</div>"
      ],
      "text/plain": [
       "   PRICE   SOURCE   SEX COUNTRY  AGE\n",
       "0     39  android  male     bra   17\n",
       "1     39  android  male     bra   17\n",
       "2     49  android  male     bra   17\n",
       "3     29  android  male     tur   17\n",
       "4     49  android  male     tur   17"
      ]
     },
     "execution_count": 2,
     "metadata": {},
     "output_type": "execute_result"
    }
   ],
   "source": [
    "# reading the dataset\n",
    "df = pd.read_csv('/kaggle/input/new-persona-dataset/persona.csv')\n",
    "df.head()"
   ]
  },
  {
   "cell_type": "code",
   "execution_count": 3,
   "id": "c9b68ea6",
   "metadata": {
    "execution": {
     "iopub.execute_input": "2022-11-02T10:20:23.266437Z",
     "iopub.status.busy": "2022-11-02T10:20:23.265952Z",
     "iopub.status.idle": "2022-11-02T10:20:23.320060Z",
     "shell.execute_reply": "2022-11-02T10:20:23.318304Z"
    },
    "papermill": {
     "duration": 0.072103,
     "end_time": "2022-11-02T10:20:23.323989",
     "exception": false,
     "start_time": "2022-11-02T10:20:23.251886",
     "status": "completed"
    },
    "tags": []
   },
   "outputs": [
    {
     "name": "stdout",
     "output_type": "stream",
     "text": [
      "##############################\n",
      "   PRICE   SOURCE   SEX COUNTRY  AGE\n",
      "0     39  android  male     bra   17\n",
      "1     39  android  male     bra   17\n",
      "2     49  android  male     bra   17\n",
      "3     29  android  male     tur   17\n",
      "4     49  android  male     tur   17\n",
      "\n",
      "##############################\n",
      "      PRICE   SOURCE     SEX COUNTRY  AGE\n",
      "4995     29  android  female     bra   31\n",
      "4996     29  android  female     bra   31\n",
      "4997     29  android  female     bra   31\n",
      "4998     39  android  female     bra   31\n",
      "4999     29  android  female     bra   31\n",
      "\n",
      "##############################\n",
      "(5000, 5)\n",
      "\n",
      "##############################\n",
      "<class 'pandas.core.frame.DataFrame'>\n",
      "Int64Index: 5000 entries, 0 to 4999\n",
      "Data columns (total 5 columns):\n",
      " #   Column   Non-Null Count  Dtype \n",
      "---  ------   --------------  ----- \n",
      " 0   PRICE    5000 non-null   int64 \n",
      " 1   SOURCE   5000 non-null   object\n",
      " 2   SEX      5000 non-null   object\n",
      " 3   COUNTRY  5000 non-null   object\n",
      " 4   AGE      5000 non-null   int64 \n",
      "dtypes: int64(2), object(3)\n",
      "memory usage: 234.4+ KB\n",
      "None\n",
      "\n",
      "##############################\n",
      "Index(['PRICE', 'SOURCE', 'SEX', 'COUNTRY', 'AGE'], dtype='object')\n",
      "\n",
      "##############################\n",
      "False\n",
      "\n",
      "##############################\n",
      "PRICE      0\n",
      "SOURCE     0\n",
      "SEX        0\n",
      "COUNTRY    0\n",
      "AGE        0\n",
      "dtype: int64\n",
      "\n",
      "##############################\n",
      "        count  mean   std   min    5%   10%   25%   50%   75%   90%   95%   99%  100%   max\n",
      "PRICE 5000.00 34.13 12.46  9.00 19.00 19.00 29.00 39.00 39.00 49.00 49.00 59.00 59.00 59.00\n",
      "AGE   5000.00 23.58  9.00 15.00 15.00 15.00 17.00 21.00 27.00 36.00 43.00 53.00 66.00 66.00\n"
     ]
    }
   ],
   "source": [
    "def check_df(dataframe, head=5):\n",
    "    print('##############################')\n",
    "    print(dataframe.head(head))\n",
    "    print('\\n##############################')\n",
    "    print(dataframe.tail(head))\n",
    "    print('\\n##############################')\n",
    "    print(dataframe.shape)\n",
    "    print('\\n##############################')\n",
    "    print(dataframe.info())\n",
    "    print('\\n##############################')\n",
    "    print(dataframe.columns)\n",
    "    print('\\n##############################')\n",
    "    print(dataframe.isnull().values.any())\n",
    "    print('\\n##############################')\n",
    "    print(dataframe.isnull().sum())\n",
    "    print('\\n##############################')\n",
    "    print(dataframe.describe([0.05, 0.1, 0.25, 0.50, 0.75, 0.90, 0.95, 0.99, 1]).T)\n",
    "\n",
    "check_df(df)"
   ]
  },
  {
   "cell_type": "markdown",
   "id": "c6a6f1c8",
   "metadata": {
    "papermill": {
     "duration": 0.012609,
     "end_time": "2022-11-02T10:20:23.350769",
     "exception": false,
     "start_time": "2022-11-02T10:20:23.338160",
     "status": "completed"
    },
    "tags": []
   },
   "source": [
    "### Question 2: How many unique SOURCE are there? What are their frequencies?"
   ]
  },
  {
   "cell_type": "code",
   "execution_count": 4,
   "id": "9b4b8e92",
   "metadata": {
    "execution": {
     "iopub.execute_input": "2022-11-02T10:20:23.378496Z",
     "iopub.status.busy": "2022-11-02T10:20:23.377970Z",
     "iopub.status.idle": "2022-11-02T10:20:23.386896Z",
     "shell.execute_reply": "2022-11-02T10:20:23.385714Z"
    },
    "papermill": {
     "duration": 0.025648,
     "end_time": "2022-11-02T10:20:23.389380",
     "exception": false,
     "start_time": "2022-11-02T10:20:23.363732",
     "status": "completed"
    },
    "tags": []
   },
   "outputs": [
    {
     "data": {
      "text/plain": [
       "2"
      ]
     },
     "execution_count": 4,
     "metadata": {},
     "output_type": "execute_result"
    }
   ],
   "source": [
    "df['SOURCE'].nunique()  # 2"
   ]
  },
  {
   "cell_type": "code",
   "execution_count": 5,
   "id": "4da1ac8a",
   "metadata": {
    "execution": {
     "iopub.execute_input": "2022-11-02T10:20:23.423311Z",
     "iopub.status.busy": "2022-11-02T10:20:23.422839Z",
     "iopub.status.idle": "2022-11-02T10:20:23.431767Z",
     "shell.execute_reply": "2022-11-02T10:20:23.430240Z"
    },
    "papermill": {
     "duration": 0.032187,
     "end_time": "2022-11-02T10:20:23.434574",
     "exception": false,
     "start_time": "2022-11-02T10:20:23.402387",
     "status": "completed"
    },
    "tags": []
   },
   "outputs": [
    {
     "data": {
      "text/plain": [
       "array(['android', 'ios'], dtype=object)"
      ]
     },
     "execution_count": 5,
     "metadata": {},
     "output_type": "execute_result"
    }
   ],
   "source": [
    "df['SOURCE'].unique()  # array(['android', 'ios'], dtype=object)"
   ]
  },
  {
   "cell_type": "code",
   "execution_count": 6,
   "id": "f0e142a9",
   "metadata": {
    "execution": {
     "iopub.execute_input": "2022-11-02T10:20:23.471343Z",
     "iopub.status.busy": "2022-11-02T10:20:23.470520Z",
     "iopub.status.idle": "2022-11-02T10:20:23.481637Z",
     "shell.execute_reply": "2022-11-02T10:20:23.480616Z"
    },
    "papermill": {
     "duration": 0.034046,
     "end_time": "2022-11-02T10:20:23.484809",
     "exception": false,
     "start_time": "2022-11-02T10:20:23.450763",
     "status": "completed"
    },
    "tags": []
   },
   "outputs": [
    {
     "data": {
      "text/plain": [
       "android    2974\n",
       "ios        2026\n",
       "Name: SOURCE, dtype: int64"
      ]
     },
     "execution_count": 6,
     "metadata": {},
     "output_type": "execute_result"
    }
   ],
   "source": [
    "df['SOURCE'].value_counts()"
   ]
  },
  {
   "cell_type": "code",
   "execution_count": 7,
   "id": "7e354855",
   "metadata": {
    "execution": {
     "iopub.execute_input": "2022-11-02T10:20:23.521090Z",
     "iopub.status.busy": "2022-11-02T10:20:23.520690Z",
     "iopub.status.idle": "2022-11-02T10:20:23.687726Z",
     "shell.execute_reply": "2022-11-02T10:20:23.686002Z"
    },
    "papermill": {
     "duration": 0.187632,
     "end_time": "2022-11-02T10:20:23.690560",
     "exception": false,
     "start_time": "2022-11-02T10:20:23.502928",
     "status": "completed"
    },
    "tags": []
   },
   "outputs": [
    {
     "data": {
      "image/png": "[encoded data removed]",
      "text/plain": [
       "<Figure size 432x288 with 1 Axes>"
      ]
     },
     "metadata": {
      "needs_background": "light"
     },
     "output_type": "display_data"
    }
   ],
   "source": [
    "sns.countplot(x=df['SOURCE'])\n",
    "plt.show(block=True)"
   ]
  },
  {
   "cell_type": "markdown",
   "id": "407a712f",
   "metadata": {
    "papermill": {
     "duration": 0.013024,
     "end_time": "2022-11-02T10:20:23.716891",
     "exception": false,
     "start_time": "2022-11-02T10:20:23.703867",
     "status": "completed"
    },
    "tags": []
   },
   "source": [
    "### Question 3: How many unique PRICEs are there?"
   ]
  },
  {
   "cell_type": "code",
   "execution_count": 8,
   "id": "f5e777a5",
   "metadata": {
    "execution": {
     "iopub.execute_input": "2022-11-02T10:20:23.745984Z",
     "iopub.status.busy": "2022-11-02T10:20:23.745298Z",
     "iopub.status.idle": "2022-11-02T10:20:23.754984Z",
     "shell.execute_reply": "2022-11-02T10:20:23.753829Z"
    },
    "papermill": {
     "duration": 0.027367,
     "end_time": "2022-11-02T10:20:23.757686",
     "exception": false,
     "start_time": "2022-11-02T10:20:23.730319",
     "status": "completed"
    },
    "tags": []
   },
   "outputs": [
    {
     "data": {
      "text/plain": [
       "6"
      ]
     },
     "execution_count": 8,
     "metadata": {},
     "output_type": "execute_result"
    }
   ],
   "source": [
    "df['PRICE'].nunique()    # 6"
   ]
  },
  {
   "cell_type": "code",
   "execution_count": 9,
   "id": "22dfd193",
   "metadata": {
    "execution": {
     "iopub.execute_input": "2022-11-02T10:20:23.786515Z",
     "iopub.status.busy": "2022-11-02T10:20:23.786087Z",
     "iopub.status.idle": "2022-11-02T10:20:23.794004Z",
     "shell.execute_reply": "2022-11-02T10:20:23.792701Z"
    },
    "papermill": {
     "duration": 0.025071,
     "end_time": "2022-11-02T10:20:23.796296",
     "exception": false,
     "start_time": "2022-11-02T10:20:23.771225",
     "status": "completed"
    },
    "tags": []
   },
   "outputs": [
    {
     "data": {
      "text/plain": [
       "array([39, 49, 29, 19, 59,  9])"
      ]
     },
     "execution_count": 9,
     "metadata": {},
     "output_type": "execute_result"
    }
   ],
   "source": [
    "df['PRICE'].unique() "
   ]
  },
  {
   "cell_type": "markdown",
   "id": "07948548",
   "metadata": {
    "papermill": {
     "duration": 0.013243,
     "end_time": "2022-11-02T10:20:23.823155",
     "exception": false,
     "start_time": "2022-11-02T10:20:23.809912",
     "status": "completed"
    },
    "tags": []
   },
   "source": [
    "### Question 4: How many sales were made from which PRICE?"
   ]
  },
  {
   "cell_type": "code",
   "execution_count": 10,
   "id": "c4089876",
   "metadata": {
    "execution": {
     "iopub.execute_input": "2022-11-02T10:20:23.852213Z",
     "iopub.status.busy": "2022-11-02T10:20:23.851761Z",
     "iopub.status.idle": "2022-11-02T10:20:23.861262Z",
     "shell.execute_reply": "2022-11-02T10:20:23.859921Z"
    },
    "papermill": {
     "duration": 0.026918,
     "end_time": "2022-11-02T10:20:23.863797",
     "exception": false,
     "start_time": "2022-11-02T10:20:23.836879",
     "status": "completed"
    },
    "tags": []
   },
   "outputs": [
    {
     "data": {
      "text/plain": [
       "29    1305\n",
       "39    1260\n",
       "49    1031\n",
       "19     992\n",
       "59     212\n",
       "9      200\n",
       "Name: PRICE, dtype: int64"
      ]
     },
     "execution_count": 10,
     "metadata": {},
     "output_type": "execute_result"
    }
   ],
   "source": [
    "df['PRICE'].value_counts()"
   ]
  },
  {
   "cell_type": "code",
   "execution_count": 11,
   "id": "b30e5f1b",
   "metadata": {
    "execution": {
     "iopub.execute_input": "2022-11-02T10:20:23.893023Z",
     "iopub.status.busy": "2022-11-02T10:20:23.892613Z",
     "iopub.status.idle": "2022-11-02T10:20:24.094989Z",
     "shell.execute_reply": "2022-11-02T10:20:24.093783Z"
    },
    "papermill": {
     "duration": 0.220449,
     "end_time": "2022-11-02T10:20:24.097963",
     "exception": false,
     "start_time": "2022-11-02T10:20:23.877514",
     "status": "completed"
    },
    "tags": []
   },
   "outputs": [
    {
     "data": {
      "image/png": "[encoded data removed]",
      "text/plain": [
       "<Figure size 432x288 with 1 Axes>"
      ]
     },
     "metadata": {
      "needs_background": "light"
     },
     "output_type": "display_data"
    }
   ],
   "source": [
    "sns.countplot(x=df['PRICE'])\n",
    "plt.show(block=True)"
   ]
  },
  {
   "cell_type": "markdown",
   "id": "e573f4ad",
   "metadata": {
    "papermill": {
     "duration": 0.013718,
     "end_time": "2022-11-02T10:20:24.125813",
     "exception": false,
     "start_time": "2022-11-02T10:20:24.112095",
     "status": "completed"
    },
    "tags": []
   },
   "source": [
    "### Question 5: How many sales were made from which country?"
   ]
  },
  {
   "cell_type": "code",
   "execution_count": 12,
   "id": "6a00f95d",
   "metadata": {
    "execution": {
     "iopub.execute_input": "2022-11-02T10:20:24.156175Z",
     "iopub.status.busy": "2022-11-02T10:20:24.155360Z",
     "iopub.status.idle": "2022-11-02T10:20:24.164055Z",
     "shell.execute_reply": "2022-11-02T10:20:24.162660Z"
    },
    "papermill": {
     "duration": 0.026919,
     "end_time": "2022-11-02T10:20:24.166776",
     "exception": false,
     "start_time": "2022-11-02T10:20:24.139857",
     "status": "completed"
    },
    "tags": []
   },
   "outputs": [
    {
     "data": {
      "text/plain": [
       "usa    2065\n",
       "bra    1496\n",
       "deu     455\n",
       "tur     451\n",
       "fra     303\n",
       "can     230\n",
       "Name: COUNTRY, dtype: int64"
      ]
     },
     "execution_count": 12,
     "metadata": {},
     "output_type": "execute_result"
    }
   ],
   "source": [
    "df['COUNTRY'].value_counts()"
   ]
  },
  {
   "cell_type": "code",
   "execution_count": 13,
   "id": "e65e2b04",
   "metadata": {
    "execution": {
     "iopub.execute_input": "2022-11-02T10:20:24.196863Z",
     "iopub.status.busy": "2022-11-02T10:20:24.196397Z",
     "iopub.status.idle": "2022-11-02T10:20:24.404281Z",
     "shell.execute_reply": "2022-11-02T10:20:24.403309Z"
    },
    "papermill": {
     "duration": 0.226013,
     "end_time": "2022-11-02T10:20:24.406914",
     "exception": false,
     "start_time": "2022-11-02T10:20:24.180901",
     "status": "completed"
    },
    "tags": []
   },
   "outputs": [
    {
     "data": {
      "image/png": "[encoded data removed]",
      "text/plain": [
       "<Figure size 432x288 with 1 Axes>"
      ]
     },
     "metadata": {
      "needs_background": "light"
     },
     "output_type": "display_data"
    }
   ],
   "source": [
    "sns.countplot(x=df['COUNTRY'])\n",
    "plt.show(block=True)"
   ]
  },
  {
   "cell_type": "markdown",
   "id": "c388d335",
   "metadata": {
    "papermill": {
     "duration": 0.013937,
     "end_time": "2022-11-02T10:20:24.435289",
     "exception": false,
     "start_time": "2022-11-02T10:20:24.421352",
     "status": "completed"
    },
    "tags": []
   },
   "source": [
    "### Question 6: How much was earned in total from sales by country?"
   ]
  },
  {
   "cell_type": "code",
   "execution_count": 14,
   "id": "0eb4f3f9",
   "metadata": {
    "execution": {
     "iopub.execute_input": "2022-11-02T10:20:24.467168Z",
     "iopub.status.busy": "2022-11-02T10:20:24.466482Z",
     "iopub.status.idle": "2022-11-02T10:20:24.480089Z",
     "shell.execute_reply": "2022-11-02T10:20:24.478778Z"
    },
    "papermill": {
     "duration": 0.032871,
     "end_time": "2022-11-02T10:20:24.482495",
     "exception": false,
     "start_time": "2022-11-02T10:20:24.449624",
     "status": "completed"
    },
    "tags": []
   },
   "outputs": [
    {
     "data": {
      "text/html": [
       "<div>\n",
       "<style scoped>\n",
       "    .dataframe tbody tr th:only-of-type {\n",
       "        vertical-align: middle;\n",
       "    }\n",
       "\n",
       "    .dataframe tbody tr th {\n",
       "        vertical-align: top;\n",
       "    }\n",
       "\n",
       "    .dataframe thead th {\n",
       "        text-align: right;\n",
       "    }\n",
       "</style>\n",
       "<table border=\"1\" class=\"dataframe\">\n",
       "  <thead>\n",
       "    <tr style=\"text-align: right;\">\n",
       "      <th></th>\n",
       "      <th>PRICE</th>\n",
       "    </tr>\n",
       "    <tr>\n",
       "      <th>COUNTRY</th>\n",
       "      <th></th>\n",
       "    </tr>\n",
       "  </thead>\n",
       "  <tbody>\n",
       "    <tr>\n",
       "      <th>bra</th>\n",
       "      <td>51354</td>\n",
       "    </tr>\n",
       "    <tr>\n",
       "      <th>can</th>\n",
       "      <td>7730</td>\n",
       "    </tr>\n",
       "    <tr>\n",
       "      <th>deu</th>\n",
       "      <td>15485</td>\n",
       "    </tr>\n",
       "    <tr>\n",
       "      <th>fra</th>\n",
       "      <td>10177</td>\n",
       "    </tr>\n",
       "    <tr>\n",
       "      <th>tur</th>\n",
       "      <td>15689</td>\n",
       "    </tr>\n",
       "    <tr>\n",
       "      <th>usa</th>\n",
       "      <td>70225</td>\n",
       "    </tr>\n",
       "  </tbody>\n",
       "</table>\n",
       "</div>"
      ],
      "text/plain": [
       "         PRICE\n",
       "COUNTRY       \n",
       "bra      51354\n",
       "can       7730\n",
       "deu      15485\n",
       "fra      10177\n",
       "tur      15689\n",
       "usa      70225"
      ]
     },
     "execution_count": 14,
     "metadata": {},
     "output_type": "execute_result"
    }
   ],
   "source": [
    "df.groupby('COUNTRY').agg({'PRICE': 'sum'})"
   ]
  },
  {
   "cell_type": "code",
   "execution_count": 15,
   "id": "5d2e9753",
   "metadata": {
    "execution": {
     "iopub.execute_input": "2022-11-02T10:20:24.514113Z",
     "iopub.status.busy": "2022-11-02T10:20:24.513449Z",
     "iopub.status.idle": "2022-11-02T10:20:24.774556Z",
     "shell.execute_reply": "2022-11-02T10:20:24.773295Z"
    },
    "papermill": {
     "duration": 0.280238,
     "end_time": "2022-11-02T10:20:24.777092",
     "exception": false,
     "start_time": "2022-11-02T10:20:24.496854",
     "status": "completed"
    },
    "tags": []
   },
   "outputs": [
    {
     "data": {
      "image/png": "[encoded data removed]",
      "text/plain": [
       "<Figure size 432x288 with 1 Axes>"
      ]
     },
     "metadata": {
      "needs_background": "light"
     },
     "output_type": "display_data"
    }
   ],
   "source": [
    "df.groupby('COUNTRY').agg({'PRICE': 'sum'}).plot(kind='bar');"
   ]
  },
  {
   "cell_type": "markdown",
   "id": "1b3d2644",
   "metadata": {
    "papermill": {
     "duration": 0.014338,
     "end_time": "2022-11-02T10:20:24.806061",
     "exception": false,
     "start_time": "2022-11-02T10:20:24.791723",
     "status": "completed"
    },
    "tags": []
   },
   "source": [
    "### Question 7: What are the sales numbers according to SOURCE types?"
   ]
  },
  {
   "cell_type": "code",
   "execution_count": 16,
   "id": "58e3395f",
   "metadata": {
    "execution": {
     "iopub.execute_input": "2022-11-02T10:20:24.838583Z",
     "iopub.status.busy": "2022-11-02T10:20:24.837715Z",
     "iopub.status.idle": "2022-11-02T10:20:24.850449Z",
     "shell.execute_reply": "2022-11-02T10:20:24.849414Z"
    },
    "papermill": {
     "duration": 0.032279,
     "end_time": "2022-11-02T10:20:24.853186",
     "exception": false,
     "start_time": "2022-11-02T10:20:24.820907",
     "status": "completed"
    },
    "tags": []
   },
   "outputs": [
    {
     "data": {
      "text/html": [
       "<div>\n",
       "<style scoped>\n",
       "    .dataframe tbody tr th:only-of-type {\n",
       "        vertical-align: middle;\n",
       "    }\n",
       "\n",
       "    .dataframe tbody tr th {\n",
       "        vertical-align: top;\n",
       "    }\n",
       "\n",
       "    .dataframe thead th {\n",
       "        text-align: right;\n",
       "    }\n",
       "</style>\n",
       "<table border=\"1\" class=\"dataframe\">\n",
       "  <thead>\n",
       "    <tr style=\"text-align: right;\">\n",
       "      <th></th>\n",
       "      <th>PRICE</th>\n",
       "    </tr>\n",
       "    <tr>\n",
       "      <th>SOURCE</th>\n",
       "      <th></th>\n",
       "    </tr>\n",
       "  </thead>\n",
       "  <tbody>\n",
       "    <tr>\n",
       "      <th>android</th>\n",
       "      <td>2974</td>\n",
       "    </tr>\n",
       "    <tr>\n",
       "      <th>ios</th>\n",
       "      <td>2026</td>\n",
       "    </tr>\n",
       "  </tbody>\n",
       "</table>\n",
       "</div>"
      ],
      "text/plain": [
       "         PRICE\n",
       "SOURCE        \n",
       "android   2974\n",
       "ios       2026"
      ]
     },
     "execution_count": 16,
     "metadata": {},
     "output_type": "execute_result"
    }
   ],
   "source": [
    "df.groupby('SOURCE').agg({'PRICE': 'count'})"
   ]
  },
  {
   "cell_type": "code",
   "execution_count": 17,
   "id": "beec0908",
   "metadata": {
    "execution": {
     "iopub.execute_input": "2022-11-02T10:20:24.886374Z",
     "iopub.status.busy": "2022-11-02T10:20:24.885036Z",
     "iopub.status.idle": "2022-11-02T10:20:25.099093Z",
     "shell.execute_reply": "2022-11-02T10:20:25.097875Z"
    },
    "papermill": {
     "duration": 0.233233,
     "end_time": "2022-11-02T10:20:25.101727",
     "exception": false,
     "start_time": "2022-11-02T10:20:24.868494",
     "status": "completed"
    },
    "tags": []
   },
   "outputs": [
    {
     "data": {
      "image/png": "[encoded data removed]",
      "text/plain": [
       "<Figure size 432x288 with 1 Axes>"
      ]
     },
     "metadata": {
      "needs_background": "light"
     },
     "output_type": "display_data"
    }
   ],
   "source": [
    "df.groupby('SOURCE').agg({'PRICE': 'count'}).plot(kind='bar');"
   ]
  },
  {
   "cell_type": "markdown",
   "id": "e5e314a0",
   "metadata": {
    "papermill": {
     "duration": 0.015076,
     "end_time": "2022-11-02T10:20:25.132639",
     "exception": false,
     "start_time": "2022-11-02T10:20:25.117563",
     "status": "completed"
    },
    "tags": []
   },
   "source": [
    "### Question 8: What are the PRICE averages by country?"
   ]
  },
  {
   "cell_type": "code",
   "execution_count": 18,
   "id": "276eeb15",
   "metadata": {
    "execution": {
     "iopub.execute_input": "2022-11-02T10:20:25.164782Z",
     "iopub.status.busy": "2022-11-02T10:20:25.164355Z",
     "iopub.status.idle": "2022-11-02T10:20:25.179714Z",
     "shell.execute_reply": "2022-11-02T10:20:25.178375Z"
    },
    "papermill": {
     "duration": 0.034588,
     "end_time": "2022-11-02T10:20:25.182369",
     "exception": false,
     "start_time": "2022-11-02T10:20:25.147781",
     "status": "completed"
    },
    "tags": []
   },
   "outputs": [
    {
     "data": {
      "text/html": [
       "<div>\n",
       "<style scoped>\n",
       "    .dataframe tbody tr th:only-of-type {\n",
       "        vertical-align: middle;\n",
       "    }\n",
       "\n",
       "    .dataframe tbody tr th {\n",
       "        vertical-align: top;\n",
       "    }\n",
       "\n",
       "    .dataframe thead th {\n",
       "        text-align: right;\n",
       "    }\n",
       "</style>\n",
       "<table border=\"1\" class=\"dataframe\">\n",
       "  <thead>\n",
       "    <tr style=\"text-align: right;\">\n",
       "      <th></th>\n",
       "      <th>PRICE</th>\n",
       "    </tr>\n",
       "    <tr>\n",
       "      <th>COUNTRY</th>\n",
       "      <th></th>\n",
       "    </tr>\n",
       "  </thead>\n",
       "  <tbody>\n",
       "    <tr>\n",
       "      <th>bra</th>\n",
       "      <td>34.33</td>\n",
       "    </tr>\n",
       "    <tr>\n",
       "      <th>can</th>\n",
       "      <td>33.61</td>\n",
       "    </tr>\n",
       "    <tr>\n",
       "      <th>deu</th>\n",
       "      <td>34.03</td>\n",
       "    </tr>\n",
       "    <tr>\n",
       "      <th>fra</th>\n",
       "      <td>33.59</td>\n",
       "    </tr>\n",
       "    <tr>\n",
       "      <th>tur</th>\n",
       "      <td>34.79</td>\n",
       "    </tr>\n",
       "    <tr>\n",
       "      <th>usa</th>\n",
       "      <td>34.01</td>\n",
       "    </tr>\n",
       "  </tbody>\n",
       "</table>\n",
       "</div>"
      ],
      "text/plain": [
       "         PRICE\n",
       "COUNTRY       \n",
       "bra      34.33\n",
       "can      33.61\n",
       "deu      34.03\n",
       "fra      33.59\n",
       "tur      34.79\n",
       "usa      34.01"
      ]
     },
     "execution_count": 18,
     "metadata": {},
     "output_type": "execute_result"
    }
   ],
   "source": [
    "df.groupby('COUNTRY').agg({'PRICE': 'mean'})"
   ]
  },
  {
   "cell_type": "code",
   "execution_count": 19,
   "id": "9d705c17",
   "metadata": {
    "execution": {
     "iopub.execute_input": "2022-11-02T10:20:25.216175Z",
     "iopub.status.busy": "2022-11-02T10:20:25.215230Z",
     "iopub.status.idle": "2022-11-02T10:20:25.464528Z",
     "shell.execute_reply": "2022-11-02T10:20:25.463255Z"
    },
    "papermill": {
     "duration": 0.2698,
     "end_time": "2022-11-02T10:20:25.467400",
     "exception": false,
     "start_time": "2022-11-02T10:20:25.197600",
     "status": "completed"
    },
    "tags": []
   },
   "outputs": [
    {
     "data": {
      "image/png": "[encoded data removed]",
      "text/plain": [
       "<Figure size 432x288 with 1 Axes>"
      ]
     },
     "metadata": {
      "needs_background": "light"
     },
     "output_type": "display_data"
    }
   ],
   "source": [
    "df.groupby('COUNTRY').agg({'PRICE': 'mean'}).plot(kind='bar');"
   ]
  },
  {
   "cell_type": "markdown",
   "id": "329477f2",
   "metadata": {
    "papermill": {
     "duration": 0.015205,
     "end_time": "2022-11-02T10:20:25.498251",
     "exception": false,
     "start_time": "2022-11-02T10:20:25.483046",
     "status": "completed"
    },
    "tags": []
   },
   "source": [
    "### Question 9: What are the PRICE averages according to SOURCEs?"
   ]
  },
  {
   "cell_type": "code",
   "execution_count": 20,
   "id": "69cdc4b6",
   "metadata": {
    "execution": {
     "iopub.execute_input": "2022-11-02T10:20:25.531352Z",
     "iopub.status.busy": "2022-11-02T10:20:25.530893Z",
     "iopub.status.idle": "2022-11-02T10:20:25.544797Z",
     "shell.execute_reply": "2022-11-02T10:20:25.543564Z"
    },
    "papermill": {
     "duration": 0.033698,
     "end_time": "2022-11-02T10:20:25.547579",
     "exception": false,
     "start_time": "2022-11-02T10:20:25.513881",
     "status": "completed"
    },
    "tags": []
   },
   "outputs": [
    {
     "data": {
      "text/html": [
       "<div>\n",
       "<style scoped>\n",
       "    .dataframe tbody tr th:only-of-type {\n",
       "        vertical-align: middle;\n",
       "    }\n",
       "\n",
       "    .dataframe tbody tr th {\n",
       "        vertical-align: top;\n",
       "    }\n",
       "\n",
       "    .dataframe thead th {\n",
       "        text-align: right;\n",
       "    }\n",
       "</style>\n",
       "<table border=\"1\" class=\"dataframe\">\n",
       "  <thead>\n",
       "    <tr style=\"text-align: right;\">\n",
       "      <th></th>\n",
       "      <th>PRICE</th>\n",
       "    </tr>\n",
       "    <tr>\n",
       "      <th>SOURCE</th>\n",
       "      <th></th>\n",
       "    </tr>\n",
       "  </thead>\n",
       "  <tbody>\n",
       "    <tr>\n",
       "      <th>android</th>\n",
       "      <td>34.17</td>\n",
       "    </tr>\n",
       "    <tr>\n",
       "      <th>ios</th>\n",
       "      <td>34.07</td>\n",
       "    </tr>\n",
       "  </tbody>\n",
       "</table>\n",
       "</div>"
      ],
      "text/plain": [
       "         PRICE\n",
       "SOURCE        \n",
       "android  34.17\n",
       "ios      34.07"
      ]
     },
     "execution_count": 20,
     "metadata": {},
     "output_type": "execute_result"
    }
   ],
   "source": [
    "df.groupby('SOURCE').agg({'PRICE': 'mean'})"
   ]
  },
  {
   "cell_type": "code",
   "execution_count": 21,
   "id": "06479b17",
   "metadata": {
    "execution": {
     "iopub.execute_input": "2022-11-02T10:20:25.582058Z",
     "iopub.status.busy": "2022-11-02T10:20:25.581625Z",
     "iopub.status.idle": "2022-11-02T10:20:25.800231Z",
     "shell.execute_reply": "2022-11-02T10:20:25.798915Z"
    },
    "papermill": {
     "duration": 0.23846,
     "end_time": "2022-11-02T10:20:25.802883",
     "exception": false,
     "start_time": "2022-11-02T10:20:25.564423",
     "status": "completed"
    },
    "tags": []
   },
   "outputs": [
    {
     "data": {
      "image/png": "[encoded data removed]",
      "text/plain": [
       "<Figure size 432x288 with 1 Axes>"
      ]
     },
     "metadata": {
      "needs_background": "light"
     },
     "output_type": "display_data"
    }
   ],
   "source": [
    "df.groupby('SOURCE').agg({'PRICE': 'mean'}).plot(kind='bar');"
   ]
  },
  {
   "cell_type": "markdown",
   "id": "7de21185",
   "metadata": {
    "papermill": {
     "duration": 0.016751,
     "end_time": "2022-11-02T10:20:25.836280",
     "exception": false,
     "start_time": "2022-11-02T10:20:25.819529",
     "status": "completed"
    },
    "tags": []
   },
   "source": [
    "### Question 10: What are the PRICE averages in the COUNTRY-SOURCE breakdown?"
   ]
  },
  {
   "cell_type": "code",
   "execution_count": 22,
   "id": "250db1a1",
   "metadata": {
    "execution": {
     "iopub.execute_input": "2022-11-02T10:20:25.870996Z",
     "iopub.status.busy": "2022-11-02T10:20:25.869675Z",
     "iopub.status.idle": "2022-11-02T10:20:25.886394Z",
     "shell.execute_reply": "2022-11-02T10:20:25.884766Z"
    },
    "papermill": {
     "duration": 0.036598,
     "end_time": "2022-11-02T10:20:25.889058",
     "exception": false,
     "start_time": "2022-11-02T10:20:25.852460",
     "status": "completed"
    },
    "tags": []
   },
   "outputs": [
    {
     "data": {
      "text/html": [
       "<div>\n",
       "<style scoped>\n",
       "    .dataframe tbody tr th:only-of-type {\n",
       "        vertical-align: middle;\n",
       "    }\n",
       "\n",
       "    .dataframe tbody tr th {\n",
       "        vertical-align: top;\n",
       "    }\n",
       "\n",
       "    .dataframe thead th {\n",
       "        text-align: right;\n",
       "    }\n",
       "</style>\n",
       "<table border=\"1\" class=\"dataframe\">\n",
       "  <thead>\n",
       "    <tr style=\"text-align: right;\">\n",
       "      <th></th>\n",
       "      <th></th>\n",
       "      <th>PRICE</th>\n",
       "    </tr>\n",
       "    <tr>\n",
       "      <th>COUNTRY</th>\n",
       "      <th>SOURCE</th>\n",
       "      <th></th>\n",
       "    </tr>\n",
       "  </thead>\n",
       "  <tbody>\n",
       "    <tr>\n",
       "      <th rowspan=\"2\" valign=\"top\">bra</th>\n",
       "      <th>android</th>\n",
       "      <td>34.39</td>\n",
       "    </tr>\n",
       "    <tr>\n",
       "      <th>ios</th>\n",
       "      <td>34.22</td>\n",
       "    </tr>\n",
       "    <tr>\n",
       "      <th rowspan=\"2\" valign=\"top\">can</th>\n",
       "      <th>android</th>\n",
       "      <td>33.33</td>\n",
       "    </tr>\n",
       "    <tr>\n",
       "      <th>ios</th>\n",
       "      <td>33.95</td>\n",
       "    </tr>\n",
       "    <tr>\n",
       "      <th rowspan=\"2\" valign=\"top\">deu</th>\n",
       "      <th>android</th>\n",
       "      <td>33.87</td>\n",
       "    </tr>\n",
       "    <tr>\n",
       "      <th>ios</th>\n",
       "      <td>34.27</td>\n",
       "    </tr>\n",
       "    <tr>\n",
       "      <th rowspan=\"2\" valign=\"top\">fra</th>\n",
       "      <th>android</th>\n",
       "      <td>34.31</td>\n",
       "    </tr>\n",
       "    <tr>\n",
       "      <th>ios</th>\n",
       "      <td>32.78</td>\n",
       "    </tr>\n",
       "    <tr>\n",
       "      <th rowspan=\"2\" valign=\"top\">tur</th>\n",
       "      <th>android</th>\n",
       "      <td>36.23</td>\n",
       "    </tr>\n",
       "    <tr>\n",
       "      <th>ios</th>\n",
       "      <td>33.27</td>\n",
       "    </tr>\n",
       "    <tr>\n",
       "      <th rowspan=\"2\" valign=\"top\">usa</th>\n",
       "      <th>android</th>\n",
       "      <td>33.76</td>\n",
       "    </tr>\n",
       "    <tr>\n",
       "      <th>ios</th>\n",
       "      <td>34.37</td>\n",
       "    </tr>\n",
       "  </tbody>\n",
       "</table>\n",
       "</div>"
      ],
      "text/plain": [
       "                 PRICE\n",
       "COUNTRY SOURCE        \n",
       "bra     android  34.39\n",
       "        ios      34.22\n",
       "can     android  33.33\n",
       "        ios      33.95\n",
       "deu     android  33.87\n",
       "        ios      34.27\n",
       "fra     android  34.31\n",
       "        ios      32.78\n",
       "tur     android  36.23\n",
       "        ios      33.27\n",
       "usa     android  33.76\n",
       "        ios      34.37"
      ]
     },
     "execution_count": 22,
     "metadata": {},
     "output_type": "execute_result"
    }
   ],
   "source": [
    "df.groupby(['COUNTRY', 'SOURCE']).agg({'PRICE': 'mean'})"
   ]
  },
  {
   "cell_type": "code",
   "execution_count": 23,
   "id": "945eee6b",
   "metadata": {
    "execution": {
     "iopub.execute_input": "2022-11-02T10:20:25.924138Z",
     "iopub.status.busy": "2022-11-02T10:20:25.922996Z",
     "iopub.status.idle": "2022-11-02T10:20:26.228997Z",
     "shell.execute_reply": "2022-11-02T10:20:26.228058Z"
    },
    "papermill": {
     "duration": 0.325999,
     "end_time": "2022-11-02T10:20:26.231447",
     "exception": false,
     "start_time": "2022-11-02T10:20:25.905448",
     "status": "completed"
    },
    "tags": []
   },
   "outputs": [
    {
     "data": {
      "image/png": "[encoded data removed]",
      "text/plain": [
       "<Figure size 432x288 with 1 Axes>"
      ]
     },
     "metadata": {
      "needs_background": "light"
     },
     "output_type": "display_data"
    }
   ],
   "source": [
    "df.groupby(['COUNTRY', 'SOURCE']).agg({'PRICE': 'mean'}).plot(kind='bar');"
   ]
  },
  {
   "cell_type": "markdown",
   "id": "6bf92646",
   "metadata": {
    "papermill": {
     "duration": 0.016203,
     "end_time": "2022-11-02T10:20:26.264169",
     "exception": false,
     "start_time": "2022-11-02T10:20:26.247966",
     "status": "completed"
    },
    "tags": []
   },
   "source": [
    "## TASK 2: What are the average earnings in breakdown of COUNTRY, SOURCE, SEX, AGE?"
   ]
  },
  {
   "cell_type": "code",
   "execution_count": 24,
   "id": "0730977e",
   "metadata": {
    "execution": {
     "iopub.execute_input": "2022-11-02T10:20:26.298935Z",
     "iopub.status.busy": "2022-11-02T10:20:26.298433Z",
     "iopub.status.idle": "2022-11-02T10:20:26.323257Z",
     "shell.execute_reply": "2022-11-02T10:20:26.321900Z"
    },
    "papermill": {
     "duration": 0.045053,
     "end_time": "2022-11-02T10:20:26.325718",
     "exception": false,
     "start_time": "2022-11-02T10:20:26.280665",
     "status": "completed"
    },
    "tags": []
   },
   "outputs": [
    {
     "data": {
      "text/html": [
       "<div>\n",
       "<style scoped>\n",
       "    .dataframe tbody tr th:only-of-type {\n",
       "        vertical-align: middle;\n",
       "    }\n",
       "\n",
       "    .dataframe tbody tr th {\n",
       "        vertical-align: top;\n",
       "    }\n",
       "\n",
       "    .dataframe thead th {\n",
       "        text-align: right;\n",
       "    }\n",
       "</style>\n",
       "<table border=\"1\" class=\"dataframe\">\n",
       "  <thead>\n",
       "    <tr style=\"text-align: right;\">\n",
       "      <th></th>\n",
       "      <th></th>\n",
       "      <th></th>\n",
       "      <th></th>\n",
       "      <th>PRICE</th>\n",
       "    </tr>\n",
       "    <tr>\n",
       "      <th>COUNTRY</th>\n",
       "      <th>SOURCE</th>\n",
       "      <th>SEX</th>\n",
       "      <th>AGE</th>\n",
       "      <th></th>\n",
       "    </tr>\n",
       "  </thead>\n",
       "  <tbody>\n",
       "    <tr>\n",
       "      <th rowspan=\"5\" valign=\"top\">bra</th>\n",
       "      <th rowspan=\"5\" valign=\"top\">android</th>\n",
       "      <th rowspan=\"5\" valign=\"top\">female</th>\n",
       "      <th>15</th>\n",
       "      <td>38.71</td>\n",
       "    </tr>\n",
       "    <tr>\n",
       "      <th>16</th>\n",
       "      <td>35.94</td>\n",
       "    </tr>\n",
       "    <tr>\n",
       "      <th>17</th>\n",
       "      <td>35.67</td>\n",
       "    </tr>\n",
       "    <tr>\n",
       "      <th>18</th>\n",
       "      <td>32.26</td>\n",
       "    </tr>\n",
       "    <tr>\n",
       "      <th>19</th>\n",
       "      <td>35.21</td>\n",
       "    </tr>\n",
       "    <tr>\n",
       "      <th>...</th>\n",
       "      <th>...</th>\n",
       "      <th>...</th>\n",
       "      <th>...</th>\n",
       "      <td>...</td>\n",
       "    </tr>\n",
       "    <tr>\n",
       "      <th rowspan=\"5\" valign=\"top\">usa</th>\n",
       "      <th rowspan=\"5\" valign=\"top\">ios</th>\n",
       "      <th rowspan=\"5\" valign=\"top\">male</th>\n",
       "      <th>42</th>\n",
       "      <td>30.25</td>\n",
       "    </tr>\n",
       "    <tr>\n",
       "      <th>50</th>\n",
       "      <td>39.00</td>\n",
       "    </tr>\n",
       "    <tr>\n",
       "      <th>53</th>\n",
       "      <td>34.00</td>\n",
       "    </tr>\n",
       "    <tr>\n",
       "      <th>55</th>\n",
       "      <td>29.00</td>\n",
       "    </tr>\n",
       "    <tr>\n",
       "      <th>59</th>\n",
       "      <td>46.50</td>\n",
       "    </tr>\n",
       "  </tbody>\n",
       "</table>\n",
       "<p>348 rows × 1 columns</p>\n",
       "</div>"
      ],
      "text/plain": [
       "                            PRICE\n",
       "COUNTRY SOURCE  SEX    AGE       \n",
       "bra     android female 15   38.71\n",
       "                       16   35.94\n",
       "                       17   35.67\n",
       "                       18   32.26\n",
       "                       19   35.21\n",
       "...                           ...\n",
       "usa     ios     male   42   30.25\n",
       "                       50   39.00\n",
       "                       53   34.00\n",
       "                       55   29.00\n",
       "                       59   46.50\n",
       "\n",
       "[348 rows x 1 columns]"
      ]
     },
     "execution_count": 24,
     "metadata": {},
     "output_type": "execute_result"
    }
   ],
   "source": [
    "df.groupby(['COUNTRY', 'SOURCE', 'SEX', 'AGE']).agg({'PRICE': 'mean'})"
   ]
  },
  {
   "cell_type": "markdown",
   "id": "0d09793f",
   "metadata": {
    "papermill": {
     "duration": 0.017663,
     "end_time": "2022-11-02T10:20:26.360695",
     "exception": false,
     "start_time": "2022-11-02T10:20:26.343032",
     "status": "completed"
    },
    "tags": []
   },
   "source": [
    "## TASK 3: Sort the output by PRICE.\n",
    "\n",
    "* To better see the output from the previous question, apply the sort_values method to PRICE in descending order.\n",
    "* Save the output as age_df."
   ]
  },
  {
   "cell_type": "code",
   "execution_count": 25,
   "id": "cd15d3df",
   "metadata": {
    "execution": {
     "iopub.execute_input": "2022-11-02T10:20:26.396641Z",
     "iopub.status.busy": "2022-11-02T10:20:26.395649Z",
     "iopub.status.idle": "2022-11-02T10:20:26.414638Z",
     "shell.execute_reply": "2022-11-02T10:20:26.413306Z"
    },
    "papermill": {
     "duration": 0.039805,
     "end_time": "2022-11-02T10:20:26.417230",
     "exception": false,
     "start_time": "2022-11-02T10:20:26.377425",
     "status": "completed"
    },
    "tags": []
   },
   "outputs": [
    {
     "data": {
      "text/html": [
       "<div>\n",
       "<style scoped>\n",
       "    .dataframe tbody tr th:only-of-type {\n",
       "        vertical-align: middle;\n",
       "    }\n",
       "\n",
       "    .dataframe tbody tr th {\n",
       "        vertical-align: top;\n",
       "    }\n",
       "\n",
       "    .dataframe thead th {\n",
       "        text-align: right;\n",
       "    }\n",
       "</style>\n",
       "<table border=\"1\" class=\"dataframe\">\n",
       "  <thead>\n",
       "    <tr style=\"text-align: right;\">\n",
       "      <th></th>\n",
       "      <th></th>\n",
       "      <th></th>\n",
       "      <th></th>\n",
       "      <th>PRICE</th>\n",
       "    </tr>\n",
       "    <tr>\n",
       "      <th>COUNTRY</th>\n",
       "      <th>SOURCE</th>\n",
       "      <th>SEX</th>\n",
       "      <th>AGE</th>\n",
       "      <th></th>\n",
       "    </tr>\n",
       "  </thead>\n",
       "  <tbody>\n",
       "    <tr>\n",
       "      <th>bra</th>\n",
       "      <th>android</th>\n",
       "      <th>male</th>\n",
       "      <th>46</th>\n",
       "      <td>59.00</td>\n",
       "    </tr>\n",
       "    <tr>\n",
       "      <th>usa</th>\n",
       "      <th>android</th>\n",
       "      <th>male</th>\n",
       "      <th>36</th>\n",
       "      <td>59.00</td>\n",
       "    </tr>\n",
       "    <tr>\n",
       "      <th>fra</th>\n",
       "      <th>android</th>\n",
       "      <th>female</th>\n",
       "      <th>24</th>\n",
       "      <td>59.00</td>\n",
       "    </tr>\n",
       "    <tr>\n",
       "      <th>usa</th>\n",
       "      <th>ios</th>\n",
       "      <th>male</th>\n",
       "      <th>32</th>\n",
       "      <td>54.00</td>\n",
       "    </tr>\n",
       "    <tr>\n",
       "      <th>deu</th>\n",
       "      <th>android</th>\n",
       "      <th>female</th>\n",
       "      <th>36</th>\n",
       "      <td>49.00</td>\n",
       "    </tr>\n",
       "  </tbody>\n",
       "</table>\n",
       "</div>"
      ],
      "text/plain": [
       "                            PRICE\n",
       "COUNTRY SOURCE  SEX    AGE       \n",
       "bra     android male   46   59.00\n",
       "usa     android male   36   59.00\n",
       "fra     android female 24   59.00\n",
       "usa     ios     male   32   54.00\n",
       "deu     android female 36   49.00"
      ]
     },
     "execution_count": 25,
     "metadata": {},
     "output_type": "execute_result"
    }
   ],
   "source": [
    "age_df = df.groupby(['COUNTRY', 'SOURCE', 'SEX', 'AGE']).agg({'PRICE': 'mean'}).sort_values('PRICE', ascending=False)\n",
    "age_df.head()"
   ]
  },
  {
   "cell_type": "markdown",
   "id": "b79ba777",
   "metadata": {
    "papermill": {
     "duration": 0.017003,
     "end_time": "2022-11-02T10:20:26.451561",
     "exception": false,
     "start_time": "2022-11-02T10:20:26.434558",
     "status": "completed"
    },
    "tags": []
   },
   "source": [
    "### TASK 4: Convert the names in the index to variable names.\n",
    "* All variables except PRICE in the output of the third question are index names.\n",
    "* Convert these names to variable names.\n",
    "* Hint: reset_index()\n",
    "* agg_df.reset_index(inplace=True)"
   ]
  },
  {
   "cell_type": "code",
   "execution_count": 26,
   "id": "de41544e",
   "metadata": {
    "execution": {
     "iopub.execute_input": "2022-11-02T10:20:26.488921Z",
     "iopub.status.busy": "2022-11-02T10:20:26.487547Z",
     "iopub.status.idle": "2022-11-02T10:20:26.503439Z",
     "shell.execute_reply": "2022-11-02T10:20:26.502131Z"
    },
    "papermill": {
     "duration": 0.037255,
     "end_time": "2022-11-02T10:20:26.506109",
     "exception": false,
     "start_time": "2022-11-02T10:20:26.468854",
     "status": "completed"
    },
    "tags": []
   },
   "outputs": [
    {
     "data": {
      "text/html": [
       "<div>\n",
       "<style scoped>\n",
       "    .dataframe tbody tr th:only-of-type {\n",
       "        vertical-align: middle;\n",
       "    }\n",
       "\n",
       "    .dataframe tbody tr th {\n",
       "        vertical-align: top;\n",
       "    }\n",
       "\n",
       "    .dataframe thead th {\n",
       "        text-align: right;\n",
       "    }\n",
       "</style>\n",
       "<table border=\"1\" class=\"dataframe\">\n",
       "  <thead>\n",
       "    <tr style=\"text-align: right;\">\n",
       "      <th></th>\n",
       "      <th>COUNTRY</th>\n",
       "      <th>SOURCE</th>\n",
       "      <th>SEX</th>\n",
       "      <th>AGE</th>\n",
       "      <th>PRICE</th>\n",
       "    </tr>\n",
       "  </thead>\n",
       "  <tbody>\n",
       "    <tr>\n",
       "      <th>0</th>\n",
       "      <td>bra</td>\n",
       "      <td>android</td>\n",
       "      <td>male</td>\n",
       "      <td>46</td>\n",
       "      <td>59.00</td>\n",
       "    </tr>\n",
       "    <tr>\n",
       "      <th>1</th>\n",
       "      <td>usa</td>\n",
       "      <td>android</td>\n",
       "      <td>male</td>\n",
       "      <td>36</td>\n",
       "      <td>59.00</td>\n",
       "    </tr>\n",
       "    <tr>\n",
       "      <th>2</th>\n",
       "      <td>fra</td>\n",
       "      <td>android</td>\n",
       "      <td>female</td>\n",
       "      <td>24</td>\n",
       "      <td>59.00</td>\n",
       "    </tr>\n",
       "    <tr>\n",
       "      <th>3</th>\n",
       "      <td>usa</td>\n",
       "      <td>ios</td>\n",
       "      <td>male</td>\n",
       "      <td>32</td>\n",
       "      <td>54.00</td>\n",
       "    </tr>\n",
       "    <tr>\n",
       "      <th>4</th>\n",
       "      <td>deu</td>\n",
       "      <td>android</td>\n",
       "      <td>female</td>\n",
       "      <td>36</td>\n",
       "      <td>49.00</td>\n",
       "    </tr>\n",
       "  </tbody>\n",
       "</table>\n",
       "</div>"
      ],
      "text/plain": [
       "  COUNTRY   SOURCE     SEX  AGE  PRICE\n",
       "0     bra  android    male   46  59.00\n",
       "1     usa  android    male   36  59.00\n",
       "2     fra  android  female   24  59.00\n",
       "3     usa      ios    male   32  54.00\n",
       "4     deu  android  female   36  49.00"
      ]
     },
     "execution_count": 26,
     "metadata": {},
     "output_type": "execute_result"
    }
   ],
   "source": [
    "age_df.reset_index(inplace=True)\n",
    "age_df.head()"
   ]
  },
  {
   "cell_type": "markdown",
   "id": "2b465006",
   "metadata": {
    "papermill": {
     "duration": 0.016831,
     "end_time": "2022-11-02T10:20:26.540171",
     "exception": false,
     "start_time": "2022-11-02T10:20:26.523340",
     "status": "completed"
    },
    "tags": []
   },
   "source": [
    "### TASK 5: Convert AGE variable to categorical variable and add it to agg_df.\n",
    "\n",
    "* Convert the numeric variable age to a categorical variable.\n",
    "* Construct the intervals in whatever way you think will be persuasive.\n",
    "* For example: '0_18', '19_23', '24_30', '31_40', '41_70'"
   ]
  },
  {
   "cell_type": "code",
   "execution_count": 27,
   "id": "871d0672",
   "metadata": {
    "execution": {
     "iopub.execute_input": "2022-11-02T10:20:26.577398Z",
     "iopub.status.busy": "2022-11-02T10:20:26.576927Z",
     "iopub.status.idle": "2022-11-02T10:20:26.596447Z",
     "shell.execute_reply": "2022-11-02T10:20:26.595247Z"
    },
    "papermill": {
     "duration": 0.041846,
     "end_time": "2022-11-02T10:20:26.599250",
     "exception": false,
     "start_time": "2022-11-02T10:20:26.557404",
     "status": "completed"
    },
    "tags": []
   },
   "outputs": [
    {
     "data": {
      "text/html": [
       "<div>\n",
       "<style scoped>\n",
       "    .dataframe tbody tr th:only-of-type {\n",
       "        vertical-align: middle;\n",
       "    }\n",
       "\n",
       "    .dataframe tbody tr th {\n",
       "        vertical-align: top;\n",
       "    }\n",
       "\n",
       "    .dataframe thead th {\n",
       "        text-align: right;\n",
       "    }\n",
       "</style>\n",
       "<table border=\"1\" class=\"dataframe\">\n",
       "  <thead>\n",
       "    <tr style=\"text-align: right;\">\n",
       "      <th></th>\n",
       "      <th>COUNTRY</th>\n",
       "      <th>SOURCE</th>\n",
       "      <th>SEX</th>\n",
       "      <th>AGE</th>\n",
       "      <th>PRICE</th>\n",
       "      <th>age_cat</th>\n",
       "    </tr>\n",
       "  </thead>\n",
       "  <tbody>\n",
       "    <tr>\n",
       "      <th>0</th>\n",
       "      <td>bra</td>\n",
       "      <td>android</td>\n",
       "      <td>male</td>\n",
       "      <td>46</td>\n",
       "      <td>59.00</td>\n",
       "      <td>41_66</td>\n",
       "    </tr>\n",
       "    <tr>\n",
       "      <th>1</th>\n",
       "      <td>usa</td>\n",
       "      <td>android</td>\n",
       "      <td>male</td>\n",
       "      <td>36</td>\n",
       "      <td>59.00</td>\n",
       "      <td>31_40</td>\n",
       "    </tr>\n",
       "    <tr>\n",
       "      <th>2</th>\n",
       "      <td>fra</td>\n",
       "      <td>android</td>\n",
       "      <td>female</td>\n",
       "      <td>24</td>\n",
       "      <td>59.00</td>\n",
       "      <td>24_30</td>\n",
       "    </tr>\n",
       "    <tr>\n",
       "      <th>3</th>\n",
       "      <td>usa</td>\n",
       "      <td>ios</td>\n",
       "      <td>male</td>\n",
       "      <td>32</td>\n",
       "      <td>54.00</td>\n",
       "      <td>31_40</td>\n",
       "    </tr>\n",
       "    <tr>\n",
       "      <th>4</th>\n",
       "      <td>deu</td>\n",
       "      <td>android</td>\n",
       "      <td>female</td>\n",
       "      <td>36</td>\n",
       "      <td>49.00</td>\n",
       "      <td>31_40</td>\n",
       "    </tr>\n",
       "  </tbody>\n",
       "</table>\n",
       "</div>"
      ],
      "text/plain": [
       "  COUNTRY   SOURCE     SEX  AGE  PRICE age_cat\n",
       "0     bra  android    male   46  59.00   41_66\n",
       "1     usa  android    male   36  59.00   31_40\n",
       "2     fra  android  female   24  59.00   24_30\n",
       "3     usa      ios    male   32  54.00   31_40\n",
       "4     deu  android  female   36  49.00   31_40"
      ]
     },
     "execution_count": 27,
     "metadata": {},
     "output_type": "execute_result"
    }
   ],
   "source": [
    "bins = [0, 18, 23, 30, 40, age_df[\"AGE\"].max()]\n",
    "mylabels = ['0_18', '19_23', '24_30', '31_40', '41_' + str(age_df[\"AGE\"].max())]\n",
    "age_df[\"age_cat\"] = pd.cut(age_df[\"AGE\"], bins, labels=mylabels)\n",
    "age_df.head()"
   ]
  },
  {
   "cell_type": "markdown",
   "id": "377a3e24",
   "metadata": {
    "papermill": {
     "duration": 0.017233,
     "end_time": "2022-11-02T10:20:26.633886",
     "exception": false,
     "start_time": "2022-11-02T10:20:26.616653",
     "status": "completed"
    },
    "tags": []
   },
   "source": [
    "### TASK 6: Identify new level based customers and add them as variables to the dataset.\n",
    "* Define a variable named customers_level_based and add this variable to the dataset.\n",
    "* Attention!\n",
    "* After creating customers_level_based values with list comp, these values need to be deduplicated.\n",
    "* For example, it could be more than one of the following: USA_ANDROID_MALE_0_18\n",
    "* It is necessary to take them to groupby and get the price averages."
   ]
  },
  {
   "cell_type": "code",
   "execution_count": 28,
   "id": "91f496f1",
   "metadata": {
    "execution": {
     "iopub.execute_input": "2022-11-02T10:20:26.670782Z",
     "iopub.status.busy": "2022-11-02T10:20:26.670100Z",
     "iopub.status.idle": "2022-11-02T10:20:26.689065Z",
     "shell.execute_reply": "2022-11-02T10:20:26.687783Z"
    },
    "papermill": {
     "duration": 0.040293,
     "end_time": "2022-11-02T10:20:26.691531",
     "exception": false,
     "start_time": "2022-11-02T10:20:26.651238",
     "status": "completed"
    },
    "tags": []
   },
   "outputs": [
    {
     "data": {
      "text/html": [
       "<div>\n",
       "<style scoped>\n",
       "    .dataframe tbody tr th:only-of-type {\n",
       "        vertical-align: middle;\n",
       "    }\n",
       "\n",
       "    .dataframe tbody tr th {\n",
       "        vertical-align: top;\n",
       "    }\n",
       "\n",
       "    .dataframe thead th {\n",
       "        text-align: right;\n",
       "    }\n",
       "</style>\n",
       "<table border=\"1\" class=\"dataframe\">\n",
       "  <thead>\n",
       "    <tr style=\"text-align: right;\">\n",
       "      <th></th>\n",
       "      <th>COUNTRY</th>\n",
       "      <th>SOURCE</th>\n",
       "      <th>SEX</th>\n",
       "      <th>AGE</th>\n",
       "      <th>PRICE</th>\n",
       "      <th>age_cat</th>\n",
       "      <th>CUSTOMERS_LEVEL_BASED</th>\n",
       "    </tr>\n",
       "  </thead>\n",
       "  <tbody>\n",
       "    <tr>\n",
       "      <th>0</th>\n",
       "      <td>bra</td>\n",
       "      <td>android</td>\n",
       "      <td>male</td>\n",
       "      <td>46</td>\n",
       "      <td>59.00</td>\n",
       "      <td>41_66</td>\n",
       "      <td>BRA_ANDROID_MALE_41_66</td>\n",
       "    </tr>\n",
       "    <tr>\n",
       "      <th>1</th>\n",
       "      <td>usa</td>\n",
       "      <td>android</td>\n",
       "      <td>male</td>\n",
       "      <td>36</td>\n",
       "      <td>59.00</td>\n",
       "      <td>31_40</td>\n",
       "      <td>USA_ANDROID_MALE_31_40</td>\n",
       "    </tr>\n",
       "    <tr>\n",
       "      <th>2</th>\n",
       "      <td>fra</td>\n",
       "      <td>android</td>\n",
       "      <td>female</td>\n",
       "      <td>24</td>\n",
       "      <td>59.00</td>\n",
       "      <td>24_30</td>\n",
       "      <td>FRA_ANDROID_FEMALE_24_30</td>\n",
       "    </tr>\n",
       "    <tr>\n",
       "      <th>3</th>\n",
       "      <td>usa</td>\n",
       "      <td>ios</td>\n",
       "      <td>male</td>\n",
       "      <td>32</td>\n",
       "      <td>54.00</td>\n",
       "      <td>31_40</td>\n",
       "      <td>USA_IOS_MALE_31_40</td>\n",
       "    </tr>\n",
       "    <tr>\n",
       "      <th>4</th>\n",
       "      <td>deu</td>\n",
       "      <td>android</td>\n",
       "      <td>female</td>\n",
       "      <td>36</td>\n",
       "      <td>49.00</td>\n",
       "      <td>31_40</td>\n",
       "      <td>DEU_ANDROID_FEMALE_31_40</td>\n",
       "    </tr>\n",
       "  </tbody>\n",
       "</table>\n",
       "</div>"
      ],
      "text/plain": [
       "  COUNTRY   SOURCE     SEX  AGE  PRICE age_cat     CUSTOMERS_LEVEL_BASED\n",
       "0     bra  android    male   46  59.00   41_66    BRA_ANDROID_MALE_41_66\n",
       "1     usa  android    male   36  59.00   31_40    USA_ANDROID_MALE_31_40\n",
       "2     fra  android  female   24  59.00   24_30  FRA_ANDROID_FEMALE_24_30\n",
       "3     usa      ios    male   32  54.00   31_40        USA_IOS_MALE_31_40\n",
       "4     deu  android  female   36  49.00   31_40  DEU_ANDROID_FEMALE_31_40"
      ]
     },
     "execution_count": 28,
     "metadata": {},
     "output_type": "execute_result"
    }
   ],
   "source": [
    "age_df.drop(['AGE', 'PRICE'], axis=1).values\n",
    "age_df['CUSTOMERS_LEVEL_BASED'] = ['_'.join(col).upper() for col in age_df.drop(['AGE', 'PRICE'], axis=1).values]\n",
    "age_df.head()"
   ]
  },
  {
   "cell_type": "code",
   "execution_count": 29,
   "id": "b64f2d61",
   "metadata": {
    "execution": {
     "iopub.execute_input": "2022-11-02T10:20:26.729035Z",
     "iopub.status.busy": "2022-11-02T10:20:26.728358Z",
     "iopub.status.idle": "2022-11-02T10:20:26.742459Z",
     "shell.execute_reply": "2022-11-02T10:20:26.741220Z"
    },
    "papermill": {
     "duration": 0.035818,
     "end_time": "2022-11-02T10:20:26.744933",
     "exception": false,
     "start_time": "2022-11-02T10:20:26.709115",
     "status": "completed"
    },
    "tags": []
   },
   "outputs": [
    {
     "data": {
      "text/html": [
       "<div>\n",
       "<style scoped>\n",
       "    .dataframe tbody tr th:only-of-type {\n",
       "        vertical-align: middle;\n",
       "    }\n",
       "\n",
       "    .dataframe tbody tr th {\n",
       "        vertical-align: top;\n",
       "    }\n",
       "\n",
       "    .dataframe thead th {\n",
       "        text-align: right;\n",
       "    }\n",
       "</style>\n",
       "<table border=\"1\" class=\"dataframe\">\n",
       "  <thead>\n",
       "    <tr style=\"text-align: right;\">\n",
       "      <th></th>\n",
       "      <th>CUSTOMERS_LEVEL_BASED</th>\n",
       "      <th>PRICE</th>\n",
       "    </tr>\n",
       "  </thead>\n",
       "  <tbody>\n",
       "    <tr>\n",
       "      <th>0</th>\n",
       "      <td>BRA_ANDROID_FEMALE_0_18</td>\n",
       "      <td>35.65</td>\n",
       "    </tr>\n",
       "    <tr>\n",
       "      <th>1</th>\n",
       "      <td>BRA_ANDROID_FEMALE_19_23</td>\n",
       "      <td>34.08</td>\n",
       "    </tr>\n",
       "    <tr>\n",
       "      <th>2</th>\n",
       "      <td>BRA_ANDROID_FEMALE_24_30</td>\n",
       "      <td>33.86</td>\n",
       "    </tr>\n",
       "    <tr>\n",
       "      <th>3</th>\n",
       "      <td>BRA_ANDROID_FEMALE_31_40</td>\n",
       "      <td>34.90</td>\n",
       "    </tr>\n",
       "    <tr>\n",
       "      <th>4</th>\n",
       "      <td>BRA_ANDROID_FEMALE_41_66</td>\n",
       "      <td>36.74</td>\n",
       "    </tr>\n",
       "  </tbody>\n",
       "</table>\n",
       "</div>"
      ],
      "text/plain": [
       "      CUSTOMERS_LEVEL_BASED  PRICE\n",
       "0   BRA_ANDROID_FEMALE_0_18  35.65\n",
       "1  BRA_ANDROID_FEMALE_19_23  34.08\n",
       "2  BRA_ANDROID_FEMALE_24_30  33.86\n",
       "3  BRA_ANDROID_FEMALE_31_40  34.90\n",
       "4  BRA_ANDROID_FEMALE_41_66  36.74"
      ]
     },
     "execution_count": 29,
     "metadata": {},
     "output_type": "execute_result"
    }
   ],
   "source": [
    "age_df = age_df.groupby('CUSTOMERS_LEVEL_BASED').agg({'PRICE': 'mean'})\n",
    "age_df.reset_index(inplace=True)\n",
    "age_df.head()"
   ]
  },
  {
   "cell_type": "code",
   "execution_count": 30,
   "id": "44678819",
   "metadata": {
    "execution": {
     "iopub.execute_input": "2022-11-02T10:20:26.782798Z",
     "iopub.status.busy": "2022-11-02T10:20:26.781944Z",
     "iopub.status.idle": "2022-11-02T10:20:26.789347Z",
     "shell.execute_reply": "2022-11-02T10:20:26.788044Z"
    },
    "papermill": {
     "duration": 0.029094,
     "end_time": "2022-11-02T10:20:26.791820",
     "exception": false,
     "start_time": "2022-11-02T10:20:26.762726",
     "status": "completed"
    },
    "tags": []
   },
   "outputs": [
    {
     "data": {
      "text/plain": [
       "(109, 2)"
      ]
     },
     "execution_count": 30,
     "metadata": {},
     "output_type": "execute_result"
    }
   ],
   "source": [
    "age_df.shape"
   ]
  },
  {
   "cell_type": "markdown",
   "id": "df61e152",
   "metadata": {
    "papermill": {
     "duration": 0.017619,
     "end_time": "2022-11-02T10:20:26.828277",
     "exception": false,
     "start_time": "2022-11-02T10:20:26.810658",
     "status": "completed"
    },
    "tags": []
   },
   "source": [
    "### TASK 7: Segment new customers (USA_ANDROID_MALE_0_18).\n",
    "\n",
    "* Segment by PRICE,\n",
    "* add segments to agg_df with \"SEGMENT\" naming,\n",
    "* describe the segments,"
   ]
  },
  {
   "cell_type": "code",
   "execution_count": 31,
   "id": "5628d99f",
   "metadata": {
    "execution": {
     "iopub.execute_input": "2022-11-02T10:20:26.866991Z",
     "iopub.status.busy": "2022-11-02T10:20:26.866324Z",
     "iopub.status.idle": "2022-11-02T10:20:26.887149Z",
     "shell.execute_reply": "2022-11-02T10:20:26.885985Z"
    },
    "papermill": {
     "duration": 0.043786,
     "end_time": "2022-11-02T10:20:26.889777",
     "exception": false,
     "start_time": "2022-11-02T10:20:26.845991",
     "status": "completed"
    },
    "tags": []
   },
   "outputs": [
    {
     "data": {
      "text/html": [
       "<div>\n",
       "<style scoped>\n",
       "    .dataframe tbody tr th:only-of-type {\n",
       "        vertical-align: middle;\n",
       "    }\n",
       "\n",
       "    .dataframe tbody tr th {\n",
       "        vertical-align: top;\n",
       "    }\n",
       "\n",
       "    .dataframe thead th {\n",
       "        text-align: right;\n",
       "    }\n",
       "</style>\n",
       "<table border=\"1\" class=\"dataframe\">\n",
       "  <thead>\n",
       "    <tr style=\"text-align: right;\">\n",
       "      <th></th>\n",
       "      <th>CUSTOMERS_LEVEL_BASED</th>\n",
       "      <th>PRICE</th>\n",
       "      <th>SEGMENT</th>\n",
       "    </tr>\n",
       "  </thead>\n",
       "  <tbody>\n",
       "    <tr>\n",
       "      <th>0</th>\n",
       "      <td>BRA_ANDROID_FEMALE_0_18</td>\n",
       "      <td>35.65</td>\n",
       "      <td>B</td>\n",
       "    </tr>\n",
       "    <tr>\n",
       "      <th>1</th>\n",
       "      <td>BRA_ANDROID_FEMALE_19_23</td>\n",
       "      <td>34.08</td>\n",
       "      <td>C</td>\n",
       "    </tr>\n",
       "    <tr>\n",
       "      <th>2</th>\n",
       "      <td>BRA_ANDROID_FEMALE_24_30</td>\n",
       "      <td>33.86</td>\n",
       "      <td>C</td>\n",
       "    </tr>\n",
       "    <tr>\n",
       "      <th>3</th>\n",
       "      <td>BRA_ANDROID_FEMALE_31_40</td>\n",
       "      <td>34.90</td>\n",
       "      <td>B</td>\n",
       "    </tr>\n",
       "    <tr>\n",
       "      <th>4</th>\n",
       "      <td>BRA_ANDROID_FEMALE_41_66</td>\n",
       "      <td>36.74</td>\n",
       "      <td>A</td>\n",
       "    </tr>\n",
       "  </tbody>\n",
       "</table>\n",
       "</div>"
      ],
      "text/plain": [
       "      CUSTOMERS_LEVEL_BASED  PRICE SEGMENT\n",
       "0   BRA_ANDROID_FEMALE_0_18  35.65       B\n",
       "1  BRA_ANDROID_FEMALE_19_23  34.08       C\n",
       "2  BRA_ANDROID_FEMALE_24_30  33.86       C\n",
       "3  BRA_ANDROID_FEMALE_31_40  34.90       B\n",
       "4  BRA_ANDROID_FEMALE_41_66  36.74       A"
      ]
     },
     "execution_count": 31,
     "metadata": {},
     "output_type": "execute_result"
    }
   ],
   "source": [
    "age_df['SEGMENT'] = pd.qcut(age_df['PRICE'], 4, labels=['D', 'C', 'B', 'A'])\n",
    "age_df.head()"
   ]
  },
  {
   "cell_type": "markdown",
   "id": "e44887fa",
   "metadata": {
    "papermill": {
     "duration": 0.017675,
     "end_time": "2022-11-02T10:20:26.925396",
     "exception": false,
     "start_time": "2022-11-02T10:20:26.907721",
     "status": "completed"
    },
    "tags": []
   },
   "source": [
    "### TASK 8: Classify the new customers and estimate how much income they can bring."
   ]
  },
  {
   "cell_type": "markdown",
   "id": "c4beb05d",
   "metadata": {
    "papermill": {
     "duration": 0.017838,
     "end_time": "2022-11-02T10:20:26.961445",
     "exception": false,
     "start_time": "2022-11-02T10:20:26.943607",
     "status": "completed"
    },
    "tags": []
   },
   "source": [
    "#### Which segment does a 33-year-old Turkish woman using ANDROID belong to and how much income is expected to earn on average?"
   ]
  },
  {
   "cell_type": "code",
   "execution_count": 32,
   "id": "a08a8754",
   "metadata": {
    "execution": {
     "iopub.execute_input": "2022-11-02T10:20:27.002262Z",
     "iopub.status.busy": "2022-11-02T10:20:27.001317Z",
     "iopub.status.idle": "2022-11-02T10:20:27.015016Z",
     "shell.execute_reply": "2022-11-02T10:20:27.013782Z"
    },
    "papermill": {
     "duration": 0.036886,
     "end_time": "2022-11-02T10:20:27.017546",
     "exception": false,
     "start_time": "2022-11-02T10:20:26.980660",
     "status": "completed"
    },
    "tags": []
   },
   "outputs": [
    {
     "data": {
      "text/html": [
       "<div>\n",
       "<style scoped>\n",
       "    .dataframe tbody tr th:only-of-type {\n",
       "        vertical-align: middle;\n",
       "    }\n",
       "\n",
       "    .dataframe tbody tr th {\n",
       "        vertical-align: top;\n",
       "    }\n",
       "\n",
       "    .dataframe thead th {\n",
       "        text-align: right;\n",
       "    }\n",
       "</style>\n",
       "<table border=\"1\" class=\"dataframe\">\n",
       "  <thead>\n",
       "    <tr style=\"text-align: right;\">\n",
       "      <th></th>\n",
       "      <th>CUSTOMERS_LEVEL_BASED</th>\n",
       "      <th>PRICE</th>\n",
       "      <th>SEGMENT</th>\n",
       "    </tr>\n",
       "  </thead>\n",
       "  <tbody>\n",
       "    <tr>\n",
       "      <th>72</th>\n",
       "      <td>TUR_ANDROID_FEMALE_31_40</td>\n",
       "      <td>41.83</td>\n",
       "      <td>A</td>\n",
       "    </tr>\n",
       "  </tbody>\n",
       "</table>\n",
       "</div>"
      ],
      "text/plain": [
       "       CUSTOMERS_LEVEL_BASED  PRICE SEGMENT\n",
       "72  TUR_ANDROID_FEMALE_31_40  41.83       A"
      ]
     },
     "execution_count": 32,
     "metadata": {},
     "output_type": "execute_result"
    }
   ],
   "source": [
    "new_user = 'TUR_ANDROID_FEMALE_31_40'\n",
    "age_df[age_df['CUSTOMERS_LEVEL_BASED'] == new_user]"
   ]
  },
  {
   "cell_type": "markdown",
   "id": "29952ce4",
   "metadata": {
    "papermill": {
     "duration": 0.017746,
     "end_time": "2022-11-02T10:20:27.053551",
     "exception": false,
     "start_time": "2022-11-02T10:20:27.035805",
     "status": "completed"
    },
    "tags": []
   },
   "source": [
    "#### In which segment and on average how much income would a 35 year old French woman using iOS expect to earn?"
   ]
  },
  {
   "cell_type": "code",
   "execution_count": 33,
   "id": "2abd708e",
   "metadata": {
    "execution": {
     "iopub.execute_input": "2022-11-02T10:20:27.092134Z",
     "iopub.status.busy": "2022-11-02T10:20:27.091489Z",
     "iopub.status.idle": "2022-11-02T10:20:27.104914Z",
     "shell.execute_reply": "2022-11-02T10:20:27.103285Z"
    },
    "papermill": {
     "duration": 0.035945,
     "end_time": "2022-11-02T10:20:27.107693",
     "exception": false,
     "start_time": "2022-11-02T10:20:27.071748",
     "status": "completed"
    },
    "tags": []
   },
   "outputs": [
    {
     "data": {
      "text/html": [
       "<div>\n",
       "<style scoped>\n",
       "    .dataframe tbody tr th:only-of-type {\n",
       "        vertical-align: middle;\n",
       "    }\n",
       "\n",
       "    .dataframe tbody tr th {\n",
       "        vertical-align: top;\n",
       "    }\n",
       "\n",
       "    .dataframe thead th {\n",
       "        text-align: right;\n",
       "    }\n",
       "</style>\n",
       "<table border=\"1\" class=\"dataframe\">\n",
       "  <thead>\n",
       "    <tr style=\"text-align: right;\">\n",
       "      <th></th>\n",
       "      <th>CUSTOMERS_LEVEL_BASED</th>\n",
       "      <th>PRICE</th>\n",
       "      <th>SEGMENT</th>\n",
       "    </tr>\n",
       "  </thead>\n",
       "  <tbody>\n",
       "    <tr>\n",
       "      <th>63</th>\n",
       "      <td>FRA_IOS_FEMALE_31_40</td>\n",
       "      <td>32.82</td>\n",
       "      <td>C</td>\n",
       "    </tr>\n",
       "  </tbody>\n",
       "</table>\n",
       "</div>"
      ],
      "text/plain": [
       "   CUSTOMERS_LEVEL_BASED  PRICE SEGMENT\n",
       "63  FRA_IOS_FEMALE_31_40  32.82       C"
      ]
     },
     "execution_count": 33,
     "metadata": {},
     "output_type": "execute_result"
    }
   ],
   "source": [
    "new_user = 'FRA_IOS_FEMALE_31_40'\n",
    "age_df[age_df['CUSTOMERS_LEVEL_BASED'] == new_user]"
   ]
  },
  {
   "cell_type": "markdown",
   "id": "36d769fa",
   "metadata": {
    "papermill": {
     "duration": 0.018082,
     "end_time": "2022-11-02T10:20:27.145368",
     "exception": false,
     "start_time": "2022-11-02T10:20:27.127286",
     "status": "completed"
    },
    "tags": []
   },
   "source": [
    "#### What is the average income of a 25-year-old male user from Turkey who is an IOS user?"
   ]
  },
  {
   "cell_type": "code",
   "execution_count": 34,
   "id": "9d19dda2",
   "metadata": {
    "execution": {
     "iopub.execute_input": "2022-11-02T10:20:27.185577Z",
     "iopub.status.busy": "2022-11-02T10:20:27.185107Z",
     "iopub.status.idle": "2022-11-02T10:20:27.197848Z",
     "shell.execute_reply": "2022-11-02T10:20:27.196405Z"
    },
    "papermill": {
     "duration": 0.036671,
     "end_time": "2022-11-02T10:20:27.201069",
     "exception": false,
     "start_time": "2022-11-02T10:20:27.164398",
     "status": "completed"
    },
    "tags": []
   },
   "outputs": [
    {
     "data": {
      "text/html": [
       "<div>\n",
       "<style scoped>\n",
       "    .dataframe tbody tr th:only-of-type {\n",
       "        vertical-align: middle;\n",
       "    }\n",
       "\n",
       "    .dataframe tbody tr th {\n",
       "        vertical-align: top;\n",
       "    }\n",
       "\n",
       "    .dataframe thead th {\n",
       "        text-align: right;\n",
       "    }\n",
       "</style>\n",
       "<table border=\"1\" class=\"dataframe\">\n",
       "  <thead>\n",
       "    <tr style=\"text-align: right;\">\n",
       "      <th></th>\n",
       "      <th>CUSTOMERS_LEVEL_BASED</th>\n",
       "      <th>PRICE</th>\n",
       "      <th>SEGMENT</th>\n",
       "    </tr>\n",
       "  </thead>\n",
       "  <tbody>\n",
       "    <tr>\n",
       "      <th>86</th>\n",
       "      <td>TUR_IOS_MALE_24_30</td>\n",
       "      <td>45.00</td>\n",
       "      <td>A</td>\n",
       "    </tr>\n",
       "  </tbody>\n",
       "</table>\n",
       "</div>"
      ],
      "text/plain": [
       "   CUSTOMERS_LEVEL_BASED  PRICE SEGMENT\n",
       "86    TUR_IOS_MALE_24_30  45.00       A"
      ]
     },
     "execution_count": 34,
     "metadata": {},
     "output_type": "execute_result"
    }
   ],
   "source": [
    "new_user = 'TUR_IOS_MALE_24_30'\n",
    "age_df[age_df['CUSTOMERS_LEVEL_BASED'] == new_user]"
   ]
  },
  {
   "cell_type": "code",
   "execution_count": 35,
   "id": "a1ca5e5f",
   "metadata": {
    "execution": {
     "iopub.execute_input": "2022-11-02T10:20:27.240629Z",
     "iopub.status.busy": "2022-11-02T10:20:27.240093Z",
     "iopub.status.idle": "2022-11-02T10:20:27.248345Z",
     "shell.execute_reply": "2022-11-02T10:20:27.247351Z"
    },
    "papermill": {
     "duration": 0.030745,
     "end_time": "2022-11-02T10:20:27.250550",
     "exception": false,
     "start_time": "2022-11-02T10:20:27.219805",
     "status": "completed"
    },
    "tags": []
   },
   "outputs": [
    {
     "data": {
      "text/plain": [
       "usa    2065\n",
       "bra    1496\n",
       "deu     455\n",
       "tur     451\n",
       "fra     303\n",
       "can     230\n",
       "Name: COUNTRY, dtype: int64"
      ]
     },
     "execution_count": 35,
     "metadata": {},
     "output_type": "execute_result"
    }
   ],
   "source": [
    "df['COUNTRY'].value_counts()"
   ]
  },
  {
   "cell_type": "markdown",
   "id": "963b4c49",
   "metadata": {
    "papermill": {
     "duration": 0.020271,
     "end_time": "2022-11-02T10:20:27.290739",
     "exception": false,
     "start_time": "2022-11-02T10:20:27.270468",
     "status": "completed"
    },
    "tags": []
   },
   "source": [
    "### TASK 9: Define a function that classifies new customers and estimate how much revenue it will generate."
   ]
  },
  {
   "cell_type": "code",
   "execution_count": 36,
   "id": "581372ef",
   "metadata": {
    "execution": {
     "iopub.execute_input": "2022-11-02T10:20:27.332365Z",
     "iopub.status.busy": "2022-11-02T10:20:27.331689Z",
     "iopub.status.idle": "2022-11-02T10:20:27.338379Z",
     "shell.execute_reply": "2022-11-02T10:20:27.337295Z"
    },
    "papermill": {
     "duration": 0.03091,
     "end_time": "2022-11-02T10:20:27.341292",
     "exception": false,
     "start_time": "2022-11-02T10:20:27.310382",
     "status": "completed"
    },
    "tags": []
   },
   "outputs": [],
   "source": [
    "# defining a 'customer_segmentation' function\n",
    "def customer_segementation(country, source, sex, age):\n",
    "    new_user = ''\n",
    "    if country == 'TUR' or 'USA' or 'BRA' or 'FRA' or 'DEU' or 'CAN':\n",
    "        new_user += country + '_'\n",
    "    if source == 'ANDROID' or 'IOS':\n",
    "        new_user += source + '_'\n",
    "    if sex == 'MALE' or 'FEMALE':\n",
    "        new_user += sex + '_'\n",
    "    if age == '0_18' or '19_23' or '24_30' or '31_40' or '41_70':\n",
    "        new_user += age\n",
    "    \n",
    "    return new_user"
   ]
  },
  {
   "cell_type": "code",
   "execution_count": 37,
   "id": "d721473e",
   "metadata": {
    "execution": {
     "iopub.execute_input": "2022-11-02T10:20:27.382319Z",
     "iopub.status.busy": "2022-11-02T10:20:27.381890Z",
     "iopub.status.idle": "2022-11-02T10:20:27.394947Z",
     "shell.execute_reply": "2022-11-02T10:20:27.393498Z"
    },
    "papermill": {
     "duration": 0.035611,
     "end_time": "2022-11-02T10:20:27.397385",
     "exception": false,
     "start_time": "2022-11-02T10:20:27.361774",
     "status": "completed"
    },
    "tags": []
   },
   "outputs": [
    {
     "data": {
      "text/html": [
       "<div>\n",
       "<style scoped>\n",
       "    .dataframe tbody tr th:only-of-type {\n",
       "        vertical-align: middle;\n",
       "    }\n",
       "\n",
       "    .dataframe tbody tr th {\n",
       "        vertical-align: top;\n",
       "    }\n",
       "\n",
       "    .dataframe thead th {\n",
       "        text-align: right;\n",
       "    }\n",
       "</style>\n",
       "<table border=\"1\" class=\"dataframe\">\n",
       "  <thead>\n",
       "    <tr style=\"text-align: right;\">\n",
       "      <th></th>\n",
       "      <th>CUSTOMERS_LEVEL_BASED</th>\n",
       "      <th>PRICE</th>\n",
       "      <th>SEGMENT</th>\n",
       "    </tr>\n",
       "  </thead>\n",
       "  <tbody>\n",
       "    <tr>\n",
       "      <th>86</th>\n",
       "      <td>TUR_IOS_MALE_24_30</td>\n",
       "      <td>45.00</td>\n",
       "      <td>A</td>\n",
       "    </tr>\n",
       "  </tbody>\n",
       "</table>\n",
       "</div>"
      ],
      "text/plain": [
       "   CUSTOMERS_LEVEL_BASED  PRICE SEGMENT\n",
       "86    TUR_IOS_MALE_24_30  45.00       A"
      ]
     },
     "execution_count": 37,
     "metadata": {},
     "output_type": "execute_result"
    }
   ],
   "source": [
    "new_user = customer_segementation('TUR', 'IOS', 'MALE', '24_30')\n",
    "age_df[age_df['CUSTOMERS_LEVEL_BASED'] == new_user]"
   ]
  },
  {
   "cell_type": "code",
   "execution_count": 38,
   "id": "34413c31",
   "metadata": {
    "execution": {
     "iopub.execute_input": "2022-11-02T10:20:27.438868Z",
     "iopub.status.busy": "2022-11-02T10:20:27.438066Z",
     "iopub.status.idle": "2022-11-02T10:20:27.451913Z",
     "shell.execute_reply": "2022-11-02T10:20:27.450668Z"
    },
    "papermill": {
     "duration": 0.037098,
     "end_time": "2022-11-02T10:20:27.454413",
     "exception": false,
     "start_time": "2022-11-02T10:20:27.417315",
     "status": "completed"
    },
    "tags": []
   },
   "outputs": [
    {
     "data": {
      "text/html": [
       "<div>\n",
       "<style scoped>\n",
       "    .dataframe tbody tr th:only-of-type {\n",
       "        vertical-align: middle;\n",
       "    }\n",
       "\n",
       "    .dataframe tbody tr th {\n",
       "        vertical-align: top;\n",
       "    }\n",
       "\n",
       "    .dataframe thead th {\n",
       "        text-align: right;\n",
       "    }\n",
       "</style>\n",
       "<table border=\"1\" class=\"dataframe\">\n",
       "  <thead>\n",
       "    <tr style=\"text-align: right;\">\n",
       "      <th></th>\n",
       "      <th>CUSTOMERS_LEVEL_BASED</th>\n",
       "      <th>PRICE</th>\n",
       "      <th>SEGMENT</th>\n",
       "    </tr>\n",
       "  </thead>\n",
       "  <tbody>\n",
       "    <tr>\n",
       "      <th>63</th>\n",
       "      <td>FRA_IOS_FEMALE_31_40</td>\n",
       "      <td>32.82</td>\n",
       "      <td>C</td>\n",
       "    </tr>\n",
       "  </tbody>\n",
       "</table>\n",
       "</div>"
      ],
      "text/plain": [
       "   CUSTOMERS_LEVEL_BASED  PRICE SEGMENT\n",
       "63  FRA_IOS_FEMALE_31_40  32.82       C"
      ]
     },
     "execution_count": 38,
     "metadata": {},
     "output_type": "execute_result"
    }
   ],
   "source": [
    "new_user = customer_segementation('FRA', 'IOS', 'FEMALE', '31_40')\n",
    "age_df[age_df['CUSTOMERS_LEVEL_BASED'] == new_user]"
   ]
  },
  {
   "cell_type": "code",
   "execution_count": 39,
   "id": "1e48a0aa",
   "metadata": {
    "execution": {
     "iopub.execute_input": "2022-11-02T10:20:27.496222Z",
     "iopub.status.busy": "2022-11-02T10:20:27.495787Z",
     "iopub.status.idle": "2022-11-02T10:20:27.510095Z",
     "shell.execute_reply": "2022-11-02T10:20:27.508536Z"
    },
    "papermill": {
     "duration": 0.038954,
     "end_time": "2022-11-02T10:20:27.512638",
     "exception": false,
     "start_time": "2022-11-02T10:20:27.473684",
     "status": "completed"
    },
    "tags": []
   },
   "outputs": [
    {
     "data": {
      "text/html": [
       "<div>\n",
       "<style scoped>\n",
       "    .dataframe tbody tr th:only-of-type {\n",
       "        vertical-align: middle;\n",
       "    }\n",
       "\n",
       "    .dataframe tbody tr th {\n",
       "        vertical-align: top;\n",
       "    }\n",
       "\n",
       "    .dataframe thead th {\n",
       "        text-align: right;\n",
       "    }\n",
       "</style>\n",
       "<table border=\"1\" class=\"dataframe\">\n",
       "  <thead>\n",
       "    <tr style=\"text-align: right;\">\n",
       "      <th></th>\n",
       "      <th>CUSTOMERS_LEVEL_BASED</th>\n",
       "      <th>PRICE</th>\n",
       "      <th>SEGMENT</th>\n",
       "    </tr>\n",
       "  </thead>\n",
       "  <tbody>\n",
       "    <tr>\n",
       "      <th>72</th>\n",
       "      <td>TUR_ANDROID_FEMALE_31_40</td>\n",
       "      <td>41.83</td>\n",
       "      <td>A</td>\n",
       "    </tr>\n",
       "  </tbody>\n",
       "</table>\n",
       "</div>"
      ],
      "text/plain": [
       "       CUSTOMERS_LEVEL_BASED  PRICE SEGMENT\n",
       "72  TUR_ANDROID_FEMALE_31_40  41.83       A"
      ]
     },
     "execution_count": 39,
     "metadata": {},
     "output_type": "execute_result"
    }
   ],
   "source": [
    "new_user = customer_segementation('TUR', 'ANDROID', 'FEMALE', '31_40')\n",
    "age_df[age_df['CUSTOMERS_LEVEL_BASED'] == new_user]"
   ]
  }
 ],
 "metadata": {
  "kernelspec": {
   "display_name": "Python 3",
   "language": "python",
   "name": "python3"
  },
  "language_info": {
   "codemirror_mode": {
    "name": "ipython",
    "version": 3
   },
   "file_extension": ".py",
   "mimetype": "text/x-python",
   "name": "python",
   "nbconvert_exporter": "python",
   "pygments_lexer": "ipython3",
   "version": "3.7.12"
  },
  "papermill": {
   "default_parameters": {},
   "duration": 16.040523,
   "end_time": "2022-11-02T10:20:28.355225",
   "environment_variables": {},
   "exception": null,
   "input_path": "__notebook__.ipynb",
   "output_path": "__notebook__.ipynb",
   "parameters": {},
   "start_time": "2022-11-02T10:20:12.314702",
   "version": "2.3.4"
  }
 },
 "nbformat": 4,
 "nbformat_minor": 5
}
