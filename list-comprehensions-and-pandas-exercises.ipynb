{
 "cells": [
  {
   "cell_type": "markdown",
   "id": "16d5a02b",
   "metadata": {
    "_cell_guid": "b1076dfc-b9ad-4769-8c92-a6c4dae69d19",
    "_uuid": "8f2839f25d086af736a60e9eeb907d3b93b6e0e5",
    "papermill": {
     "duration": 0.013773,
     "end_time": "2022-11-24T18:02:42.740600",
     "exception": false,
     "start_time": "2022-11-24T18:02:42.726827",
     "status": "completed"
    },
    "tags": []
   },
   "source": [
    "# **List Comprehensions and Pandas Exercises**"
   ]
  },
  {
   "cell_type": "markdown",
   "id": "e4bb4986",
   "metadata": {
    "papermill": {
     "duration": 0.014321,
     "end_time": "2022-11-24T18:02:42.767879",
     "exception": false,
     "start_time": "2022-11-24T18:02:42.753558",
     "status": "completed"
    },
    "tags": []
   },
   "source": [
    "## Let's use the List Comprehension structure to capitalize the names of the numeric variables in the car_crashes data and add NUM to the beginning.\n",
    "\n",
    "### Expected Output\n",
    "\n",
    "['NUM_TOTAL',\n",
    "'NUM_SPEEDING',\n",
    "'NUM_ALCOHOL',\n",
    "'NUM_NOT_DISTRACTED',\n",
    "'NUM_NO_PREVIOUS',\n",
    "'NUM_INS_PREMIUM',\n",
    "'NUM_INS_LOSSES',\n",
    "'ABBREV']\n",
    "\n",
    "### Notes: Non-numeric names should also grow. Must be done with a single list comp structure."
   ]
  },
  {
   "cell_type": "code",
   "execution_count": 1,
   "id": "bedd4d23",
   "metadata": {
    "execution": {
     "iopub.execute_input": "2022-11-24T18:02:42.795335Z",
     "iopub.status.busy": "2022-11-24T18:02:42.794681Z",
     "iopub.status.idle": "2022-11-24T18:02:44.870307Z",
     "shell.execute_reply": "2022-11-24T18:02:44.869237Z"
    },
    "papermill": {
     "duration": 2.093545,
     "end_time": "2022-11-24T18:02:44.873658",
     "exception": false,
     "start_time": "2022-11-24T18:02:42.780113",
     "status": "completed"
    },
    "tags": []
   },
   "outputs": [
    {
     "data": {
      "text/plain": [
       "['NUM_TOTAL',\n",
       " 'NUM_SPEEDING',\n",
       " 'NUM_ALCOHOL',\n",
       " 'NUM_NOT_DISTRACTED',\n",
       " 'NUM_NO_PREVIOUS',\n",
       " 'NUM_INS_PREMIUM',\n",
       " 'NUM_INS_LOSSES',\n",
       " 'ABBREV']"
      ]
     },
     "execution_count": 1,
     "metadata": {},
     "output_type": "execute_result"
    }
   ],
   "source": [
    "import seaborn as sns\n",
    "import pandas as pd\n",
    "\n",
    "pd.set_option('display.max_rows', None)\n",
    "pd.set_option('display.max_columns', None)\n",
    "pd.set_option('display.width', 500)\n",
    "\n",
    "df = sns.load_dataset(\"car_crashes\")\n",
    "\n",
    "['NUM_' + col.upper() if df[col].dtypes != 'O' else col.upper() for col in df.columns]"
   ]
  },
  {
   "cell_type": "markdown",
   "id": "5ba2d558",
   "metadata": {
    "papermill": {
     "duration": 0.012378,
     "end_time": "2022-11-24T18:02:44.898744",
     "exception": false,
     "start_time": "2022-11-24T18:02:44.886366",
     "status": "completed"
    },
    "tags": []
   },
   "source": [
    "## Using the List Comprehension structure, write \"FLAG\" after the names of the variables that do not contain \"number\" in the car_crashes data.\n",
    "\n",
    "### Notes: All variable names must be uppercase. A single list should be made with comp.\n",
    "\n",
    "### Expected output:\n",
    "['TOTAL_FLAG',\n",
    "'SPEEDING_FLAG',\n",
    "'ALCOHOL_FLAG',\n",
    "'NOT_DISTRACTED',\n",
    "'NO_PREVIOUS',\n",
    "'INS_PREMIUM_FLAG',\n",
    "'INS_LOSSES_FLAG',\n",
    "'ABBREV_FLAG']"
   ]
  },
  {
   "cell_type": "code",
   "execution_count": 2,
   "id": "b8e9f844",
   "metadata": {
    "execution": {
     "iopub.execute_input": "2022-11-24T18:02:44.926026Z",
     "iopub.status.busy": "2022-11-24T18:02:44.925651Z",
     "iopub.status.idle": "2022-11-24T18:02:44.932283Z",
     "shell.execute_reply": "2022-11-24T18:02:44.931201Z"
    },
    "papermill": {
     "duration": 0.023104,
     "end_time": "2022-11-24T18:02:44.934696",
     "exception": false,
     "start_time": "2022-11-24T18:02:44.911592",
     "status": "completed"
    },
    "tags": []
   },
   "outputs": [
    {
     "data": {
      "text/plain": [
       "['TOTAL',\n",
       " 'SPEEDING',\n",
       " 'ALCOHOL',\n",
       " 'NOT_DISTRACTED_FLAG',\n",
       " 'NO_PREVIOUS_FLAG',\n",
       " 'INS_PREMIUM',\n",
       " 'INS_LOSSES',\n",
       " 'ABBREV']"
      ]
     },
     "execution_count": 2,
     "metadata": {},
     "output_type": "execute_result"
    }
   ],
   "source": [
    "# first solution\n",
    "[col.upper() + '_FLAG' if 'no' in col else col.upper() for col in df.columns]"
   ]
  },
  {
   "cell_type": "code",
   "execution_count": 3,
   "id": "1be9a76f",
   "metadata": {
    "execution": {
     "iopub.execute_input": "2022-11-24T18:02:44.962742Z",
     "iopub.status.busy": "2022-11-24T18:02:44.961516Z",
     "iopub.status.idle": "2022-11-24T18:02:44.969738Z",
     "shell.execute_reply": "2022-11-24T18:02:44.968444Z"
    },
    "papermill": {
     "duration": 0.025247,
     "end_time": "2022-11-24T18:02:44.973010",
     "exception": false,
     "start_time": "2022-11-24T18:02:44.947763",
     "status": "completed"
    },
    "tags": []
   },
   "outputs": [
    {
     "data": {
      "text/plain": [
       "['TOTAL',\n",
       " 'SPEEDING',\n",
       " 'ALCOHOL',\n",
       " 'NOT_DISTRACTED_FLAG',\n",
       " 'NO_PREVIOUS_FLAG',\n",
       " 'INS_PREMIUM',\n",
       " 'INS_LOSSES',\n",
       " 'ABBREV']"
      ]
     },
     "execution_count": 3,
     "metadata": {},
     "output_type": "execute_result"
    }
   ],
   "source": [
    "# second solution \n",
    "[col.upper() if 'no' not in col else col.upper() + '_FLAG' for col in df.columns]"
   ]
  },
  {
   "cell_type": "markdown",
   "id": "64be0c3c",
   "metadata": {
    "papermill": {
     "duration": 0.012102,
     "end_time": "2022-11-24T18:02:44.997651",
     "exception": false,
     "start_time": "2022-11-24T18:02:44.985549",
     "status": "completed"
    },
    "tags": []
   },
   "source": [
    "## Let's choose the names of the variables that are DIFFERENT from the variable names given below using the List Comprehension structure and create a new dataframe\n",
    "\n",
    "### Notes: First, let's create a new list named new_cols using list comprehension according to the list above. Then let's create a new df by selecting these variables with df[new_cols] and name it new_df\n",
    "\n",
    "### Expected output:\n",
    "\n",
    "#### total speeding alcohol not_distracted ins_premium ins_losses\n",
    "#### 0 18,800 7.332 5,640 18,048 784,550 145,080\n",
    "#### 1 18,100 7.421 4,525 16,290 1053,480 133.930\n",
    "#### 2 18,600 6,510 5,208 15,624 899,470 110,350\n",
    "#### 3 22,400 4,032 5,824 21,056 827,340 142,390\n",
    "#### 4 12,000 4,200 3,360 10,920 878,410 165,630"
   ]
  },
  {
   "cell_type": "code",
   "execution_count": 4,
   "id": "0664dc1f",
   "metadata": {
    "execution": {
     "iopub.execute_input": "2022-11-24T18:02:45.024423Z",
     "iopub.status.busy": "2022-11-24T18:02:45.023981Z",
     "iopub.status.idle": "2022-11-24T18:02:45.047747Z",
     "shell.execute_reply": "2022-11-24T18:02:45.046653Z"
    },
    "papermill": {
     "duration": 0.04,
     "end_time": "2022-11-24T18:02:45.050281",
     "exception": false,
     "start_time": "2022-11-24T18:02:45.010281",
     "status": "completed"
    },
    "tags": []
   },
   "outputs": [
    {
     "data": {
      "text/html": [
       "<div>\n",
       "<style scoped>\n",
       "    .dataframe tbody tr th:only-of-type {\n",
       "        vertical-align: middle;\n",
       "    }\n",
       "\n",
       "    .dataframe tbody tr th {\n",
       "        vertical-align: top;\n",
       "    }\n",
       "\n",
       "    .dataframe thead th {\n",
       "        text-align: right;\n",
       "    }\n",
       "</style>\n",
       "<table border=\"1\" class=\"dataframe\">\n",
       "  <thead>\n",
       "    <tr style=\"text-align: right;\">\n",
       "      <th></th>\n",
       "      <th>total</th>\n",
       "      <th>speeding</th>\n",
       "      <th>alcohol</th>\n",
       "      <th>not_distracted</th>\n",
       "      <th>ins_premium</th>\n",
       "      <th>ins_losses</th>\n",
       "    </tr>\n",
       "  </thead>\n",
       "  <tbody>\n",
       "    <tr>\n",
       "      <th>0</th>\n",
       "      <td>18.8</td>\n",
       "      <td>7.332</td>\n",
       "      <td>5.640</td>\n",
       "      <td>18.048</td>\n",
       "      <td>784.55</td>\n",
       "      <td>145.08</td>\n",
       "    </tr>\n",
       "    <tr>\n",
       "      <th>1</th>\n",
       "      <td>18.1</td>\n",
       "      <td>7.421</td>\n",
       "      <td>4.525</td>\n",
       "      <td>16.290</td>\n",
       "      <td>1053.48</td>\n",
       "      <td>133.93</td>\n",
       "    </tr>\n",
       "    <tr>\n",
       "      <th>2</th>\n",
       "      <td>18.6</td>\n",
       "      <td>6.510</td>\n",
       "      <td>5.208</td>\n",
       "      <td>15.624</td>\n",
       "      <td>899.47</td>\n",
       "      <td>110.35</td>\n",
       "    </tr>\n",
       "    <tr>\n",
       "      <th>3</th>\n",
       "      <td>22.4</td>\n",
       "      <td>4.032</td>\n",
       "      <td>5.824</td>\n",
       "      <td>21.056</td>\n",
       "      <td>827.34</td>\n",
       "      <td>142.39</td>\n",
       "    </tr>\n",
       "    <tr>\n",
       "      <th>4</th>\n",
       "      <td>12.0</td>\n",
       "      <td>4.200</td>\n",
       "      <td>3.360</td>\n",
       "      <td>10.920</td>\n",
       "      <td>878.41</td>\n",
       "      <td>165.63</td>\n",
       "    </tr>\n",
       "  </tbody>\n",
       "</table>\n",
       "</div>"
      ],
      "text/plain": [
       "   total  speeding  alcohol  not_distracted  ins_premium  ins_losses\n",
       "0   18.8     7.332    5.640          18.048       784.55      145.08\n",
       "1   18.1     7.421    4.525          16.290      1053.48      133.93\n",
       "2   18.6     6.510    5.208          15.624       899.47      110.35\n",
       "3   22.4     4.032    5.824          21.056       827.34      142.39\n",
       "4   12.0     4.200    3.360          10.920       878.41      165.63"
      ]
     },
     "execution_count": 4,
     "metadata": {},
     "output_type": "execute_result"
    }
   ],
   "source": [
    "og_list = [\"abbrev\", \"no_previous\"]\n",
    "\n",
    "new_cols = [col for col in df.columns if col not in og_list]\n",
    "df = df[new_cols]\n",
    "df.head()"
   ]
  },
  {
   "cell_type": "markdown",
   "id": "627b7643",
   "metadata": {
    "papermill": {
     "duration": 0.012286,
     "end_time": "2022-11-24T18:02:45.075267",
     "exception": false,
     "start_time": "2022-11-24T18:02:45.062981",
     "status": "completed"
    },
    "tags": []
   },
   "source": [
    "# Pandas exercises"
   ]
  },
  {
   "cell_type": "code",
   "execution_count": 5,
   "id": "53fc1549",
   "metadata": {
    "execution": {
     "iopub.execute_input": "2022-11-24T18:02:45.102162Z",
     "iopub.status.busy": "2022-11-24T18:02:45.101737Z",
     "iopub.status.idle": "2022-11-24T18:02:45.107512Z",
     "shell.execute_reply": "2022-11-24T18:02:45.106504Z"
    },
    "papermill": {
     "duration": 0.021642,
     "end_time": "2022-11-24T18:02:45.109499",
     "exception": false,
     "start_time": "2022-11-24T18:02:45.087857",
     "status": "completed"
    },
    "tags": []
   },
   "outputs": [],
   "source": [
    "import numpy as np\n",
    "import seaborn as sns\n",
    "import pandas as pd\n",
    "import matplotlib.pyplot as plt\n",
    "\n",
    "pd.set_option('display.max_rows', None)\n",
    "pd.set_option('display.max_columns', None)\n",
    "pd.set_option('display.width', 1000)"
   ]
  },
  {
   "cell_type": "markdown",
   "id": "d0bc99c2",
   "metadata": {
    "papermill": {
     "duration": 0.012234,
     "end_time": "2022-11-24T18:02:45.134284",
     "exception": false,
     "start_time": "2022-11-24T18:02:45.122050",
     "status": "completed"
    },
    "tags": []
   },
   "source": [
    "# Let's define the Titanic dataset from the Seaborn library"
   ]
  },
  {
   "cell_type": "code",
   "execution_count": 6,
   "id": "0f31fd93",
   "metadata": {
    "execution": {
     "iopub.execute_input": "2022-11-24T18:02:45.161132Z",
     "iopub.status.busy": "2022-11-24T18:02:45.160699Z",
     "iopub.status.idle": "2022-11-24T18:02:45.945082Z",
     "shell.execute_reply": "2022-11-24T18:02:45.944019Z"
    },
    "papermill": {
     "duration": 0.800687,
     "end_time": "2022-11-24T18:02:45.947445",
     "exception": false,
     "start_time": "2022-11-24T18:02:45.146758",
     "status": "completed"
    },
    "tags": []
   },
   "outputs": [
    {
     "data": {
      "text/html": [
       "<div>\n",
       "<style scoped>\n",
       "    .dataframe tbody tr th:only-of-type {\n",
       "        vertical-align: middle;\n",
       "    }\n",
       "\n",
       "    .dataframe tbody tr th {\n",
       "        vertical-align: top;\n",
       "    }\n",
       "\n",
       "    .dataframe thead th {\n",
       "        text-align: right;\n",
       "    }\n",
       "</style>\n",
       "<table border=\"1\" class=\"dataframe\">\n",
       "  <thead>\n",
       "    <tr style=\"text-align: right;\">\n",
       "      <th></th>\n",
       "      <th>survived</th>\n",
       "      <th>pclass</th>\n",
       "      <th>sex</th>\n",
       "      <th>age</th>\n",
       "      <th>sibsp</th>\n",
       "      <th>parch</th>\n",
       "      <th>fare</th>\n",
       "      <th>embarked</th>\n",
       "      <th>class</th>\n",
       "      <th>who</th>\n",
       "      <th>adult_male</th>\n",
       "      <th>deck</th>\n",
       "      <th>embark_town</th>\n",
       "      <th>alive</th>\n",
       "      <th>alone</th>\n",
       "    </tr>\n",
       "  </thead>\n",
       "  <tbody>\n",
       "    <tr>\n",
       "      <th>0</th>\n",
       "      <td>0</td>\n",
       "      <td>3</td>\n",
       "      <td>male</td>\n",
       "      <td>22.0</td>\n",
       "      <td>1</td>\n",
       "      <td>0</td>\n",
       "      <td>7.2500</td>\n",
       "      <td>S</td>\n",
       "      <td>Third</td>\n",
       "      <td>man</td>\n",
       "      <td>True</td>\n",
       "      <td>NaN</td>\n",
       "      <td>Southampton</td>\n",
       "      <td>no</td>\n",
       "      <td>False</td>\n",
       "    </tr>\n",
       "    <tr>\n",
       "      <th>1</th>\n",
       "      <td>1</td>\n",
       "      <td>1</td>\n",
       "      <td>female</td>\n",
       "      <td>38.0</td>\n",
       "      <td>1</td>\n",
       "      <td>0</td>\n",
       "      <td>71.2833</td>\n",
       "      <td>C</td>\n",
       "      <td>First</td>\n",
       "      <td>woman</td>\n",
       "      <td>False</td>\n",
       "      <td>C</td>\n",
       "      <td>Cherbourg</td>\n",
       "      <td>yes</td>\n",
       "      <td>False</td>\n",
       "    </tr>\n",
       "    <tr>\n",
       "      <th>2</th>\n",
       "      <td>1</td>\n",
       "      <td>3</td>\n",
       "      <td>female</td>\n",
       "      <td>26.0</td>\n",
       "      <td>0</td>\n",
       "      <td>0</td>\n",
       "      <td>7.9250</td>\n",
       "      <td>S</td>\n",
       "      <td>Third</td>\n",
       "      <td>woman</td>\n",
       "      <td>False</td>\n",
       "      <td>NaN</td>\n",
       "      <td>Southampton</td>\n",
       "      <td>yes</td>\n",
       "      <td>True</td>\n",
       "    </tr>\n",
       "    <tr>\n",
       "      <th>3</th>\n",
       "      <td>1</td>\n",
       "      <td>1</td>\n",
       "      <td>female</td>\n",
       "      <td>35.0</td>\n",
       "      <td>1</td>\n",
       "      <td>0</td>\n",
       "      <td>53.1000</td>\n",
       "      <td>S</td>\n",
       "      <td>First</td>\n",
       "      <td>woman</td>\n",
       "      <td>False</td>\n",
       "      <td>C</td>\n",
       "      <td>Southampton</td>\n",
       "      <td>yes</td>\n",
       "      <td>False</td>\n",
       "    </tr>\n",
       "    <tr>\n",
       "      <th>4</th>\n",
       "      <td>0</td>\n",
       "      <td>3</td>\n",
       "      <td>male</td>\n",
       "      <td>35.0</td>\n",
       "      <td>0</td>\n",
       "      <td>0</td>\n",
       "      <td>8.0500</td>\n",
       "      <td>S</td>\n",
       "      <td>Third</td>\n",
       "      <td>man</td>\n",
       "      <td>True</td>\n",
       "      <td>NaN</td>\n",
       "      <td>Southampton</td>\n",
       "      <td>no</td>\n",
       "      <td>True</td>\n",
       "    </tr>\n",
       "  </tbody>\n",
       "</table>\n",
       "</div>"
      ],
      "text/plain": [
       "   survived  pclass     sex   age  sibsp  parch     fare embarked  class    who  adult_male deck  embark_town alive  alone\n",
       "0         0       3    male  22.0      1      0   7.2500        S  Third    man        True  NaN  Southampton    no  False\n",
       "1         1       1  female  38.0      1      0  71.2833        C  First  woman       False    C    Cherbourg   yes  False\n",
       "2         1       3  female  26.0      0      0   7.9250        S  Third  woman       False  NaN  Southampton   yes   True\n",
       "3         1       1  female  35.0      1      0  53.1000        S  First  woman       False    C  Southampton   yes  False\n",
       "4         0       3    male  35.0      0      0   8.0500        S  Third    man        True  NaN  Southampton    no   True"
      ]
     },
     "execution_count": 6,
     "metadata": {},
     "output_type": "execute_result"
    }
   ],
   "source": [
    "df = sns.load_dataset('titanic')\n",
    "df.head()"
   ]
  },
  {
   "cell_type": "markdown",
   "id": "da6a9854",
   "metadata": {
    "papermill": {
     "duration": 0.012684,
     "end_time": "2022-11-24T18:02:45.973460",
     "exception": false,
     "start_time": "2022-11-24T18:02:45.960776",
     "status": "completed"
    },
    "tags": []
   },
   "source": [
    "## Let's find the number of female and target passengers in the Titanic dataset described above"
   ]
  },
  {
   "cell_type": "code",
   "execution_count": 7,
   "id": "86927be8",
   "metadata": {
    "execution": {
     "iopub.execute_input": "2022-11-24T18:02:46.002592Z",
     "iopub.status.busy": "2022-11-24T18:02:46.002174Z",
     "iopub.status.idle": "2022-11-24T18:02:46.011773Z",
     "shell.execute_reply": "2022-11-24T18:02:46.010994Z"
    },
    "papermill": {
     "duration": 0.026921,
     "end_time": "2022-11-24T18:02:46.013767",
     "exception": false,
     "start_time": "2022-11-24T18:02:45.986846",
     "status": "completed"
    },
    "tags": []
   },
   "outputs": [
    {
     "data": {
      "text/plain": [
       "male      577\n",
       "female    314\n",
       "Name: sex, dtype: int64"
      ]
     },
     "execution_count": 7,
     "metadata": {},
     "output_type": "execute_result"
    }
   ],
   "source": [
    "df['sex'].value_counts()"
   ]
  },
  {
   "cell_type": "code",
   "execution_count": 8,
   "id": "ac88114b",
   "metadata": {
    "execution": {
     "iopub.execute_input": "2022-11-24T18:02:46.041923Z",
     "iopub.status.busy": "2022-11-24T18:02:46.040999Z",
     "iopub.status.idle": "2022-11-24T18:02:46.266752Z",
     "shell.execute_reply": "2022-11-24T18:02:46.265570Z"
    },
    "papermill": {
     "duration": 0.242975,
     "end_time": "2022-11-24T18:02:46.269584",
     "exception": false,
     "start_time": "2022-11-24T18:02:46.026609",
     "status": "completed"
    },
    "tags": []
   },
   "outputs": [
    {
     "data": {
      "image/png": "[encoded data removed]",
      "text/plain": [
       "<Figure size 432x288 with 1 Axes>"
      ]
     },
     "metadata": {
      "needs_background": "light"
     },
     "output_type": "display_data"
    }
   ],
   "source": [
    "df['sex'].value_counts().plot(kind='bar')\n",
    "plt.show(block=True)"
   ]
  },
  {
   "cell_type": "code",
   "execution_count": 9,
   "id": "13bbccba",
   "metadata": {
    "execution": {
     "iopub.execute_input": "2022-11-24T18:02:46.298656Z",
     "iopub.status.busy": "2022-11-24T18:02:46.297483Z",
     "iopub.status.idle": "2022-11-24T18:02:46.468310Z",
     "shell.execute_reply": "2022-11-24T18:02:46.467521Z"
    },
    "papermill": {
     "duration": 0.187498,
     "end_time": "2022-11-24T18:02:46.470365",
     "exception": false,
     "start_time": "2022-11-24T18:02:46.282867",
     "status": "completed"
    },
    "tags": []
   },
   "outputs": [
    {
     "data": {
      "image/png": "[encoded data removed]",
      "text/plain": [
       "<Figure size 432x288 with 1 Axes>"
      ]
     },
     "metadata": {
      "needs_background": "light"
     },
     "output_type": "display_data"
    }
   ],
   "source": [
    "sns.countplot(x=df['sex'], data=df)\n",
    "plt.show(block=True)"
   ]
  },
  {
   "cell_type": "markdown",
   "id": "33822d59",
   "metadata": {
    "papermill": {
     "duration": 0.013002,
     "end_time": "2022-11-24T18:02:46.496429",
     "exception": false,
     "start_time": "2022-11-24T18:02:46.483427",
     "status": "completed"
    },
    "tags": []
   },
   "source": [
    "## Let's find the number of unique values for each column"
   ]
  },
  {
   "cell_type": "code",
   "execution_count": 10,
   "id": "92085791",
   "metadata": {
    "execution": {
     "iopub.execute_input": "2022-11-24T18:02:46.525781Z",
     "iopub.status.busy": "2022-11-24T18:02:46.525010Z",
     "iopub.status.idle": "2022-11-24T18:02:46.540219Z",
     "shell.execute_reply": "2022-11-24T18:02:46.539128Z"
    },
    "papermill": {
     "duration": 0.032525,
     "end_time": "2022-11-24T18:02:46.542614",
     "exception": false,
     "start_time": "2022-11-24T18:02:46.510089",
     "status": "completed"
    },
    "tags": []
   },
   "outputs": [
    {
     "data": {
      "text/plain": [
       "fare           248\n",
       "age             88\n",
       "sibsp            7\n",
       "parch            7\n",
       "deck             7\n",
       "pclass           3\n",
       "embarked         3\n",
       "class            3\n",
       "who              3\n",
       "embark_town      3\n",
       "survived         2\n",
       "sex              2\n",
       "adult_male       2\n",
       "alive            2\n",
       "alone            2\n",
       "dtype: int64"
      ]
     },
     "execution_count": 10,
     "metadata": {},
     "output_type": "execute_result"
    }
   ],
   "source": [
    "df.nunique().sort_values(ascending=False)"
   ]
  },
  {
   "cell_type": "markdown",
   "id": "0fc5e4fa",
   "metadata": {
    "papermill": {
     "duration": 0.013141,
     "end_time": "2022-11-24T18:02:46.569759",
     "exception": false,
     "start_time": "2022-11-24T18:02:46.556618",
     "status": "completed"
    },
    "tags": []
   },
   "source": [
    "## Let's find the unique values of the pclass variable"
   ]
  },
  {
   "cell_type": "code",
   "execution_count": 11,
   "id": "cabe706d",
   "metadata": {
    "execution": {
     "iopub.execute_input": "2022-11-24T18:02:46.599050Z",
     "iopub.status.busy": "2022-11-24T18:02:46.598258Z",
     "iopub.status.idle": "2022-11-24T18:02:46.605983Z",
     "shell.execute_reply": "2022-11-24T18:02:46.604965Z"
    },
    "papermill": {
     "duration": 0.025321,
     "end_time": "2022-11-24T18:02:46.608491",
     "exception": false,
     "start_time": "2022-11-24T18:02:46.583170",
     "status": "completed"
    },
    "tags": []
   },
   "outputs": [
    {
     "data": {
      "text/plain": [
       "array([3, 1, 2])"
      ]
     },
     "execution_count": 11,
     "metadata": {},
     "output_type": "execute_result"
    }
   ],
   "source": [
    "df['pclass'].unique()"
   ]
  },
  {
   "cell_type": "code",
   "execution_count": 12,
   "id": "a3cbdc5d",
   "metadata": {
    "execution": {
     "iopub.execute_input": "2022-11-24T18:02:46.638674Z",
     "iopub.status.busy": "2022-11-24T18:02:46.638287Z",
     "iopub.status.idle": "2022-11-24T18:02:46.645330Z",
     "shell.execute_reply": "2022-11-24T18:02:46.644228Z"
    },
    "papermill": {
     "duration": 0.024877,
     "end_time": "2022-11-24T18:02:46.647542",
     "exception": false,
     "start_time": "2022-11-24T18:02:46.622665",
     "status": "completed"
    },
    "tags": []
   },
   "outputs": [
    {
     "data": {
      "text/plain": [
       "3"
      ]
     },
     "execution_count": 12,
     "metadata": {},
     "output_type": "execute_result"
    }
   ],
   "source": [
    "df['pclass'].nunique()"
   ]
  },
  {
   "cell_type": "markdown",
   "id": "cb45a810",
   "metadata": {
    "papermill": {
     "duration": 0.013421,
     "end_time": "2022-11-24T18:02:46.674921",
     "exception": false,
     "start_time": "2022-11-24T18:02:46.661500",
     "status": "completed"
    },
    "tags": []
   },
   "source": [
    "## Let's find the number of unique values of pclass and parch variables"
   ]
  },
  {
   "cell_type": "code",
   "execution_count": 13,
   "id": "cb772054",
   "metadata": {
    "execution": {
     "iopub.execute_input": "2022-11-24T18:02:46.704739Z",
     "iopub.status.busy": "2022-11-24T18:02:46.704088Z",
     "iopub.status.idle": "2022-11-24T18:02:46.713511Z",
     "shell.execute_reply": "2022-11-24T18:02:46.712409Z"
    },
    "papermill": {
     "duration": 0.027123,
     "end_time": "2022-11-24T18:02:46.715645",
     "exception": false,
     "start_time": "2022-11-24T18:02:46.688522",
     "status": "completed"
    },
    "tags": []
   },
   "outputs": [
    {
     "data": {
      "text/plain": [
       "pclass    3\n",
       "parch     7\n",
       "dtype: int64"
      ]
     },
     "execution_count": 13,
     "metadata": {},
     "output_type": "execute_result"
    }
   ],
   "source": [
    "df[['pclass', 'parch']].nunique()"
   ]
  },
  {
   "cell_type": "markdown",
   "id": "2687820b",
   "metadata": {
    "papermill": {
     "duration": 0.013608,
     "end_time": "2022-11-24T18:02:46.744287",
     "exception": false,
     "start_time": "2022-11-24T18:02:46.730679",
     "status": "completed"
    },
    "tags": []
   },
   "source": [
    "## Let's check the type of the embarked variable. Let's change its type to category. Let's check the type again."
   ]
  },
  {
   "cell_type": "code",
   "execution_count": 14,
   "id": "c0f3fcbf",
   "metadata": {
    "execution": {
     "iopub.execute_input": "2022-11-24T18:02:46.775062Z",
     "iopub.status.busy": "2022-11-24T18:02:46.774393Z",
     "iopub.status.idle": "2022-11-24T18:02:46.781399Z",
     "shell.execute_reply": "2022-11-24T18:02:46.780348Z"
    },
    "papermill": {
     "duration": 0.024869,
     "end_time": "2022-11-24T18:02:46.783523",
     "exception": false,
     "start_time": "2022-11-24T18:02:46.758654",
     "status": "completed"
    },
    "tags": []
   },
   "outputs": [
    {
     "data": {
      "text/plain": [
       "dtype('O')"
      ]
     },
     "execution_count": 14,
     "metadata": {},
     "output_type": "execute_result"
    }
   ],
   "source": [
    "df['embarked'].dtype"
   ]
  },
  {
   "cell_type": "code",
   "execution_count": 15,
   "id": "18d398ac",
   "metadata": {
    "execution": {
     "iopub.execute_input": "2022-11-24T18:02:46.813733Z",
     "iopub.status.busy": "2022-11-24T18:02:46.813024Z",
     "iopub.status.idle": "2022-11-24T18:02:46.821792Z",
     "shell.execute_reply": "2022-11-24T18:02:46.820740Z"
    },
    "papermill": {
     "duration": 0.02666,
     "end_time": "2022-11-24T18:02:46.824066",
     "exception": false,
     "start_time": "2022-11-24T18:02:46.797406",
     "status": "completed"
    },
    "tags": []
   },
   "outputs": [
    {
     "data": {
      "text/plain": [
       "CategoricalDtype(categories=['C', 'Q', 'S'], ordered=False)"
      ]
     },
     "execution_count": 15,
     "metadata": {},
     "output_type": "execute_result"
    }
   ],
   "source": [
    "df.embarked = df.embarked.astype('category')\n",
    "df['embarked'].dtype"
   ]
  },
  {
   "cell_type": "markdown",
   "id": "ec7b0a37",
   "metadata": {
    "papermill": {
     "duration": 0.013906,
     "end_time": "2022-11-24T18:02:46.853083",
     "exception": false,
     "start_time": "2022-11-24T18:02:46.839177",
     "status": "completed"
    },
    "tags": []
   },
   "source": [
    "## Let's show all the sages of embarked value C"
   ]
  },
  {
   "cell_type": "code",
   "execution_count": 16,
   "id": "e05e41aa",
   "metadata": {
    "execution": {
     "iopub.execute_input": "2022-11-24T18:02:46.882621Z",
     "iopub.status.busy": "2022-11-24T18:02:46.882195Z",
     "iopub.status.idle": "2022-11-24T18:02:46.904160Z",
     "shell.execute_reply": "2022-11-24T18:02:46.903092Z"
    },
    "papermill": {
     "duration": 0.039269,
     "end_time": "2022-11-24T18:02:46.906446",
     "exception": false,
     "start_time": "2022-11-24T18:02:46.867177",
     "status": "completed"
    },
    "tags": []
   },
   "outputs": [
    {
     "data": {
      "text/html": [
       "<div>\n",
       "<style scoped>\n",
       "    .dataframe tbody tr th:only-of-type {\n",
       "        vertical-align: middle;\n",
       "    }\n",
       "\n",
       "    .dataframe tbody tr th {\n",
       "        vertical-align: top;\n",
       "    }\n",
       "\n",
       "    .dataframe thead th {\n",
       "        text-align: right;\n",
       "    }\n",
       "</style>\n",
       "<table border=\"1\" class=\"dataframe\">\n",
       "  <thead>\n",
       "    <tr style=\"text-align: right;\">\n",
       "      <th></th>\n",
       "      <th>survived</th>\n",
       "      <th>pclass</th>\n",
       "      <th>sex</th>\n",
       "      <th>age</th>\n",
       "      <th>sibsp</th>\n",
       "      <th>parch</th>\n",
       "      <th>fare</th>\n",
       "      <th>embarked</th>\n",
       "      <th>class</th>\n",
       "      <th>who</th>\n",
       "      <th>adult_male</th>\n",
       "      <th>deck</th>\n",
       "      <th>embark_town</th>\n",
       "      <th>alive</th>\n",
       "      <th>alone</th>\n",
       "    </tr>\n",
       "  </thead>\n",
       "  <tbody>\n",
       "    <tr>\n",
       "      <th>1</th>\n",
       "      <td>1</td>\n",
       "      <td>1</td>\n",
       "      <td>female</td>\n",
       "      <td>38.0</td>\n",
       "      <td>1</td>\n",
       "      <td>0</td>\n",
       "      <td>71.2833</td>\n",
       "      <td>C</td>\n",
       "      <td>First</td>\n",
       "      <td>woman</td>\n",
       "      <td>False</td>\n",
       "      <td>C</td>\n",
       "      <td>Cherbourg</td>\n",
       "      <td>yes</td>\n",
       "      <td>False</td>\n",
       "    </tr>\n",
       "    <tr>\n",
       "      <th>9</th>\n",
       "      <td>1</td>\n",
       "      <td>2</td>\n",
       "      <td>female</td>\n",
       "      <td>14.0</td>\n",
       "      <td>1</td>\n",
       "      <td>0</td>\n",
       "      <td>30.0708</td>\n",
       "      <td>C</td>\n",
       "      <td>Second</td>\n",
       "      <td>child</td>\n",
       "      <td>False</td>\n",
       "      <td>NaN</td>\n",
       "      <td>Cherbourg</td>\n",
       "      <td>yes</td>\n",
       "      <td>False</td>\n",
       "    </tr>\n",
       "    <tr>\n",
       "      <th>19</th>\n",
       "      <td>1</td>\n",
       "      <td>3</td>\n",
       "      <td>female</td>\n",
       "      <td>NaN</td>\n",
       "      <td>0</td>\n",
       "      <td>0</td>\n",
       "      <td>7.2250</td>\n",
       "      <td>C</td>\n",
       "      <td>Third</td>\n",
       "      <td>woman</td>\n",
       "      <td>False</td>\n",
       "      <td>NaN</td>\n",
       "      <td>Cherbourg</td>\n",
       "      <td>yes</td>\n",
       "      <td>True</td>\n",
       "    </tr>\n",
       "    <tr>\n",
       "      <th>26</th>\n",
       "      <td>0</td>\n",
       "      <td>3</td>\n",
       "      <td>male</td>\n",
       "      <td>NaN</td>\n",
       "      <td>0</td>\n",
       "      <td>0</td>\n",
       "      <td>7.2250</td>\n",
       "      <td>C</td>\n",
       "      <td>Third</td>\n",
       "      <td>man</td>\n",
       "      <td>True</td>\n",
       "      <td>NaN</td>\n",
       "      <td>Cherbourg</td>\n",
       "      <td>no</td>\n",
       "      <td>True</td>\n",
       "    </tr>\n",
       "    <tr>\n",
       "      <th>30</th>\n",
       "      <td>0</td>\n",
       "      <td>1</td>\n",
       "      <td>male</td>\n",
       "      <td>40.0</td>\n",
       "      <td>0</td>\n",
       "      <td>0</td>\n",
       "      <td>27.7208</td>\n",
       "      <td>C</td>\n",
       "      <td>First</td>\n",
       "      <td>man</td>\n",
       "      <td>True</td>\n",
       "      <td>NaN</td>\n",
       "      <td>Cherbourg</td>\n",
       "      <td>no</td>\n",
       "      <td>True</td>\n",
       "    </tr>\n",
       "  </tbody>\n",
       "</table>\n",
       "</div>"
      ],
      "text/plain": [
       "    survived  pclass     sex   age  sibsp  parch     fare embarked   class    who  adult_male deck embark_town alive  alone\n",
       "1          1       1  female  38.0      1      0  71.2833        C   First  woman       False    C   Cherbourg   yes  False\n",
       "9          1       2  female  14.0      1      0  30.0708        C  Second  child       False  NaN   Cherbourg   yes  False\n",
       "19         1       3  female   NaN      0      0   7.2250        C   Third  woman       False  NaN   Cherbourg   yes   True\n",
       "26         0       3    male   NaN      0      0   7.2250        C   Third    man        True  NaN   Cherbourg    no   True\n",
       "30         0       1    male  40.0      0      0  27.7208        C   First    man        True  NaN   Cherbourg    no   True"
      ]
     },
     "execution_count": 16,
     "metadata": {},
     "output_type": "execute_result"
    }
   ],
   "source": [
    "df[df['embarked'] == 'C'].head()"
   ]
  },
  {
   "cell_type": "markdown",
   "id": "5fb77240",
   "metadata": {
    "papermill": {
     "duration": 0.014293,
     "end_time": "2022-11-24T18:02:46.935061",
     "exception": false,
     "start_time": "2022-11-24T18:02:46.920768",
     "status": "completed"
    },
    "tags": []
   },
   "source": [
    "## Let's show all the sages of those with no embarked value S"
   ]
  },
  {
   "cell_type": "code",
   "execution_count": 17,
   "id": "d9b318d2",
   "metadata": {
    "execution": {
     "iopub.execute_input": "2022-11-24T18:02:46.965694Z",
     "iopub.status.busy": "2022-11-24T18:02:46.965001Z",
     "iopub.status.idle": "2022-11-24T18:02:46.984828Z",
     "shell.execute_reply": "2022-11-24T18:02:46.983767Z"
    },
    "papermill": {
     "duration": 0.038072,
     "end_time": "2022-11-24T18:02:46.987335",
     "exception": false,
     "start_time": "2022-11-24T18:02:46.949263",
     "status": "completed"
    },
    "tags": []
   },
   "outputs": [
    {
     "data": {
      "text/html": [
       "<div>\n",
       "<style scoped>\n",
       "    .dataframe tbody tr th:only-of-type {\n",
       "        vertical-align: middle;\n",
       "    }\n",
       "\n",
       "    .dataframe tbody tr th {\n",
       "        vertical-align: top;\n",
       "    }\n",
       "\n",
       "    .dataframe thead th {\n",
       "        text-align: right;\n",
       "    }\n",
       "</style>\n",
       "<table border=\"1\" class=\"dataframe\">\n",
       "  <thead>\n",
       "    <tr style=\"text-align: right;\">\n",
       "      <th></th>\n",
       "      <th>survived</th>\n",
       "      <th>pclass</th>\n",
       "      <th>sex</th>\n",
       "      <th>age</th>\n",
       "      <th>sibsp</th>\n",
       "      <th>parch</th>\n",
       "      <th>fare</th>\n",
       "      <th>embarked</th>\n",
       "      <th>class</th>\n",
       "      <th>who</th>\n",
       "      <th>adult_male</th>\n",
       "      <th>deck</th>\n",
       "      <th>embark_town</th>\n",
       "      <th>alive</th>\n",
       "      <th>alone</th>\n",
       "    </tr>\n",
       "  </thead>\n",
       "  <tbody>\n",
       "    <tr>\n",
       "      <th>1</th>\n",
       "      <td>1</td>\n",
       "      <td>1</td>\n",
       "      <td>female</td>\n",
       "      <td>38.0</td>\n",
       "      <td>1</td>\n",
       "      <td>0</td>\n",
       "      <td>71.2833</td>\n",
       "      <td>C</td>\n",
       "      <td>First</td>\n",
       "      <td>woman</td>\n",
       "      <td>False</td>\n",
       "      <td>C</td>\n",
       "      <td>Cherbourg</td>\n",
       "      <td>yes</td>\n",
       "      <td>False</td>\n",
       "    </tr>\n",
       "    <tr>\n",
       "      <th>5</th>\n",
       "      <td>0</td>\n",
       "      <td>3</td>\n",
       "      <td>male</td>\n",
       "      <td>NaN</td>\n",
       "      <td>0</td>\n",
       "      <td>0</td>\n",
       "      <td>8.4583</td>\n",
       "      <td>Q</td>\n",
       "      <td>Third</td>\n",
       "      <td>man</td>\n",
       "      <td>True</td>\n",
       "      <td>NaN</td>\n",
       "      <td>Queenstown</td>\n",
       "      <td>no</td>\n",
       "      <td>True</td>\n",
       "    </tr>\n",
       "    <tr>\n",
       "      <th>9</th>\n",
       "      <td>1</td>\n",
       "      <td>2</td>\n",
       "      <td>female</td>\n",
       "      <td>14.0</td>\n",
       "      <td>1</td>\n",
       "      <td>0</td>\n",
       "      <td>30.0708</td>\n",
       "      <td>C</td>\n",
       "      <td>Second</td>\n",
       "      <td>child</td>\n",
       "      <td>False</td>\n",
       "      <td>NaN</td>\n",
       "      <td>Cherbourg</td>\n",
       "      <td>yes</td>\n",
       "      <td>False</td>\n",
       "    </tr>\n",
       "    <tr>\n",
       "      <th>16</th>\n",
       "      <td>0</td>\n",
       "      <td>3</td>\n",
       "      <td>male</td>\n",
       "      <td>2.0</td>\n",
       "      <td>4</td>\n",
       "      <td>1</td>\n",
       "      <td>29.1250</td>\n",
       "      <td>Q</td>\n",
       "      <td>Third</td>\n",
       "      <td>child</td>\n",
       "      <td>False</td>\n",
       "      <td>NaN</td>\n",
       "      <td>Queenstown</td>\n",
       "      <td>no</td>\n",
       "      <td>False</td>\n",
       "    </tr>\n",
       "    <tr>\n",
       "      <th>19</th>\n",
       "      <td>1</td>\n",
       "      <td>3</td>\n",
       "      <td>female</td>\n",
       "      <td>NaN</td>\n",
       "      <td>0</td>\n",
       "      <td>0</td>\n",
       "      <td>7.2250</td>\n",
       "      <td>C</td>\n",
       "      <td>Third</td>\n",
       "      <td>woman</td>\n",
       "      <td>False</td>\n",
       "      <td>NaN</td>\n",
       "      <td>Cherbourg</td>\n",
       "      <td>yes</td>\n",
       "      <td>True</td>\n",
       "    </tr>\n",
       "  </tbody>\n",
       "</table>\n",
       "</div>"
      ],
      "text/plain": [
       "    survived  pclass     sex   age  sibsp  parch     fare embarked   class    who  adult_male deck embark_town alive  alone\n",
       "1          1       1  female  38.0      1      0  71.2833        C   First  woman       False    C   Cherbourg   yes  False\n",
       "5          0       3    male   NaN      0      0   8.4583        Q   Third    man        True  NaN  Queenstown    no   True\n",
       "9          1       2  female  14.0      1      0  30.0708        C  Second  child       False  NaN   Cherbourg   yes  False\n",
       "16         0       3    male   2.0      4      1  29.1250        Q   Third  child       False  NaN  Queenstown    no  False\n",
       "19         1       3  female   NaN      0      0   7.2250        C   Third  woman       False  NaN   Cherbourg   yes   True"
      ]
     },
     "execution_count": 17,
     "metadata": {},
     "output_type": "execute_result"
    }
   ],
   "source": [
    "df[df['embarked'] != 'S'].head()"
   ]
  },
  {
   "cell_type": "markdown",
   "id": "9545a1a8",
   "metadata": {
    "papermill": {
     "duration": 0.014432,
     "end_time": "2022-11-24T18:02:47.016647",
     "exception": false,
     "start_time": "2022-11-24T18:02:47.002215",
     "status": "completed"
    },
    "tags": []
   },
   "source": [
    "## Let's show all the information of passengers younger than 30 and female"
   ]
  },
  {
   "cell_type": "code",
   "execution_count": 18,
   "id": "fcde13a1",
   "metadata": {
    "execution": {
     "iopub.execute_input": "2022-11-24T18:02:47.048233Z",
     "iopub.status.busy": "2022-11-24T18:02:47.047789Z",
     "iopub.status.idle": "2022-11-24T18:02:47.070162Z",
     "shell.execute_reply": "2022-11-24T18:02:47.069128Z"
    },
    "papermill": {
     "duration": 0.040869,
     "end_time": "2022-11-24T18:02:47.072562",
     "exception": false,
     "start_time": "2022-11-24T18:02:47.031693",
     "status": "completed"
    },
    "tags": []
   },
   "outputs": [
    {
     "data": {
      "text/html": [
       "<div>\n",
       "<style scoped>\n",
       "    .dataframe tbody tr th:only-of-type {\n",
       "        vertical-align: middle;\n",
       "    }\n",
       "\n",
       "    .dataframe tbody tr th {\n",
       "        vertical-align: top;\n",
       "    }\n",
       "\n",
       "    .dataframe thead th {\n",
       "        text-align: right;\n",
       "    }\n",
       "</style>\n",
       "<table border=\"1\" class=\"dataframe\">\n",
       "  <thead>\n",
       "    <tr style=\"text-align: right;\">\n",
       "      <th></th>\n",
       "      <th>survived</th>\n",
       "      <th>pclass</th>\n",
       "      <th>sex</th>\n",
       "      <th>age</th>\n",
       "      <th>sibsp</th>\n",
       "      <th>parch</th>\n",
       "      <th>fare</th>\n",
       "      <th>embarked</th>\n",
       "      <th>class</th>\n",
       "      <th>who</th>\n",
       "      <th>adult_male</th>\n",
       "      <th>deck</th>\n",
       "      <th>embark_town</th>\n",
       "      <th>alive</th>\n",
       "      <th>alone</th>\n",
       "    </tr>\n",
       "  </thead>\n",
       "  <tbody>\n",
       "    <tr>\n",
       "      <th>2</th>\n",
       "      <td>1</td>\n",
       "      <td>3</td>\n",
       "      <td>female</td>\n",
       "      <td>26.0</td>\n",
       "      <td>0</td>\n",
       "      <td>0</td>\n",
       "      <td>7.9250</td>\n",
       "      <td>S</td>\n",
       "      <td>Third</td>\n",
       "      <td>woman</td>\n",
       "      <td>False</td>\n",
       "      <td>NaN</td>\n",
       "      <td>Southampton</td>\n",
       "      <td>yes</td>\n",
       "      <td>True</td>\n",
       "    </tr>\n",
       "    <tr>\n",
       "      <th>8</th>\n",
       "      <td>1</td>\n",
       "      <td>3</td>\n",
       "      <td>female</td>\n",
       "      <td>27.0</td>\n",
       "      <td>0</td>\n",
       "      <td>2</td>\n",
       "      <td>11.1333</td>\n",
       "      <td>S</td>\n",
       "      <td>Third</td>\n",
       "      <td>woman</td>\n",
       "      <td>False</td>\n",
       "      <td>NaN</td>\n",
       "      <td>Southampton</td>\n",
       "      <td>yes</td>\n",
       "      <td>False</td>\n",
       "    </tr>\n",
       "    <tr>\n",
       "      <th>9</th>\n",
       "      <td>1</td>\n",
       "      <td>2</td>\n",
       "      <td>female</td>\n",
       "      <td>14.0</td>\n",
       "      <td>1</td>\n",
       "      <td>0</td>\n",
       "      <td>30.0708</td>\n",
       "      <td>C</td>\n",
       "      <td>Second</td>\n",
       "      <td>child</td>\n",
       "      <td>False</td>\n",
       "      <td>NaN</td>\n",
       "      <td>Cherbourg</td>\n",
       "      <td>yes</td>\n",
       "      <td>False</td>\n",
       "    </tr>\n",
       "    <tr>\n",
       "      <th>10</th>\n",
       "      <td>1</td>\n",
       "      <td>3</td>\n",
       "      <td>female</td>\n",
       "      <td>4.0</td>\n",
       "      <td>1</td>\n",
       "      <td>1</td>\n",
       "      <td>16.7000</td>\n",
       "      <td>S</td>\n",
       "      <td>Third</td>\n",
       "      <td>child</td>\n",
       "      <td>False</td>\n",
       "      <td>G</td>\n",
       "      <td>Southampton</td>\n",
       "      <td>yes</td>\n",
       "      <td>False</td>\n",
       "    </tr>\n",
       "    <tr>\n",
       "      <th>14</th>\n",
       "      <td>0</td>\n",
       "      <td>3</td>\n",
       "      <td>female</td>\n",
       "      <td>14.0</td>\n",
       "      <td>0</td>\n",
       "      <td>0</td>\n",
       "      <td>7.8542</td>\n",
       "      <td>S</td>\n",
       "      <td>Third</td>\n",
       "      <td>child</td>\n",
       "      <td>False</td>\n",
       "      <td>NaN</td>\n",
       "      <td>Southampton</td>\n",
       "      <td>no</td>\n",
       "      <td>True</td>\n",
       "    </tr>\n",
       "  </tbody>\n",
       "</table>\n",
       "</div>"
      ],
      "text/plain": [
       "    survived  pclass     sex   age  sibsp  parch     fare embarked   class    who  adult_male deck  embark_town alive  alone\n",
       "2          1       3  female  26.0      0      0   7.9250        S   Third  woman       False  NaN  Southampton   yes   True\n",
       "8          1       3  female  27.0      0      2  11.1333        S   Third  woman       False  NaN  Southampton   yes  False\n",
       "9          1       2  female  14.0      1      0  30.0708        C  Second  child       False  NaN    Cherbourg   yes  False\n",
       "10         1       3  female   4.0      1      1  16.7000        S   Third  child       False    G  Southampton   yes  False\n",
       "14         0       3  female  14.0      0      0   7.8542        S   Third  child       False  NaN  Southampton    no   True"
      ]
     },
     "execution_count": 18,
     "metadata": {},
     "output_type": "execute_result"
    }
   ],
   "source": [
    "df[(df['age'] < 30) & (df['sex'] == 'female')].head()"
   ]
  },
  {
   "cell_type": "markdown",
   "id": "4f32f490",
   "metadata": {
    "papermill": {
     "duration": 0.014396,
     "end_time": "2022-11-24T18:02:47.101974",
     "exception": false,
     "start_time": "2022-11-24T18:02:47.087578",
     "status": "completed"
    },
    "tags": []
   },
   "source": [
    "## Let's show fare information for passengers over 500 or 70 years old"
   ]
  },
  {
   "cell_type": "code",
   "execution_count": 19,
   "id": "4c442ee9",
   "metadata": {
    "execution": {
     "iopub.execute_input": "2022-11-24T18:02:47.133400Z",
     "iopub.status.busy": "2022-11-24T18:02:47.132966Z",
     "iopub.status.idle": "2022-11-24T18:02:47.155628Z",
     "shell.execute_reply": "2022-11-24T18:02:47.154606Z"
    },
    "papermill": {
     "duration": 0.041016,
     "end_time": "2022-11-24T18:02:47.158100",
     "exception": false,
     "start_time": "2022-11-24T18:02:47.117084",
     "status": "completed"
    },
    "tags": []
   },
   "outputs": [
    {
     "data": {
      "text/html": [
       "<div>\n",
       "<style scoped>\n",
       "    .dataframe tbody tr th:only-of-type {\n",
       "        vertical-align: middle;\n",
       "    }\n",
       "\n",
       "    .dataframe tbody tr th {\n",
       "        vertical-align: top;\n",
       "    }\n",
       "\n",
       "    .dataframe thead th {\n",
       "        text-align: right;\n",
       "    }\n",
       "</style>\n",
       "<table border=\"1\" class=\"dataframe\">\n",
       "  <thead>\n",
       "    <tr style=\"text-align: right;\">\n",
       "      <th></th>\n",
       "      <th>survived</th>\n",
       "      <th>pclass</th>\n",
       "      <th>sex</th>\n",
       "      <th>age</th>\n",
       "      <th>sibsp</th>\n",
       "      <th>parch</th>\n",
       "      <th>fare</th>\n",
       "      <th>embarked</th>\n",
       "      <th>class</th>\n",
       "      <th>who</th>\n",
       "      <th>adult_male</th>\n",
       "      <th>deck</th>\n",
       "      <th>embark_town</th>\n",
       "      <th>alive</th>\n",
       "      <th>alone</th>\n",
       "    </tr>\n",
       "  </thead>\n",
       "  <tbody>\n",
       "    <tr>\n",
       "      <th>96</th>\n",
       "      <td>0</td>\n",
       "      <td>1</td>\n",
       "      <td>male</td>\n",
       "      <td>71.0</td>\n",
       "      <td>0</td>\n",
       "      <td>0</td>\n",
       "      <td>34.6542</td>\n",
       "      <td>C</td>\n",
       "      <td>First</td>\n",
       "      <td>man</td>\n",
       "      <td>True</td>\n",
       "      <td>A</td>\n",
       "      <td>Cherbourg</td>\n",
       "      <td>no</td>\n",
       "      <td>True</td>\n",
       "    </tr>\n",
       "    <tr>\n",
       "      <th>116</th>\n",
       "      <td>0</td>\n",
       "      <td>3</td>\n",
       "      <td>male</td>\n",
       "      <td>70.5</td>\n",
       "      <td>0</td>\n",
       "      <td>0</td>\n",
       "      <td>7.7500</td>\n",
       "      <td>Q</td>\n",
       "      <td>Third</td>\n",
       "      <td>man</td>\n",
       "      <td>True</td>\n",
       "      <td>NaN</td>\n",
       "      <td>Queenstown</td>\n",
       "      <td>no</td>\n",
       "      <td>True</td>\n",
       "    </tr>\n",
       "    <tr>\n",
       "      <th>258</th>\n",
       "      <td>1</td>\n",
       "      <td>1</td>\n",
       "      <td>female</td>\n",
       "      <td>35.0</td>\n",
       "      <td>0</td>\n",
       "      <td>0</td>\n",
       "      <td>512.3292</td>\n",
       "      <td>C</td>\n",
       "      <td>First</td>\n",
       "      <td>woman</td>\n",
       "      <td>False</td>\n",
       "      <td>NaN</td>\n",
       "      <td>Cherbourg</td>\n",
       "      <td>yes</td>\n",
       "      <td>True</td>\n",
       "    </tr>\n",
       "    <tr>\n",
       "      <th>493</th>\n",
       "      <td>0</td>\n",
       "      <td>1</td>\n",
       "      <td>male</td>\n",
       "      <td>71.0</td>\n",
       "      <td>0</td>\n",
       "      <td>0</td>\n",
       "      <td>49.5042</td>\n",
       "      <td>C</td>\n",
       "      <td>First</td>\n",
       "      <td>man</td>\n",
       "      <td>True</td>\n",
       "      <td>NaN</td>\n",
       "      <td>Cherbourg</td>\n",
       "      <td>no</td>\n",
       "      <td>True</td>\n",
       "    </tr>\n",
       "    <tr>\n",
       "      <th>630</th>\n",
       "      <td>1</td>\n",
       "      <td>1</td>\n",
       "      <td>male</td>\n",
       "      <td>80.0</td>\n",
       "      <td>0</td>\n",
       "      <td>0</td>\n",
       "      <td>30.0000</td>\n",
       "      <td>S</td>\n",
       "      <td>First</td>\n",
       "      <td>man</td>\n",
       "      <td>True</td>\n",
       "      <td>A</td>\n",
       "      <td>Southampton</td>\n",
       "      <td>yes</td>\n",
       "      <td>True</td>\n",
       "    </tr>\n",
       "    <tr>\n",
       "      <th>679</th>\n",
       "      <td>1</td>\n",
       "      <td>1</td>\n",
       "      <td>male</td>\n",
       "      <td>36.0</td>\n",
       "      <td>0</td>\n",
       "      <td>1</td>\n",
       "      <td>512.3292</td>\n",
       "      <td>C</td>\n",
       "      <td>First</td>\n",
       "      <td>man</td>\n",
       "      <td>True</td>\n",
       "      <td>B</td>\n",
       "      <td>Cherbourg</td>\n",
       "      <td>yes</td>\n",
       "      <td>False</td>\n",
       "    </tr>\n",
       "    <tr>\n",
       "      <th>737</th>\n",
       "      <td>1</td>\n",
       "      <td>1</td>\n",
       "      <td>male</td>\n",
       "      <td>35.0</td>\n",
       "      <td>0</td>\n",
       "      <td>0</td>\n",
       "      <td>512.3292</td>\n",
       "      <td>C</td>\n",
       "      <td>First</td>\n",
       "      <td>man</td>\n",
       "      <td>True</td>\n",
       "      <td>B</td>\n",
       "      <td>Cherbourg</td>\n",
       "      <td>yes</td>\n",
       "      <td>True</td>\n",
       "    </tr>\n",
       "    <tr>\n",
       "      <th>851</th>\n",
       "      <td>0</td>\n",
       "      <td>3</td>\n",
       "      <td>male</td>\n",
       "      <td>74.0</td>\n",
       "      <td>0</td>\n",
       "      <td>0</td>\n",
       "      <td>7.7750</td>\n",
       "      <td>S</td>\n",
       "      <td>Third</td>\n",
       "      <td>man</td>\n",
       "      <td>True</td>\n",
       "      <td>NaN</td>\n",
       "      <td>Southampton</td>\n",
       "      <td>no</td>\n",
       "      <td>True</td>\n",
       "    </tr>\n",
       "  </tbody>\n",
       "</table>\n",
       "</div>"
      ],
      "text/plain": [
       "     survived  pclass     sex   age  sibsp  parch      fare embarked  class    who  adult_male deck  embark_town alive  alone\n",
       "96          0       1    male  71.0      0      0   34.6542        C  First    man        True    A    Cherbourg    no   True\n",
       "116         0       3    male  70.5      0      0    7.7500        Q  Third    man        True  NaN   Queenstown    no   True\n",
       "258         1       1  female  35.0      0      0  512.3292        C  First  woman       False  NaN    Cherbourg   yes   True\n",
       "493         0       1    male  71.0      0      0   49.5042        C  First    man        True  NaN    Cherbourg    no   True\n",
       "630         1       1    male  80.0      0      0   30.0000        S  First    man        True    A  Southampton   yes   True\n",
       "679         1       1    male  36.0      0      1  512.3292        C  First    man        True    B    Cherbourg   yes  False\n",
       "737         1       1    male  35.0      0      0  512.3292        C  First    man        True    B    Cherbourg   yes   True\n",
       "851         0       3    male  74.0      0      0    7.7750        S  Third    man        True  NaN  Southampton    no   True"
      ]
     },
     "execution_count": 19,
     "metadata": {},
     "output_type": "execute_result"
    }
   ],
   "source": [
    "df[(df['fare'] > 500) | (df['age'] > 70)]"
   ]
  },
  {
   "cell_type": "markdown",
   "id": "38b4f27e",
   "metadata": {
    "papermill": {
     "duration": 0.014776,
     "end_time": "2022-11-24T18:02:47.188304",
     "exception": false,
     "start_time": "2022-11-24T18:02:47.173528",
     "status": "completed"
    },
    "tags": []
   },
   "source": [
    "## Let's find the sum of the null values in each variable"
   ]
  },
  {
   "cell_type": "code",
   "execution_count": 20,
   "id": "2188c184",
   "metadata": {
    "execution": {
     "iopub.execute_input": "2022-11-24T18:02:47.220213Z",
     "iopub.status.busy": "2022-11-24T18:02:47.219828Z",
     "iopub.status.idle": "2022-11-24T18:02:47.230399Z",
     "shell.execute_reply": "2022-11-24T18:02:47.229621Z"
    },
    "papermill": {
     "duration": 0.028791,
     "end_time": "2022-11-24T18:02:47.232402",
     "exception": false,
     "start_time": "2022-11-24T18:02:47.203611",
     "status": "completed"
    },
    "tags": []
   },
   "outputs": [
    {
     "data": {
      "text/plain": [
       "deck           688\n",
       "age            177\n",
       "embarked         2\n",
       "embark_town      2\n",
       "survived         0\n",
       "pclass           0\n",
       "sex              0\n",
       "sibsp            0\n",
       "parch            0\n",
       "fare             0\n",
       "class            0\n",
       "who              0\n",
       "adult_male       0\n",
       "alive            0\n",
       "alone            0\n",
       "dtype: int64"
      ]
     },
     "execution_count": 20,
     "metadata": {},
     "output_type": "execute_result"
    }
   ],
   "source": [
    "df.isnull().sum().sort_values(ascending=False)"
   ]
  },
  {
   "cell_type": "markdown",
   "id": "8cd8e9dd",
   "metadata": {
    "papermill": {
     "duration": 0.015967,
     "end_time": "2022-11-24T18:02:47.263773",
     "exception": false,
     "start_time": "2022-11-24T18:02:47.247806",
     "status": "completed"
    },
    "tags": []
   },
   "source": [
    "## Let's drop the variable who from the dataframe"
   ]
  },
  {
   "cell_type": "code",
   "execution_count": 21,
   "id": "8b32ae6f",
   "metadata": {
    "execution": {
     "iopub.execute_input": "2022-11-24T18:02:47.296487Z",
     "iopub.status.busy": "2022-11-24T18:02:47.296061Z",
     "iopub.status.idle": "2022-11-24T18:02:47.315785Z",
     "shell.execute_reply": "2022-11-24T18:02:47.314680Z"
    },
    "papermill": {
     "duration": 0.039024,
     "end_time": "2022-11-24T18:02:47.318234",
     "exception": false,
     "start_time": "2022-11-24T18:02:47.279210",
     "status": "completed"
    },
    "tags": []
   },
   "outputs": [
    {
     "data": {
      "text/html": [
       "<div>\n",
       "<style scoped>\n",
       "    .dataframe tbody tr th:only-of-type {\n",
       "        vertical-align: middle;\n",
       "    }\n",
       "\n",
       "    .dataframe tbody tr th {\n",
       "        vertical-align: top;\n",
       "    }\n",
       "\n",
       "    .dataframe thead th {\n",
       "        text-align: right;\n",
       "    }\n",
       "</style>\n",
       "<table border=\"1\" class=\"dataframe\">\n",
       "  <thead>\n",
       "    <tr style=\"text-align: right;\">\n",
       "      <th></th>\n",
       "      <th>survived</th>\n",
       "      <th>pclass</th>\n",
       "      <th>sex</th>\n",
       "      <th>age</th>\n",
       "      <th>sibsp</th>\n",
       "      <th>parch</th>\n",
       "      <th>fare</th>\n",
       "      <th>embarked</th>\n",
       "      <th>class</th>\n",
       "      <th>adult_male</th>\n",
       "      <th>deck</th>\n",
       "      <th>embark_town</th>\n",
       "      <th>alive</th>\n",
       "      <th>alone</th>\n",
       "    </tr>\n",
       "  </thead>\n",
       "  <tbody>\n",
       "    <tr>\n",
       "      <th>0</th>\n",
       "      <td>0</td>\n",
       "      <td>3</td>\n",
       "      <td>male</td>\n",
       "      <td>22.0</td>\n",
       "      <td>1</td>\n",
       "      <td>0</td>\n",
       "      <td>7.2500</td>\n",
       "      <td>S</td>\n",
       "      <td>Third</td>\n",
       "      <td>True</td>\n",
       "      <td>NaN</td>\n",
       "      <td>Southampton</td>\n",
       "      <td>no</td>\n",
       "      <td>False</td>\n",
       "    </tr>\n",
       "    <tr>\n",
       "      <th>1</th>\n",
       "      <td>1</td>\n",
       "      <td>1</td>\n",
       "      <td>female</td>\n",
       "      <td>38.0</td>\n",
       "      <td>1</td>\n",
       "      <td>0</td>\n",
       "      <td>71.2833</td>\n",
       "      <td>C</td>\n",
       "      <td>First</td>\n",
       "      <td>False</td>\n",
       "      <td>C</td>\n",
       "      <td>Cherbourg</td>\n",
       "      <td>yes</td>\n",
       "      <td>False</td>\n",
       "    </tr>\n",
       "    <tr>\n",
       "      <th>2</th>\n",
       "      <td>1</td>\n",
       "      <td>3</td>\n",
       "      <td>female</td>\n",
       "      <td>26.0</td>\n",
       "      <td>0</td>\n",
       "      <td>0</td>\n",
       "      <td>7.9250</td>\n",
       "      <td>S</td>\n",
       "      <td>Third</td>\n",
       "      <td>False</td>\n",
       "      <td>NaN</td>\n",
       "      <td>Southampton</td>\n",
       "      <td>yes</td>\n",
       "      <td>True</td>\n",
       "    </tr>\n",
       "    <tr>\n",
       "      <th>3</th>\n",
       "      <td>1</td>\n",
       "      <td>1</td>\n",
       "      <td>female</td>\n",
       "      <td>35.0</td>\n",
       "      <td>1</td>\n",
       "      <td>0</td>\n",
       "      <td>53.1000</td>\n",
       "      <td>S</td>\n",
       "      <td>First</td>\n",
       "      <td>False</td>\n",
       "      <td>C</td>\n",
       "      <td>Southampton</td>\n",
       "      <td>yes</td>\n",
       "      <td>False</td>\n",
       "    </tr>\n",
       "    <tr>\n",
       "      <th>4</th>\n",
       "      <td>0</td>\n",
       "      <td>3</td>\n",
       "      <td>male</td>\n",
       "      <td>35.0</td>\n",
       "      <td>0</td>\n",
       "      <td>0</td>\n",
       "      <td>8.0500</td>\n",
       "      <td>S</td>\n",
       "      <td>Third</td>\n",
       "      <td>True</td>\n",
       "      <td>NaN</td>\n",
       "      <td>Southampton</td>\n",
       "      <td>no</td>\n",
       "      <td>True</td>\n",
       "    </tr>\n",
       "  </tbody>\n",
       "</table>\n",
       "</div>"
      ],
      "text/plain": [
       "   survived  pclass     sex   age  sibsp  parch     fare embarked  class  adult_male deck  embark_town alive  alone\n",
       "0         0       3    male  22.0      1      0   7.2500        S  Third        True  NaN  Southampton    no  False\n",
       "1         1       1  female  38.0      1      0  71.2833        C  First       False    C    Cherbourg   yes  False\n",
       "2         1       3  female  26.0      0      0   7.9250        S  Third       False  NaN  Southampton   yes   True\n",
       "3         1       1  female  35.0      1      0  53.1000        S  First       False    C  Southampton   yes  False\n",
       "4         0       3    male  35.0      0      0   8.0500        S  Third        True  NaN  Southampton    no   True"
      ]
     },
     "execution_count": 21,
     "metadata": {},
     "output_type": "execute_result"
    }
   ],
   "source": [
    "df = df.drop('who', axis=1).head()\n",
    "df.head()"
   ]
  },
  {
   "cell_type": "markdown",
   "id": "64594f9b",
   "metadata": {
    "papermill": {
     "duration": 0.015017,
     "end_time": "2022-11-24T18:02:47.348855",
     "exception": false,
     "start_time": "2022-11-24T18:02:47.333838",
     "status": "completed"
    },
    "tags": []
   },
   "source": [
    "## Let's fill the empty values in the deck variable with the most repeated value (mode) of the deck variable"
   ]
  },
  {
   "cell_type": "code",
   "execution_count": 22,
   "id": "da3877bb",
   "metadata": {
    "execution": {
     "iopub.execute_input": "2022-11-24T18:02:47.381934Z",
     "iopub.status.busy": "2022-11-24T18:02:47.381267Z",
     "iopub.status.idle": "2022-11-24T18:02:47.395329Z",
     "shell.execute_reply": "2022-11-24T18:02:47.394095Z"
    },
    "papermill": {
     "duration": 0.033056,
     "end_time": "2022-11-24T18:02:47.397585",
     "exception": false,
     "start_time": "2022-11-24T18:02:47.364529",
     "status": "completed"
    },
    "tags": []
   },
   "outputs": [
    {
     "name": "stdout",
     "output_type": "stream",
     "text": [
      "0    C\n",
      "Name: deck, dtype: category\n",
      "Categories (7, object): ['A', 'B', 'C', 'D', 'E', 'F', 'G']\n",
      "----------------------------------------------------------------------------------------------------\n"
     ]
    },
    {
     "data": {
      "text/plain": [
       "0    C\n",
       "1    C\n",
       "2    C\n",
       "3    C\n",
       "4    C\n",
       "Name: deck, dtype: category\n",
       "Categories (7, object): ['A', 'B', 'C', 'D', 'E', 'F', 'G']"
      ]
     },
     "execution_count": 22,
     "metadata": {},
     "output_type": "execute_result"
    }
   ],
   "source": [
    "print(df['deck'].mode())\n",
    "print('--'*50)\n",
    "df['deck'].fillna(df['deck'].mode()[0])"
   ]
  },
  {
   "cell_type": "markdown",
   "id": "3d7c028d",
   "metadata": {
    "papermill": {
     "duration": 0.015266,
     "end_time": "2022-11-24T18:02:47.428895",
     "exception": false,
     "start_time": "2022-11-24T18:02:47.413629",
     "status": "completed"
    },
    "tags": []
   },
   "source": [
    "## Let's fill the empty values in the age variable with the median of the age variable"
   ]
  },
  {
   "cell_type": "code",
   "execution_count": 23,
   "id": "98eb811e",
   "metadata": {
    "execution": {
     "iopub.execute_input": "2022-11-24T18:02:47.462800Z",
     "iopub.status.busy": "2022-11-24T18:02:47.461715Z",
     "iopub.status.idle": "2022-11-24T18:02:47.473416Z",
     "shell.execute_reply": "2022-11-24T18:02:47.472338Z"
    },
    "papermill": {
     "duration": 0.031118,
     "end_time": "2022-11-24T18:02:47.475830",
     "exception": false,
     "start_time": "2022-11-24T18:02:47.444712",
     "status": "completed"
    },
    "tags": []
   },
   "outputs": [
    {
     "name": "stdout",
     "output_type": "stream",
     "text": [
      "35.0\n"
     ]
    },
    {
     "data": {
      "text/plain": [
       "0    22.0\n",
       "1    38.0\n",
       "2    26.0\n",
       "3    35.0\n",
       "4    35.0\n",
       "Name: age, dtype: float64"
      ]
     },
     "execution_count": 23,
     "metadata": {},
     "output_type": "execute_result"
    }
   ],
   "source": [
    "x = df['age'].median()\n",
    "print(x)\n",
    "df['age'].fillna(x)"
   ]
  },
  {
   "cell_type": "markdown",
   "id": "4f5f462c",
   "metadata": {
    "papermill": {
     "duration": 0.015393,
     "end_time": "2022-11-24T18:02:47.507022",
     "exception": false,
     "start_time": "2022-11-24T18:02:47.491629",
     "status": "completed"
    },
    "tags": []
   },
   "source": [
    "## Let's find the sum, count, mean values in the Pclass and Gender variables breakdown of the survived variable"
   ]
  },
  {
   "cell_type": "code",
   "execution_count": 24,
   "id": "ab66ffb7",
   "metadata": {
    "execution": {
     "iopub.execute_input": "2022-11-24T18:02:47.540760Z",
     "iopub.status.busy": "2022-11-24T18:02:47.540137Z",
     "iopub.status.idle": "2022-11-24T18:02:47.561976Z",
     "shell.execute_reply": "2022-11-24T18:02:47.560983Z"
    },
    "papermill": {
     "duration": 0.0414,
     "end_time": "2022-11-24T18:02:47.564272",
     "exception": false,
     "start_time": "2022-11-24T18:02:47.522872",
     "status": "completed"
    },
    "tags": []
   },
   "outputs": [
    {
     "data": {
      "text/html": [
       "<div>\n",
       "<style scoped>\n",
       "    .dataframe tbody tr th:only-of-type {\n",
       "        vertical-align: middle;\n",
       "    }\n",
       "\n",
       "    .dataframe tbody tr th {\n",
       "        vertical-align: top;\n",
       "    }\n",
       "\n",
       "    .dataframe thead tr th {\n",
       "        text-align: left;\n",
       "    }\n",
       "\n",
       "    .dataframe thead tr:last-of-type th {\n",
       "        text-align: right;\n",
       "    }\n",
       "</style>\n",
       "<table border=\"1\" class=\"dataframe\">\n",
       "  <thead>\n",
       "    <tr>\n",
       "      <th></th>\n",
       "      <th></th>\n",
       "      <th colspan=\"3\" halign=\"left\">survived</th>\n",
       "    </tr>\n",
       "    <tr>\n",
       "      <th></th>\n",
       "      <th></th>\n",
       "      <th>sum</th>\n",
       "      <th>count</th>\n",
       "      <th>mean</th>\n",
       "    </tr>\n",
       "    <tr>\n",
       "      <th>pclass</th>\n",
       "      <th>sex</th>\n",
       "      <th></th>\n",
       "      <th></th>\n",
       "      <th></th>\n",
       "    </tr>\n",
       "  </thead>\n",
       "  <tbody>\n",
       "    <tr>\n",
       "      <th>1</th>\n",
       "      <th>female</th>\n",
       "      <td>2</td>\n",
       "      <td>2</td>\n",
       "      <td>1.0</td>\n",
       "    </tr>\n",
       "    <tr>\n",
       "      <th rowspan=\"2\" valign=\"top\">3</th>\n",
       "      <th>female</th>\n",
       "      <td>1</td>\n",
       "      <td>1</td>\n",
       "      <td>1.0</td>\n",
       "    </tr>\n",
       "    <tr>\n",
       "      <th>male</th>\n",
       "      <td>0</td>\n",
       "      <td>2</td>\n",
       "      <td>0.0</td>\n",
       "    </tr>\n",
       "  </tbody>\n",
       "</table>\n",
       "</div>"
      ],
      "text/plain": [
       "              survived           \n",
       "                   sum count mean\n",
       "pclass sex                       \n",
       "1      female        2     2  1.0\n",
       "3      female        1     1  1.0\n",
       "       male          0     2  0.0"
      ]
     },
     "execution_count": 24,
     "metadata": {},
     "output_type": "execute_result"
    }
   ],
   "source": [
    "df.groupby(['pclass', 'sex']).agg({'survived': ['sum', 'count', 'mean']})"
   ]
  },
  {
   "cell_type": "markdown",
   "id": "7aac1240",
   "metadata": {
    "papermill": {
     "duration": 0.016079,
     "end_time": "2022-11-24T18:02:47.596543",
     "exception": false,
     "start_time": "2022-11-24T18:02:47.580464",
     "status": "completed"
    },
    "tags": []
   },
   "source": [
    "## Let's write a function that returns 1 for those under 30 and 0 for those above or equal to 30. Let's create a variable named age_flag in the titanic data set using the written function. (let's use apply and lambda constructs)"
   ]
  },
  {
   "cell_type": "code",
   "execution_count": 25,
   "id": "5e7a9145",
   "metadata": {
    "execution": {
     "iopub.execute_input": "2022-11-24T18:02:47.631295Z",
     "iopub.status.busy": "2022-11-24T18:02:47.630870Z",
     "iopub.status.idle": "2022-11-24T18:02:47.652789Z",
     "shell.execute_reply": "2022-11-24T18:02:47.651691Z"
    },
    "papermill": {
     "duration": 0.042172,
     "end_time": "2022-11-24T18:02:47.655271",
     "exception": false,
     "start_time": "2022-11-24T18:02:47.613099",
     "status": "completed"
    },
    "tags": []
   },
   "outputs": [
    {
     "data": {
      "text/html": [
       "<div>\n",
       "<style scoped>\n",
       "    .dataframe tbody tr th:only-of-type {\n",
       "        vertical-align: middle;\n",
       "    }\n",
       "\n",
       "    .dataframe tbody tr th {\n",
       "        vertical-align: top;\n",
       "    }\n",
       "\n",
       "    .dataframe thead th {\n",
       "        text-align: right;\n",
       "    }\n",
       "</style>\n",
       "<table border=\"1\" class=\"dataframe\">\n",
       "  <thead>\n",
       "    <tr style=\"text-align: right;\">\n",
       "      <th></th>\n",
       "      <th>survived</th>\n",
       "      <th>pclass</th>\n",
       "      <th>sex</th>\n",
       "      <th>age</th>\n",
       "      <th>sibsp</th>\n",
       "      <th>parch</th>\n",
       "      <th>fare</th>\n",
       "      <th>embarked</th>\n",
       "      <th>class</th>\n",
       "      <th>adult_male</th>\n",
       "      <th>deck</th>\n",
       "      <th>embark_town</th>\n",
       "      <th>alive</th>\n",
       "      <th>alone</th>\n",
       "      <th>age_flag</th>\n",
       "    </tr>\n",
       "  </thead>\n",
       "  <tbody>\n",
       "    <tr>\n",
       "      <th>0</th>\n",
       "      <td>0</td>\n",
       "      <td>3</td>\n",
       "      <td>male</td>\n",
       "      <td>22.0</td>\n",
       "      <td>1</td>\n",
       "      <td>0</td>\n",
       "      <td>7.2500</td>\n",
       "      <td>S</td>\n",
       "      <td>Third</td>\n",
       "      <td>True</td>\n",
       "      <td>NaN</td>\n",
       "      <td>Southampton</td>\n",
       "      <td>no</td>\n",
       "      <td>False</td>\n",
       "      <td>0</td>\n",
       "    </tr>\n",
       "    <tr>\n",
       "      <th>1</th>\n",
       "      <td>1</td>\n",
       "      <td>1</td>\n",
       "      <td>female</td>\n",
       "      <td>38.0</td>\n",
       "      <td>1</td>\n",
       "      <td>0</td>\n",
       "      <td>71.2833</td>\n",
       "      <td>C</td>\n",
       "      <td>First</td>\n",
       "      <td>False</td>\n",
       "      <td>C</td>\n",
       "      <td>Cherbourg</td>\n",
       "      <td>yes</td>\n",
       "      <td>False</td>\n",
       "      <td>1</td>\n",
       "    </tr>\n",
       "    <tr>\n",
       "      <th>2</th>\n",
       "      <td>1</td>\n",
       "      <td>3</td>\n",
       "      <td>female</td>\n",
       "      <td>26.0</td>\n",
       "      <td>0</td>\n",
       "      <td>0</td>\n",
       "      <td>7.9250</td>\n",
       "      <td>S</td>\n",
       "      <td>Third</td>\n",
       "      <td>False</td>\n",
       "      <td>NaN</td>\n",
       "      <td>Southampton</td>\n",
       "      <td>yes</td>\n",
       "      <td>True</td>\n",
       "      <td>0</td>\n",
       "    </tr>\n",
       "    <tr>\n",
       "      <th>3</th>\n",
       "      <td>1</td>\n",
       "      <td>1</td>\n",
       "      <td>female</td>\n",
       "      <td>35.0</td>\n",
       "      <td>1</td>\n",
       "      <td>0</td>\n",
       "      <td>53.1000</td>\n",
       "      <td>S</td>\n",
       "      <td>First</td>\n",
       "      <td>False</td>\n",
       "      <td>C</td>\n",
       "      <td>Southampton</td>\n",
       "      <td>yes</td>\n",
       "      <td>False</td>\n",
       "      <td>1</td>\n",
       "    </tr>\n",
       "    <tr>\n",
       "      <th>4</th>\n",
       "      <td>0</td>\n",
       "      <td>3</td>\n",
       "      <td>male</td>\n",
       "      <td>35.0</td>\n",
       "      <td>0</td>\n",
       "      <td>0</td>\n",
       "      <td>8.0500</td>\n",
       "      <td>S</td>\n",
       "      <td>Third</td>\n",
       "      <td>True</td>\n",
       "      <td>NaN</td>\n",
       "      <td>Southampton</td>\n",
       "      <td>no</td>\n",
       "      <td>True</td>\n",
       "      <td>1</td>\n",
       "    </tr>\n",
       "  </tbody>\n",
       "</table>\n",
       "</div>"
      ],
      "text/plain": [
       "   survived  pclass     sex   age  sibsp  parch     fare embarked  class  adult_male deck  embark_town alive  alone  age_flag\n",
       "0         0       3    male  22.0      1      0   7.2500        S  Third        True  NaN  Southampton    no  False         0\n",
       "1         1       1  female  38.0      1      0  71.2833        C  First       False    C    Cherbourg   yes  False         1\n",
       "2         1       3  female  26.0      0      0   7.9250        S  Third       False  NaN  Southampton   yes   True         0\n",
       "3         1       1  female  35.0      1      0  53.1000        S  First       False    C  Southampton   yes  False         1\n",
       "4         0       3    male  35.0      0      0   8.0500        S  Third        True  NaN  Southampton    no   True         1"
      ]
     },
     "execution_count": 25,
     "metadata": {},
     "output_type": "execute_result"
    }
   ],
   "source": [
    "# first solution\n",
    "def age_30(age):\n",
    "    if age > 30:\n",
    "        return 1\n",
    "    else:\n",
    "        return 0\n",
    "\n",
    "df['age_flag'] = df['age'].apply(lambda x: age_30(x))\n",
    "df.head()"
   ]
  },
  {
   "cell_type": "code",
   "execution_count": 26,
   "id": "6c14914f",
   "metadata": {
    "execution": {
     "iopub.execute_input": "2022-11-24T18:02:47.691162Z",
     "iopub.status.busy": "2022-11-24T18:02:47.690290Z",
     "iopub.status.idle": "2022-11-24T18:02:47.712451Z",
     "shell.execute_reply": "2022-11-24T18:02:47.711288Z"
    },
    "papermill": {
     "duration": 0.04181,
     "end_time": "2022-11-24T18:02:47.714731",
     "exception": false,
     "start_time": "2022-11-24T18:02:47.672921",
     "status": "completed"
    },
    "tags": []
   },
   "outputs": [
    {
     "data": {
      "text/html": [
       "<div>\n",
       "<style scoped>\n",
       "    .dataframe tbody tr th:only-of-type {\n",
       "        vertical-align: middle;\n",
       "    }\n",
       "\n",
       "    .dataframe tbody tr th {\n",
       "        vertical-align: top;\n",
       "    }\n",
       "\n",
       "    .dataframe thead th {\n",
       "        text-align: right;\n",
       "    }\n",
       "</style>\n",
       "<table border=\"1\" class=\"dataframe\">\n",
       "  <thead>\n",
       "    <tr style=\"text-align: right;\">\n",
       "      <th></th>\n",
       "      <th>survived</th>\n",
       "      <th>pclass</th>\n",
       "      <th>sex</th>\n",
       "      <th>age</th>\n",
       "      <th>sibsp</th>\n",
       "      <th>parch</th>\n",
       "      <th>fare</th>\n",
       "      <th>embarked</th>\n",
       "      <th>class</th>\n",
       "      <th>adult_male</th>\n",
       "      <th>deck</th>\n",
       "      <th>embark_town</th>\n",
       "      <th>alive</th>\n",
       "      <th>alone</th>\n",
       "      <th>age_flag</th>\n",
       "      <th>new_age_flag</th>\n",
       "    </tr>\n",
       "  </thead>\n",
       "  <tbody>\n",
       "    <tr>\n",
       "      <th>0</th>\n",
       "      <td>0</td>\n",
       "      <td>3</td>\n",
       "      <td>male</td>\n",
       "      <td>22.0</td>\n",
       "      <td>1</td>\n",
       "      <td>0</td>\n",
       "      <td>7.2500</td>\n",
       "      <td>S</td>\n",
       "      <td>Third</td>\n",
       "      <td>True</td>\n",
       "      <td>NaN</td>\n",
       "      <td>Southampton</td>\n",
       "      <td>no</td>\n",
       "      <td>False</td>\n",
       "      <td>0</td>\n",
       "      <td>0</td>\n",
       "    </tr>\n",
       "    <tr>\n",
       "      <th>1</th>\n",
       "      <td>1</td>\n",
       "      <td>1</td>\n",
       "      <td>female</td>\n",
       "      <td>38.0</td>\n",
       "      <td>1</td>\n",
       "      <td>0</td>\n",
       "      <td>71.2833</td>\n",
       "      <td>C</td>\n",
       "      <td>First</td>\n",
       "      <td>False</td>\n",
       "      <td>C</td>\n",
       "      <td>Cherbourg</td>\n",
       "      <td>yes</td>\n",
       "      <td>False</td>\n",
       "      <td>1</td>\n",
       "      <td>1</td>\n",
       "    </tr>\n",
       "    <tr>\n",
       "      <th>2</th>\n",
       "      <td>1</td>\n",
       "      <td>3</td>\n",
       "      <td>female</td>\n",
       "      <td>26.0</td>\n",
       "      <td>0</td>\n",
       "      <td>0</td>\n",
       "      <td>7.9250</td>\n",
       "      <td>S</td>\n",
       "      <td>Third</td>\n",
       "      <td>False</td>\n",
       "      <td>NaN</td>\n",
       "      <td>Southampton</td>\n",
       "      <td>yes</td>\n",
       "      <td>True</td>\n",
       "      <td>0</td>\n",
       "      <td>0</td>\n",
       "    </tr>\n",
       "    <tr>\n",
       "      <th>3</th>\n",
       "      <td>1</td>\n",
       "      <td>1</td>\n",
       "      <td>female</td>\n",
       "      <td>35.0</td>\n",
       "      <td>1</td>\n",
       "      <td>0</td>\n",
       "      <td>53.1000</td>\n",
       "      <td>S</td>\n",
       "      <td>First</td>\n",
       "      <td>False</td>\n",
       "      <td>C</td>\n",
       "      <td>Southampton</td>\n",
       "      <td>yes</td>\n",
       "      <td>False</td>\n",
       "      <td>1</td>\n",
       "      <td>1</td>\n",
       "    </tr>\n",
       "    <tr>\n",
       "      <th>4</th>\n",
       "      <td>0</td>\n",
       "      <td>3</td>\n",
       "      <td>male</td>\n",
       "      <td>35.0</td>\n",
       "      <td>0</td>\n",
       "      <td>0</td>\n",
       "      <td>8.0500</td>\n",
       "      <td>S</td>\n",
       "      <td>Third</td>\n",
       "      <td>True</td>\n",
       "      <td>NaN</td>\n",
       "      <td>Southampton</td>\n",
       "      <td>no</td>\n",
       "      <td>True</td>\n",
       "      <td>1</td>\n",
       "      <td>1</td>\n",
       "    </tr>\n",
       "  </tbody>\n",
       "</table>\n",
       "</div>"
      ],
      "text/plain": [
       "   survived  pclass     sex   age  sibsp  parch     fare embarked  class  adult_male deck  embark_town alive  alone  age_flag  new_age_flag\n",
       "0         0       3    male  22.0      1      0   7.2500        S  Third        True  NaN  Southampton    no  False         0             0\n",
       "1         1       1  female  38.0      1      0  71.2833        C  First       False    C    Cherbourg   yes  False         1             1\n",
       "2         1       3  female  26.0      0      0   7.9250        S  Third       False  NaN  Southampton   yes   True         0             0\n",
       "3         1       1  female  35.0      1      0  53.1000        S  First       False    C  Southampton   yes  False         1             1\n",
       "4         0       3    male  35.0      0      0   8.0500        S  Third        True  NaN  Southampton    no   True         1             1"
      ]
     },
     "execution_count": 26,
     "metadata": {},
     "output_type": "execute_result"
    }
   ],
   "source": [
    "# second solution\n",
    "df['new_age_flag'] = df['age'].apply(lambda x: 1 if x > 30 else 0)\n",
    "df.head()"
   ]
  },
  {
   "cell_type": "code",
   "execution_count": 27,
   "id": "ba22656f",
   "metadata": {
    "execution": {
     "iopub.execute_input": "2022-11-24T18:02:47.749928Z",
     "iopub.status.busy": "2022-11-24T18:02:47.749259Z",
     "iopub.status.idle": "2022-11-24T18:02:47.773411Z",
     "shell.execute_reply": "2022-11-24T18:02:47.772188Z"
    },
    "papermill": {
     "duration": 0.044494,
     "end_time": "2022-11-24T18:02:47.775737",
     "exception": false,
     "start_time": "2022-11-24T18:02:47.731243",
     "status": "completed"
    },
    "tags": []
   },
   "outputs": [
    {
     "data": {
      "text/html": [
       "<div>\n",
       "<style scoped>\n",
       "    .dataframe tbody tr th:only-of-type {\n",
       "        vertical-align: middle;\n",
       "    }\n",
       "\n",
       "    .dataframe tbody tr th {\n",
       "        vertical-align: top;\n",
       "    }\n",
       "\n",
       "    .dataframe thead th {\n",
       "        text-align: right;\n",
       "    }\n",
       "</style>\n",
       "<table border=\"1\" class=\"dataframe\">\n",
       "  <thead>\n",
       "    <tr style=\"text-align: right;\">\n",
       "      <th></th>\n",
       "      <th>survived</th>\n",
       "      <th>pclass</th>\n",
       "      <th>sex</th>\n",
       "      <th>age</th>\n",
       "      <th>sibsp</th>\n",
       "      <th>parch</th>\n",
       "      <th>fare</th>\n",
       "      <th>embarked</th>\n",
       "      <th>class</th>\n",
       "      <th>adult_male</th>\n",
       "      <th>deck</th>\n",
       "      <th>embark_town</th>\n",
       "      <th>alive</th>\n",
       "      <th>alone</th>\n",
       "      <th>age_flag</th>\n",
       "      <th>new_age_flag</th>\n",
       "      <th>age_flag_2</th>\n",
       "    </tr>\n",
       "  </thead>\n",
       "  <tbody>\n",
       "    <tr>\n",
       "      <th>0</th>\n",
       "      <td>0</td>\n",
       "      <td>3</td>\n",
       "      <td>male</td>\n",
       "      <td>22.0</td>\n",
       "      <td>1</td>\n",
       "      <td>0</td>\n",
       "      <td>7.2500</td>\n",
       "      <td>S</td>\n",
       "      <td>Third</td>\n",
       "      <td>True</td>\n",
       "      <td>NaN</td>\n",
       "      <td>Southampton</td>\n",
       "      <td>no</td>\n",
       "      <td>False</td>\n",
       "      <td>0</td>\n",
       "      <td>0</td>\n",
       "      <td>1</td>\n",
       "    </tr>\n",
       "    <tr>\n",
       "      <th>1</th>\n",
       "      <td>1</td>\n",
       "      <td>1</td>\n",
       "      <td>female</td>\n",
       "      <td>38.0</td>\n",
       "      <td>1</td>\n",
       "      <td>0</td>\n",
       "      <td>71.2833</td>\n",
       "      <td>C</td>\n",
       "      <td>First</td>\n",
       "      <td>False</td>\n",
       "      <td>C</td>\n",
       "      <td>Cherbourg</td>\n",
       "      <td>yes</td>\n",
       "      <td>False</td>\n",
       "      <td>1</td>\n",
       "      <td>1</td>\n",
       "      <td>0</td>\n",
       "    </tr>\n",
       "    <tr>\n",
       "      <th>2</th>\n",
       "      <td>1</td>\n",
       "      <td>3</td>\n",
       "      <td>female</td>\n",
       "      <td>26.0</td>\n",
       "      <td>0</td>\n",
       "      <td>0</td>\n",
       "      <td>7.9250</td>\n",
       "      <td>S</td>\n",
       "      <td>Third</td>\n",
       "      <td>False</td>\n",
       "      <td>NaN</td>\n",
       "      <td>Southampton</td>\n",
       "      <td>yes</td>\n",
       "      <td>True</td>\n",
       "      <td>0</td>\n",
       "      <td>0</td>\n",
       "      <td>1</td>\n",
       "    </tr>\n",
       "    <tr>\n",
       "      <th>3</th>\n",
       "      <td>1</td>\n",
       "      <td>1</td>\n",
       "      <td>female</td>\n",
       "      <td>35.0</td>\n",
       "      <td>1</td>\n",
       "      <td>0</td>\n",
       "      <td>53.1000</td>\n",
       "      <td>S</td>\n",
       "      <td>First</td>\n",
       "      <td>False</td>\n",
       "      <td>C</td>\n",
       "      <td>Southampton</td>\n",
       "      <td>yes</td>\n",
       "      <td>False</td>\n",
       "      <td>1</td>\n",
       "      <td>1</td>\n",
       "      <td>0</td>\n",
       "    </tr>\n",
       "    <tr>\n",
       "      <th>4</th>\n",
       "      <td>0</td>\n",
       "      <td>3</td>\n",
       "      <td>male</td>\n",
       "      <td>35.0</td>\n",
       "      <td>0</td>\n",
       "      <td>0</td>\n",
       "      <td>8.0500</td>\n",
       "      <td>S</td>\n",
       "      <td>Third</td>\n",
       "      <td>True</td>\n",
       "      <td>NaN</td>\n",
       "      <td>Southampton</td>\n",
       "      <td>no</td>\n",
       "      <td>True</td>\n",
       "      <td>1</td>\n",
       "      <td>1</td>\n",
       "      <td>0</td>\n",
       "    </tr>\n",
       "  </tbody>\n",
       "</table>\n",
       "</div>"
      ],
      "text/plain": [
       "   survived  pclass     sex   age  sibsp  parch     fare embarked  class  adult_male deck  embark_town alive  alone  age_flag  new_age_flag  age_flag_2\n",
       "0         0       3    male  22.0      1      0   7.2500        S  Third        True  NaN  Southampton    no  False         0             0           1\n",
       "1         1       1  female  38.0      1      0  71.2833        C  First       False    C    Cherbourg   yes  False         1             1           0\n",
       "2         1       3  female  26.0      0      0   7.9250        S  Third       False  NaN  Southampton   yes   True         0             0           1\n",
       "3         1       1  female  35.0      1      0  53.1000        S  First       False    C  Southampton   yes  False         1             1           0\n",
       "4         0       3    male  35.0      0      0   8.0500        S  Third        True  NaN  Southampton    no   True         1             1           0"
      ]
     },
     "execution_count": 27,
     "metadata": {},
     "output_type": "execute_result"
    }
   ],
   "source": [
    "# third solution\n",
    "def age_30(age):\n",
    "    df['age_flag_2'] = [1 if age < 30 else 0 for age in df['age']]\n",
    "\n",
    "df['age'].apply(lambda x: age_30(x))\n",
    "df.head()"
   ]
  },
  {
   "cell_type": "markdown",
   "id": "d390ff89",
   "metadata": {
    "papermill": {
     "duration": 0.01677,
     "end_time": "2022-11-24T18:02:47.809422",
     "exception": false,
     "start_time": "2022-11-24T18:02:47.792652",
     "status": "completed"
    },
    "tags": []
   },
   "source": [
    "# Let's define the Tips dataset from the Seaborn library"
   ]
  },
  {
   "cell_type": "code",
   "execution_count": 28,
   "id": "85fa56a2",
   "metadata": {
    "execution": {
     "iopub.execute_input": "2022-11-24T18:02:47.844643Z",
     "iopub.status.busy": "2022-11-24T18:02:47.844273Z",
     "iopub.status.idle": "2022-11-24T18:02:48.643338Z",
     "shell.execute_reply": "2022-11-24T18:02:48.642360Z"
    },
    "papermill": {
     "duration": 0.819657,
     "end_time": "2022-11-24T18:02:48.645887",
     "exception": false,
     "start_time": "2022-11-24T18:02:47.826230",
     "status": "completed"
    },
    "tags": []
   },
   "outputs": [
    {
     "data": {
      "text/html": [
       "<div>\n",
       "<style scoped>\n",
       "    .dataframe tbody tr th:only-of-type {\n",
       "        vertical-align: middle;\n",
       "    }\n",
       "\n",
       "    .dataframe tbody tr th {\n",
       "        vertical-align: top;\n",
       "    }\n",
       "\n",
       "    .dataframe thead th {\n",
       "        text-align: right;\n",
       "    }\n",
       "</style>\n",
       "<table border=\"1\" class=\"dataframe\">\n",
       "  <thead>\n",
       "    <tr style=\"text-align: right;\">\n",
       "      <th></th>\n",
       "      <th>total_bill</th>\n",
       "      <th>tip</th>\n",
       "      <th>sex</th>\n",
       "      <th>smoker</th>\n",
       "      <th>day</th>\n",
       "      <th>time</th>\n",
       "      <th>size</th>\n",
       "    </tr>\n",
       "  </thead>\n",
       "  <tbody>\n",
       "    <tr>\n",
       "      <th>0</th>\n",
       "      <td>16.99</td>\n",
       "      <td>1.01</td>\n",
       "      <td>Female</td>\n",
       "      <td>No</td>\n",
       "      <td>Sun</td>\n",
       "      <td>Dinner</td>\n",
       "      <td>2</td>\n",
       "    </tr>\n",
       "    <tr>\n",
       "      <th>1</th>\n",
       "      <td>10.34</td>\n",
       "      <td>1.66</td>\n",
       "      <td>Male</td>\n",
       "      <td>No</td>\n",
       "      <td>Sun</td>\n",
       "      <td>Dinner</td>\n",
       "      <td>3</td>\n",
       "    </tr>\n",
       "    <tr>\n",
       "      <th>2</th>\n",
       "      <td>21.01</td>\n",
       "      <td>3.50</td>\n",
       "      <td>Male</td>\n",
       "      <td>No</td>\n",
       "      <td>Sun</td>\n",
       "      <td>Dinner</td>\n",
       "      <td>3</td>\n",
       "    </tr>\n",
       "    <tr>\n",
       "      <th>3</th>\n",
       "      <td>23.68</td>\n",
       "      <td>3.31</td>\n",
       "      <td>Male</td>\n",
       "      <td>No</td>\n",
       "      <td>Sun</td>\n",
       "      <td>Dinner</td>\n",
       "      <td>2</td>\n",
       "    </tr>\n",
       "    <tr>\n",
       "      <th>4</th>\n",
       "      <td>24.59</td>\n",
       "      <td>3.61</td>\n",
       "      <td>Female</td>\n",
       "      <td>No</td>\n",
       "      <td>Sun</td>\n",
       "      <td>Dinner</td>\n",
       "      <td>4</td>\n",
       "    </tr>\n",
       "  </tbody>\n",
       "</table>\n",
       "</div>"
      ],
      "text/plain": [
       "   total_bill   tip     sex smoker  day    time  size\n",
       "0       16.99  1.01  Female     No  Sun  Dinner     2\n",
       "1       10.34  1.66    Male     No  Sun  Dinner     3\n",
       "2       21.01  3.50    Male     No  Sun  Dinner     3\n",
       "3       23.68  3.31    Male     No  Sun  Dinner     2\n",
       "4       24.59  3.61  Female     No  Sun  Dinner     4"
      ]
     },
     "execution_count": 28,
     "metadata": {},
     "output_type": "execute_result"
    }
   ],
   "source": [
    "df = sns.load_dataset('tips')\n",
    "df.head()"
   ]
  },
  {
   "cell_type": "markdown",
   "id": "2a3d42b0",
   "metadata": {
    "papermill": {
     "duration": 0.01625,
     "end_time": "2022-11-24T18:02:48.679495",
     "exception": false,
     "start_time": "2022-11-24T18:02:48.663245",
     "status": "completed"
    },
    "tags": []
   },
   "source": [
    "## Let's find the sum, min, max and average of total_bill values according to the categories (Dinner, Lunch) of the time variable"
   ]
  },
  {
   "cell_type": "code",
   "execution_count": 29,
   "id": "503fe773",
   "metadata": {
    "execution": {
     "iopub.execute_input": "2022-11-24T18:02:48.714725Z",
     "iopub.status.busy": "2022-11-24T18:02:48.714359Z",
     "iopub.status.idle": "2022-11-24T18:02:48.733002Z",
     "shell.execute_reply": "2022-11-24T18:02:48.731889Z"
    },
    "papermill": {
     "duration": 0.039236,
     "end_time": "2022-11-24T18:02:48.735488",
     "exception": false,
     "start_time": "2022-11-24T18:02:48.696252",
     "status": "completed"
    },
    "tags": []
   },
   "outputs": [
    {
     "data": {
      "text/html": [
       "<div>\n",
       "<style scoped>\n",
       "    .dataframe tbody tr th:only-of-type {\n",
       "        vertical-align: middle;\n",
       "    }\n",
       "\n",
       "    .dataframe tbody tr th {\n",
       "        vertical-align: top;\n",
       "    }\n",
       "\n",
       "    .dataframe thead tr th {\n",
       "        text-align: left;\n",
       "    }\n",
       "\n",
       "    .dataframe thead tr:last-of-type th {\n",
       "        text-align: right;\n",
       "    }\n",
       "</style>\n",
       "<table border=\"1\" class=\"dataframe\">\n",
       "  <thead>\n",
       "    <tr>\n",
       "      <th></th>\n",
       "      <th colspan=\"4\" halign=\"left\">total_bill</th>\n",
       "    </tr>\n",
       "    <tr>\n",
       "      <th></th>\n",
       "      <th>sum</th>\n",
       "      <th>min</th>\n",
       "      <th>max</th>\n",
       "      <th>mean</th>\n",
       "    </tr>\n",
       "    <tr>\n",
       "      <th>time</th>\n",
       "      <th></th>\n",
       "      <th></th>\n",
       "      <th></th>\n",
       "      <th></th>\n",
       "    </tr>\n",
       "  </thead>\n",
       "  <tbody>\n",
       "    <tr>\n",
       "      <th>Lunch</th>\n",
       "      <td>1167.47</td>\n",
       "      <td>7.51</td>\n",
       "      <td>43.11</td>\n",
       "      <td>17.168676</td>\n",
       "    </tr>\n",
       "    <tr>\n",
       "      <th>Dinner</th>\n",
       "      <td>3660.30</td>\n",
       "      <td>3.07</td>\n",
       "      <td>50.81</td>\n",
       "      <td>20.797159</td>\n",
       "    </tr>\n",
       "  </tbody>\n",
       "</table>\n",
       "</div>"
      ],
      "text/plain": [
       "       total_bill                        \n",
       "              sum   min    max       mean\n",
       "time                                     \n",
       "Lunch     1167.47  7.51  43.11  17.168676\n",
       "Dinner    3660.30  3.07  50.81  20.797159"
      ]
     },
     "execution_count": 29,
     "metadata": {},
     "output_type": "execute_result"
    }
   ],
   "source": [
    "df.groupby('time').agg({'total_bill': ['sum', 'min', 'max', 'mean']})"
   ]
  },
  {
   "cell_type": "markdown",
   "id": "b9c29db8",
   "metadata": {
    "papermill": {
     "duration": 0.017528,
     "end_time": "2022-11-24T18:02:48.769880",
     "exception": false,
     "start_time": "2022-11-24T18:02:48.752352",
     "status": "completed"
    },
    "tags": []
   },
   "source": [
    "## Let's find the sum, min, max and average of total_bill values by days and time"
   ]
  },
  {
   "cell_type": "code",
   "execution_count": 30,
   "id": "a86e750f",
   "metadata": {
    "execution": {
     "iopub.execute_input": "2022-11-24T18:02:48.806093Z",
     "iopub.status.busy": "2022-11-24T18:02:48.805670Z",
     "iopub.status.idle": "2022-11-24T18:02:48.838219Z",
     "shell.execute_reply": "2022-11-24T18:02:48.837435Z"
    },
    "papermill": {
     "duration": 0.053215,
     "end_time": "2022-11-24T18:02:48.840228",
     "exception": false,
     "start_time": "2022-11-24T18:02:48.787013",
     "status": "completed"
    },
    "tags": []
   },
   "outputs": [
    {
     "data": {
      "text/html": [
       "<div>\n",
       "<style scoped>\n",
       "    .dataframe tbody tr th:only-of-type {\n",
       "        vertical-align: middle;\n",
       "    }\n",
       "\n",
       "    .dataframe tbody tr th {\n",
       "        vertical-align: top;\n",
       "    }\n",
       "\n",
       "    .dataframe thead tr th {\n",
       "        text-align: left;\n",
       "    }\n",
       "\n",
       "    .dataframe thead tr:last-of-type th {\n",
       "        text-align: right;\n",
       "    }\n",
       "</style>\n",
       "<table border=\"1\" class=\"dataframe\">\n",
       "  <thead>\n",
       "    <tr>\n",
       "      <th></th>\n",
       "      <th></th>\n",
       "      <th colspan=\"4\" halign=\"left\">total_bill</th>\n",
       "    </tr>\n",
       "    <tr>\n",
       "      <th></th>\n",
       "      <th></th>\n",
       "      <th>sum</th>\n",
       "      <th>min</th>\n",
       "      <th>max</th>\n",
       "      <th>mean</th>\n",
       "    </tr>\n",
       "    <tr>\n",
       "      <th>day</th>\n",
       "      <th>time</th>\n",
       "      <th></th>\n",
       "      <th></th>\n",
       "      <th></th>\n",
       "      <th></th>\n",
       "    </tr>\n",
       "  </thead>\n",
       "  <tbody>\n",
       "    <tr>\n",
       "      <th rowspan=\"2\" valign=\"top\">Thur</th>\n",
       "      <th>Lunch</th>\n",
       "      <td>1077.55</td>\n",
       "      <td>7.51</td>\n",
       "      <td>43.11</td>\n",
       "      <td>17.664754</td>\n",
       "    </tr>\n",
       "    <tr>\n",
       "      <th>Dinner</th>\n",
       "      <td>18.78</td>\n",
       "      <td>18.78</td>\n",
       "      <td>18.78</td>\n",
       "      <td>18.780000</td>\n",
       "    </tr>\n",
       "    <tr>\n",
       "      <th rowspan=\"2\" valign=\"top\">Fri</th>\n",
       "      <th>Lunch</th>\n",
       "      <td>89.92</td>\n",
       "      <td>8.58</td>\n",
       "      <td>16.27</td>\n",
       "      <td>12.845714</td>\n",
       "    </tr>\n",
       "    <tr>\n",
       "      <th>Dinner</th>\n",
       "      <td>235.96</td>\n",
       "      <td>5.75</td>\n",
       "      <td>40.17</td>\n",
       "      <td>19.663333</td>\n",
       "    </tr>\n",
       "    <tr>\n",
       "      <th rowspan=\"2\" valign=\"top\">Sat</th>\n",
       "      <th>Lunch</th>\n",
       "      <td>0.00</td>\n",
       "      <td>NaN</td>\n",
       "      <td>NaN</td>\n",
       "      <td>NaN</td>\n",
       "    </tr>\n",
       "    <tr>\n",
       "      <th>Dinner</th>\n",
       "      <td>1778.40</td>\n",
       "      <td>3.07</td>\n",
       "      <td>50.81</td>\n",
       "      <td>20.441379</td>\n",
       "    </tr>\n",
       "    <tr>\n",
       "      <th rowspan=\"2\" valign=\"top\">Sun</th>\n",
       "      <th>Lunch</th>\n",
       "      <td>0.00</td>\n",
       "      <td>NaN</td>\n",
       "      <td>NaN</td>\n",
       "      <td>NaN</td>\n",
       "    </tr>\n",
       "    <tr>\n",
       "      <th>Dinner</th>\n",
       "      <td>1627.16</td>\n",
       "      <td>7.25</td>\n",
       "      <td>48.17</td>\n",
       "      <td>21.410000</td>\n",
       "    </tr>\n",
       "  </tbody>\n",
       "</table>\n",
       "</div>"
      ],
      "text/plain": [
       "            total_bill                         \n",
       "                   sum    min    max       mean\n",
       "day  time                                      \n",
       "Thur Lunch     1077.55   7.51  43.11  17.664754\n",
       "     Dinner      18.78  18.78  18.78  18.780000\n",
       "Fri  Lunch       89.92   8.58  16.27  12.845714\n",
       "     Dinner     235.96   5.75  40.17  19.663333\n",
       "Sat  Lunch        0.00    NaN    NaN        NaN\n",
       "     Dinner    1778.40   3.07  50.81  20.441379\n",
       "Sun  Lunch        0.00    NaN    NaN        NaN\n",
       "     Dinner    1627.16   7.25  48.17  21.410000"
      ]
     },
     "execution_count": 30,
     "metadata": {},
     "output_type": "execute_result"
    }
   ],
   "source": [
    "df.groupby(['day', 'time']).agg({'total_bill': ['sum', 'min', 'max', 'mean']})"
   ]
  },
  {
   "cell_type": "markdown",
   "id": "5a3db179",
   "metadata": {
    "papermill": {
     "duration": 0.017139,
     "end_time": "2022-11-24T18:02:48.874867",
     "exception": false,
     "start_time": "2022-11-24T18:02:48.857728",
     "status": "completed"
    },
    "tags": []
   },
   "source": [
    "## Let's find the sum, min, max and average of the total_bill and type values of the lunch time and female customers according to the day"
   ]
  },
  {
   "cell_type": "code",
   "execution_count": 31,
   "id": "371a8189",
   "metadata": {
    "execution": {
     "iopub.execute_input": "2022-11-24T18:02:48.911552Z",
     "iopub.status.busy": "2022-11-24T18:02:48.911114Z",
     "iopub.status.idle": "2022-11-24T18:02:48.935542Z",
     "shell.execute_reply": "2022-11-24T18:02:48.934782Z"
    },
    "papermill": {
     "duration": 0.044866,
     "end_time": "2022-11-24T18:02:48.937508",
     "exception": false,
     "start_time": "2022-11-24T18:02:48.892642",
     "status": "completed"
    },
    "tags": []
   },
   "outputs": [
    {
     "data": {
      "text/html": [
       "<div>\n",
       "<style scoped>\n",
       "    .dataframe tbody tr th:only-of-type {\n",
       "        vertical-align: middle;\n",
       "    }\n",
       "\n",
       "    .dataframe tbody tr th {\n",
       "        vertical-align: top;\n",
       "    }\n",
       "\n",
       "    .dataframe thead tr th {\n",
       "        text-align: left;\n",
       "    }\n",
       "\n",
       "    .dataframe thead tr:last-of-type th {\n",
       "        text-align: right;\n",
       "    }\n",
       "</style>\n",
       "<table border=\"1\" class=\"dataframe\">\n",
       "  <thead>\n",
       "    <tr>\n",
       "      <th></th>\n",
       "      <th colspan=\"4\" halign=\"left\">total_bill</th>\n",
       "      <th colspan=\"4\" halign=\"left\">tip</th>\n",
       "    </tr>\n",
       "    <tr>\n",
       "      <th></th>\n",
       "      <th>sum</th>\n",
       "      <th>min</th>\n",
       "      <th>max</th>\n",
       "      <th>mean</th>\n",
       "      <th>sum</th>\n",
       "      <th>min</th>\n",
       "      <th>max</th>\n",
       "      <th>mean</th>\n",
       "    </tr>\n",
       "    <tr>\n",
       "      <th>day</th>\n",
       "      <th></th>\n",
       "      <th></th>\n",
       "      <th></th>\n",
       "      <th></th>\n",
       "      <th></th>\n",
       "      <th></th>\n",
       "      <th></th>\n",
       "      <th></th>\n",
       "    </tr>\n",
       "  </thead>\n",
       "  <tbody>\n",
       "    <tr>\n",
       "      <th>Thur</th>\n",
       "      <td>516.11</td>\n",
       "      <td>8.35</td>\n",
       "      <td>43.11</td>\n",
       "      <td>16.64871</td>\n",
       "      <td>79.42</td>\n",
       "      <td>1.25</td>\n",
       "      <td>5.17</td>\n",
       "      <td>2.561935</td>\n",
       "    </tr>\n",
       "    <tr>\n",
       "      <th>Fri</th>\n",
       "      <td>55.76</td>\n",
       "      <td>10.09</td>\n",
       "      <td>16.27</td>\n",
       "      <td>13.94000</td>\n",
       "      <td>10.98</td>\n",
       "      <td>2.00</td>\n",
       "      <td>3.48</td>\n",
       "      <td>2.745000</td>\n",
       "    </tr>\n",
       "    <tr>\n",
       "      <th>Sat</th>\n",
       "      <td>0.00</td>\n",
       "      <td>NaN</td>\n",
       "      <td>NaN</td>\n",
       "      <td>NaN</td>\n",
       "      <td>0.00</td>\n",
       "      <td>NaN</td>\n",
       "      <td>NaN</td>\n",
       "      <td>NaN</td>\n",
       "    </tr>\n",
       "    <tr>\n",
       "      <th>Sun</th>\n",
       "      <td>0.00</td>\n",
       "      <td>NaN</td>\n",
       "      <td>NaN</td>\n",
       "      <td>NaN</td>\n",
       "      <td>0.00</td>\n",
       "      <td>NaN</td>\n",
       "      <td>NaN</td>\n",
       "      <td>NaN</td>\n",
       "    </tr>\n",
       "  </tbody>\n",
       "</table>\n",
       "</div>"
      ],
      "text/plain": [
       "     total_bill                            tip                      \n",
       "            sum    min    max      mean    sum   min   max      mean\n",
       "day                                                                 \n",
       "Thur     516.11   8.35  43.11  16.64871  79.42  1.25  5.17  2.561935\n",
       "Fri       55.76  10.09  16.27  13.94000  10.98  2.00  3.48  2.745000\n",
       "Sat        0.00    NaN    NaN       NaN   0.00   NaN   NaN       NaN\n",
       "Sun        0.00    NaN    NaN       NaN   0.00   NaN   NaN       NaN"
      ]
     },
     "execution_count": 31,
     "metadata": {},
     "output_type": "execute_result"
    }
   ],
   "source": [
    "df[(df['time'] == 'Lunch') & (df['sex'] == 'Female')].groupby('day').agg({\n",
    "    'total_bill': ['sum', 'min', 'max', 'mean'], 'tip': ['sum', 'min', 'max', 'mean']\n",
    "})"
   ]
  },
  {
   "cell_type": "markdown",
   "id": "3913edd6",
   "metadata": {
    "papermill": {
     "duration": 0.017067,
     "end_time": "2022-11-24T18:02:48.972277",
     "exception": false,
     "start_time": "2022-11-24T18:02:48.955210",
     "status": "completed"
    },
    "tags": []
   },
   "source": [
    "## Let's find the average of orders with size less than 3 and total_bill greater than 10"
   ]
  },
  {
   "cell_type": "code",
   "execution_count": 32,
   "id": "d75d2058",
   "metadata": {
    "execution": {
     "iopub.execute_input": "2022-11-24T18:02:49.009499Z",
     "iopub.status.busy": "2022-11-24T18:02:49.008736Z",
     "iopub.status.idle": "2022-11-24T18:02:49.016278Z",
     "shell.execute_reply": "2022-11-24T18:02:49.015521Z"
    },
    "papermill": {
     "duration": 0.028721,
     "end_time": "2022-11-24T18:02:49.018292",
     "exception": false,
     "start_time": "2022-11-24T18:02:48.989571",
     "status": "completed"
    },
    "tags": []
   },
   "outputs": [
    {
     "data": {
      "text/plain": [
       "17.184965034965035"
      ]
     },
     "execution_count": 32,
     "metadata": {},
     "output_type": "execute_result"
    }
   ],
   "source": [
    "# first solution\n",
    "df.loc[(df['size'] < 3) & (df['total_bill'] > 10), 'total_bill'].mean()"
   ]
  },
  {
   "cell_type": "code",
   "execution_count": 33,
   "id": "880107bb",
   "metadata": {
    "execution": {
     "iopub.execute_input": "2022-11-24T18:02:49.056106Z",
     "iopub.status.busy": "2022-11-24T18:02:49.055383Z",
     "iopub.status.idle": "2022-11-24T18:02:49.063871Z",
     "shell.execute_reply": "2022-11-24T18:02:49.062791Z"
    },
    "papermill": {
     "duration": 0.030143,
     "end_time": "2022-11-24T18:02:49.066189",
     "exception": false,
     "start_time": "2022-11-24T18:02:49.036046",
     "status": "completed"
    },
    "tags": []
   },
   "outputs": [
    {
     "data": {
      "text/plain": [
       "17.184965034965035"
      ]
     },
     "execution_count": 33,
     "metadata": {},
     "output_type": "execute_result"
    }
   ],
   "source": [
    "# second solution\n",
    "df['total_bill'][(df['size'] < 3) & (df['total_bill'] > 10)].mean()"
   ]
  },
  {
   "cell_type": "markdown",
   "id": "d3a6812a",
   "metadata": {
    "papermill": {
     "duration": 0.017169,
     "end_time": "2022-11-24T18:02:49.100948",
     "exception": false,
     "start_time": "2022-11-24T18:02:49.083779",
     "status": "completed"
    },
    "tags": []
   },
   "source": [
    "## Let's create a new variable called total_bill_tip_sum. Return the sum of the total_bill and tip each customer paid."
   ]
  },
  {
   "cell_type": "code",
   "execution_count": 34,
   "id": "8b49dffe",
   "metadata": {
    "execution": {
     "iopub.execute_input": "2022-11-24T18:02:49.138564Z",
     "iopub.status.busy": "2022-11-24T18:02:49.137769Z",
     "iopub.status.idle": "2022-11-24T18:02:49.153950Z",
     "shell.execute_reply": "2022-11-24T18:02:49.153181Z"
    },
    "papermill": {
     "duration": 0.037383,
     "end_time": "2022-11-24T18:02:49.155990",
     "exception": false,
     "start_time": "2022-11-24T18:02:49.118607",
     "status": "completed"
    },
    "tags": []
   },
   "outputs": [
    {
     "data": {
      "text/html": [
       "<div>\n",
       "<style scoped>\n",
       "    .dataframe tbody tr th:only-of-type {\n",
       "        vertical-align: middle;\n",
       "    }\n",
       "\n",
       "    .dataframe tbody tr th {\n",
       "        vertical-align: top;\n",
       "    }\n",
       "\n",
       "    .dataframe thead th {\n",
       "        text-align: right;\n",
       "    }\n",
       "</style>\n",
       "<table border=\"1\" class=\"dataframe\">\n",
       "  <thead>\n",
       "    <tr style=\"text-align: right;\">\n",
       "      <th></th>\n",
       "      <th>total_bill</th>\n",
       "      <th>tip</th>\n",
       "      <th>sex</th>\n",
       "      <th>smoker</th>\n",
       "      <th>day</th>\n",
       "      <th>time</th>\n",
       "      <th>size</th>\n",
       "      <th>total_bill_tip_sum</th>\n",
       "    </tr>\n",
       "  </thead>\n",
       "  <tbody>\n",
       "    <tr>\n",
       "      <th>0</th>\n",
       "      <td>16.99</td>\n",
       "      <td>1.01</td>\n",
       "      <td>Female</td>\n",
       "      <td>No</td>\n",
       "      <td>Sun</td>\n",
       "      <td>Dinner</td>\n",
       "      <td>2</td>\n",
       "      <td>18.00</td>\n",
       "    </tr>\n",
       "    <tr>\n",
       "      <th>1</th>\n",
       "      <td>10.34</td>\n",
       "      <td>1.66</td>\n",
       "      <td>Male</td>\n",
       "      <td>No</td>\n",
       "      <td>Sun</td>\n",
       "      <td>Dinner</td>\n",
       "      <td>3</td>\n",
       "      <td>12.00</td>\n",
       "    </tr>\n",
       "    <tr>\n",
       "      <th>2</th>\n",
       "      <td>21.01</td>\n",
       "      <td>3.50</td>\n",
       "      <td>Male</td>\n",
       "      <td>No</td>\n",
       "      <td>Sun</td>\n",
       "      <td>Dinner</td>\n",
       "      <td>3</td>\n",
       "      <td>24.51</td>\n",
       "    </tr>\n",
       "    <tr>\n",
       "      <th>3</th>\n",
       "      <td>23.68</td>\n",
       "      <td>3.31</td>\n",
       "      <td>Male</td>\n",
       "      <td>No</td>\n",
       "      <td>Sun</td>\n",
       "      <td>Dinner</td>\n",
       "      <td>2</td>\n",
       "      <td>26.99</td>\n",
       "    </tr>\n",
       "    <tr>\n",
       "      <th>4</th>\n",
       "      <td>24.59</td>\n",
       "      <td>3.61</td>\n",
       "      <td>Female</td>\n",
       "      <td>No</td>\n",
       "      <td>Sun</td>\n",
       "      <td>Dinner</td>\n",
       "      <td>4</td>\n",
       "      <td>28.20</td>\n",
       "    </tr>\n",
       "  </tbody>\n",
       "</table>\n",
       "</div>"
      ],
      "text/plain": [
       "   total_bill   tip     sex smoker  day    time  size  total_bill_tip_sum\n",
       "0       16.99  1.01  Female     No  Sun  Dinner     2               18.00\n",
       "1       10.34  1.66    Male     No  Sun  Dinner     3               12.00\n",
       "2       21.01  3.50    Male     No  Sun  Dinner     3               24.51\n",
       "3       23.68  3.31    Male     No  Sun  Dinner     2               26.99\n",
       "4       24.59  3.61  Female     No  Sun  Dinner     4               28.20"
      ]
     },
     "execution_count": 34,
     "metadata": {},
     "output_type": "execute_result"
    }
   ],
   "source": [
    "df['total_bill_tip_sum'] = df['total_bill'] + df['tip']\n",
    "df.head()"
   ]
  },
  {
   "cell_type": "markdown",
   "id": "571da748",
   "metadata": {
    "papermill": {
     "duration": 0.017532,
     "end_time": "2022-11-24T18:02:49.191654",
     "exception": false,
     "start_time": "2022-11-24T18:02:49.174122",
     "status": "completed"
    },
    "tags": []
   },
   "source": [
    "## Let's sort the total_bill type_sum variable from largest to smallest and assign the first 30 people to a new dataframe"
   ]
  },
  {
   "cell_type": "code",
   "execution_count": 35,
   "id": "eeb34a43",
   "metadata": {
    "execution": {
     "iopub.execute_input": "2022-11-24T18:02:49.230056Z",
     "iopub.status.busy": "2022-11-24T18:02:49.228899Z",
     "iopub.status.idle": "2022-11-24T18:02:49.255420Z",
     "shell.execute_reply": "2022-11-24T18:02:49.254311Z"
    },
    "papermill": {
     "duration": 0.048321,
     "end_time": "2022-11-24T18:02:49.257731",
     "exception": false,
     "start_time": "2022-11-24T18:02:49.209410",
     "status": "completed"
    },
    "tags": []
   },
   "outputs": [
    {
     "data": {
      "text/html": [
       "<div>\n",
       "<style scoped>\n",
       "    .dataframe tbody tr th:only-of-type {\n",
       "        vertical-align: middle;\n",
       "    }\n",
       "\n",
       "    .dataframe tbody tr th {\n",
       "        vertical-align: top;\n",
       "    }\n",
       "\n",
       "    .dataframe thead th {\n",
       "        text-align: right;\n",
       "    }\n",
       "</style>\n",
       "<table border=\"1\" class=\"dataframe\">\n",
       "  <thead>\n",
       "    <tr style=\"text-align: right;\">\n",
       "      <th></th>\n",
       "      <th>total_bill</th>\n",
       "      <th>tip</th>\n",
       "      <th>sex</th>\n",
       "      <th>smoker</th>\n",
       "      <th>day</th>\n",
       "      <th>time</th>\n",
       "      <th>size</th>\n",
       "      <th>total_bill_tip_sum</th>\n",
       "    </tr>\n",
       "  </thead>\n",
       "  <tbody>\n",
       "    <tr>\n",
       "      <th>170</th>\n",
       "      <td>50.81</td>\n",
       "      <td>10.00</td>\n",
       "      <td>Male</td>\n",
       "      <td>Yes</td>\n",
       "      <td>Sat</td>\n",
       "      <td>Dinner</td>\n",
       "      <td>3</td>\n",
       "      <td>60.81</td>\n",
       "    </tr>\n",
       "    <tr>\n",
       "      <th>212</th>\n",
       "      <td>48.33</td>\n",
       "      <td>9.00</td>\n",
       "      <td>Male</td>\n",
       "      <td>No</td>\n",
       "      <td>Sat</td>\n",
       "      <td>Dinner</td>\n",
       "      <td>4</td>\n",
       "      <td>57.33</td>\n",
       "    </tr>\n",
       "    <tr>\n",
       "      <th>59</th>\n",
       "      <td>48.27</td>\n",
       "      <td>6.73</td>\n",
       "      <td>Male</td>\n",
       "      <td>No</td>\n",
       "      <td>Sat</td>\n",
       "      <td>Dinner</td>\n",
       "      <td>4</td>\n",
       "      <td>55.00</td>\n",
       "    </tr>\n",
       "    <tr>\n",
       "      <th>156</th>\n",
       "      <td>48.17</td>\n",
       "      <td>5.00</td>\n",
       "      <td>Male</td>\n",
       "      <td>No</td>\n",
       "      <td>Sun</td>\n",
       "      <td>Dinner</td>\n",
       "      <td>6</td>\n",
       "      <td>53.17</td>\n",
       "    </tr>\n",
       "    <tr>\n",
       "      <th>182</th>\n",
       "      <td>45.35</td>\n",
       "      <td>3.50</td>\n",
       "      <td>Male</td>\n",
       "      <td>Yes</td>\n",
       "      <td>Sun</td>\n",
       "      <td>Dinner</td>\n",
       "      <td>3</td>\n",
       "      <td>48.85</td>\n",
       "    </tr>\n",
       "    <tr>\n",
       "      <th>197</th>\n",
       "      <td>43.11</td>\n",
       "      <td>5.00</td>\n",
       "      <td>Female</td>\n",
       "      <td>Yes</td>\n",
       "      <td>Thur</td>\n",
       "      <td>Lunch</td>\n",
       "      <td>4</td>\n",
       "      <td>48.11</td>\n",
       "    </tr>\n",
       "    <tr>\n",
       "      <th>23</th>\n",
       "      <td>39.42</td>\n",
       "      <td>7.58</td>\n",
       "      <td>Male</td>\n",
       "      <td>No</td>\n",
       "      <td>Sat</td>\n",
       "      <td>Dinner</td>\n",
       "      <td>4</td>\n",
       "      <td>47.00</td>\n",
       "    </tr>\n",
       "    <tr>\n",
       "      <th>102</th>\n",
       "      <td>44.30</td>\n",
       "      <td>2.50</td>\n",
       "      <td>Female</td>\n",
       "      <td>Yes</td>\n",
       "      <td>Sat</td>\n",
       "      <td>Dinner</td>\n",
       "      <td>3</td>\n",
       "      <td>46.80</td>\n",
       "    </tr>\n",
       "    <tr>\n",
       "      <th>142</th>\n",
       "      <td>41.19</td>\n",
       "      <td>5.00</td>\n",
       "      <td>Male</td>\n",
       "      <td>No</td>\n",
       "      <td>Thur</td>\n",
       "      <td>Lunch</td>\n",
       "      <td>5</td>\n",
       "      <td>46.19</td>\n",
       "    </tr>\n",
       "    <tr>\n",
       "      <th>95</th>\n",
       "      <td>40.17</td>\n",
       "      <td>4.73</td>\n",
       "      <td>Male</td>\n",
       "      <td>Yes</td>\n",
       "      <td>Fri</td>\n",
       "      <td>Dinner</td>\n",
       "      <td>4</td>\n",
       "      <td>44.90</td>\n",
       "    </tr>\n",
       "    <tr>\n",
       "      <th>184</th>\n",
       "      <td>40.55</td>\n",
       "      <td>3.00</td>\n",
       "      <td>Male</td>\n",
       "      <td>Yes</td>\n",
       "      <td>Sun</td>\n",
       "      <td>Dinner</td>\n",
       "      <td>2</td>\n",
       "      <td>43.55</td>\n",
       "    </tr>\n",
       "    <tr>\n",
       "      <th>112</th>\n",
       "      <td>38.07</td>\n",
       "      <td>4.00</td>\n",
       "      <td>Male</td>\n",
       "      <td>No</td>\n",
       "      <td>Sun</td>\n",
       "      <td>Dinner</td>\n",
       "      <td>3</td>\n",
       "      <td>42.07</td>\n",
       "    </tr>\n",
       "    <tr>\n",
       "      <th>207</th>\n",
       "      <td>38.73</td>\n",
       "      <td>3.00</td>\n",
       "      <td>Male</td>\n",
       "      <td>Yes</td>\n",
       "      <td>Sat</td>\n",
       "      <td>Dinner</td>\n",
       "      <td>4</td>\n",
       "      <td>41.73</td>\n",
       "    </tr>\n",
       "    <tr>\n",
       "      <th>56</th>\n",
       "      <td>38.01</td>\n",
       "      <td>3.00</td>\n",
       "      <td>Male</td>\n",
       "      <td>Yes</td>\n",
       "      <td>Sat</td>\n",
       "      <td>Dinner</td>\n",
       "      <td>4</td>\n",
       "      <td>41.01</td>\n",
       "    </tr>\n",
       "    <tr>\n",
       "      <th>141</th>\n",
       "      <td>34.30</td>\n",
       "      <td>6.70</td>\n",
       "      <td>Male</td>\n",
       "      <td>No</td>\n",
       "      <td>Thur</td>\n",
       "      <td>Lunch</td>\n",
       "      <td>6</td>\n",
       "      <td>41.00</td>\n",
       "    </tr>\n",
       "    <tr>\n",
       "      <th>238</th>\n",
       "      <td>35.83</td>\n",
       "      <td>4.67</td>\n",
       "      <td>Female</td>\n",
       "      <td>No</td>\n",
       "      <td>Sat</td>\n",
       "      <td>Dinner</td>\n",
       "      <td>3</td>\n",
       "      <td>40.50</td>\n",
       "    </tr>\n",
       "    <tr>\n",
       "      <th>11</th>\n",
       "      <td>35.26</td>\n",
       "      <td>5.00</td>\n",
       "      <td>Female</td>\n",
       "      <td>No</td>\n",
       "      <td>Sun</td>\n",
       "      <td>Dinner</td>\n",
       "      <td>4</td>\n",
       "      <td>40.26</td>\n",
       "    </tr>\n",
       "    <tr>\n",
       "      <th>52</th>\n",
       "      <td>34.81</td>\n",
       "      <td>5.20</td>\n",
       "      <td>Female</td>\n",
       "      <td>No</td>\n",
       "      <td>Sun</td>\n",
       "      <td>Dinner</td>\n",
       "      <td>4</td>\n",
       "      <td>40.01</td>\n",
       "    </tr>\n",
       "    <tr>\n",
       "      <th>85</th>\n",
       "      <td>34.83</td>\n",
       "      <td>5.17</td>\n",
       "      <td>Female</td>\n",
       "      <td>No</td>\n",
       "      <td>Thur</td>\n",
       "      <td>Lunch</td>\n",
       "      <td>4</td>\n",
       "      <td>40.00</td>\n",
       "    </tr>\n",
       "    <tr>\n",
       "      <th>47</th>\n",
       "      <td>32.40</td>\n",
       "      <td>6.00</td>\n",
       "      <td>Male</td>\n",
       "      <td>No</td>\n",
       "      <td>Sun</td>\n",
       "      <td>Dinner</td>\n",
       "      <td>4</td>\n",
       "      <td>38.40</td>\n",
       "    </tr>\n",
       "    <tr>\n",
       "      <th>180</th>\n",
       "      <td>34.65</td>\n",
       "      <td>3.68</td>\n",
       "      <td>Male</td>\n",
       "      <td>Yes</td>\n",
       "      <td>Sun</td>\n",
       "      <td>Dinner</td>\n",
       "      <td>4</td>\n",
       "      <td>38.33</td>\n",
       "    </tr>\n",
       "    <tr>\n",
       "      <th>179</th>\n",
       "      <td>34.63</td>\n",
       "      <td>3.55</td>\n",
       "      <td>Male</td>\n",
       "      <td>Yes</td>\n",
       "      <td>Sun</td>\n",
       "      <td>Dinner</td>\n",
       "      <td>2</td>\n",
       "      <td>38.18</td>\n",
       "    </tr>\n",
       "    <tr>\n",
       "      <th>83</th>\n",
       "      <td>32.68</td>\n",
       "      <td>5.00</td>\n",
       "      <td>Male</td>\n",
       "      <td>Yes</td>\n",
       "      <td>Thur</td>\n",
       "      <td>Lunch</td>\n",
       "      <td>2</td>\n",
       "      <td>37.68</td>\n",
       "    </tr>\n",
       "    <tr>\n",
       "      <th>39</th>\n",
       "      <td>31.27</td>\n",
       "      <td>5.00</td>\n",
       "      <td>Male</td>\n",
       "      <td>No</td>\n",
       "      <td>Sat</td>\n",
       "      <td>Dinner</td>\n",
       "      <td>3</td>\n",
       "      <td>36.27</td>\n",
       "    </tr>\n",
       "    <tr>\n",
       "      <th>167</th>\n",
       "      <td>31.71</td>\n",
       "      <td>4.50</td>\n",
       "      <td>Male</td>\n",
       "      <td>No</td>\n",
       "      <td>Sun</td>\n",
       "      <td>Dinner</td>\n",
       "      <td>4</td>\n",
       "      <td>36.21</td>\n",
       "    </tr>\n",
       "    <tr>\n",
       "      <th>175</th>\n",
       "      <td>32.90</td>\n",
       "      <td>3.11</td>\n",
       "      <td>Male</td>\n",
       "      <td>Yes</td>\n",
       "      <td>Sun</td>\n",
       "      <td>Dinner</td>\n",
       "      <td>2</td>\n",
       "      <td>36.01</td>\n",
       "    </tr>\n",
       "    <tr>\n",
       "      <th>44</th>\n",
       "      <td>30.40</td>\n",
       "      <td>5.60</td>\n",
       "      <td>Male</td>\n",
       "      <td>No</td>\n",
       "      <td>Sun</td>\n",
       "      <td>Dinner</td>\n",
       "      <td>4</td>\n",
       "      <td>36.00</td>\n",
       "    </tr>\n",
       "    <tr>\n",
       "      <th>173</th>\n",
       "      <td>31.85</td>\n",
       "      <td>3.18</td>\n",
       "      <td>Male</td>\n",
       "      <td>Yes</td>\n",
       "      <td>Sun</td>\n",
       "      <td>Dinner</td>\n",
       "      <td>2</td>\n",
       "      <td>35.03</td>\n",
       "    </tr>\n",
       "    <tr>\n",
       "      <th>116</th>\n",
       "      <td>29.93</td>\n",
       "      <td>5.07</td>\n",
       "      <td>Male</td>\n",
       "      <td>No</td>\n",
       "      <td>Sun</td>\n",
       "      <td>Dinner</td>\n",
       "      <td>4</td>\n",
       "      <td>35.00</td>\n",
       "    </tr>\n",
       "    <tr>\n",
       "      <th>155</th>\n",
       "      <td>29.85</td>\n",
       "      <td>5.14</td>\n",
       "      <td>Female</td>\n",
       "      <td>No</td>\n",
       "      <td>Sun</td>\n",
       "      <td>Dinner</td>\n",
       "      <td>5</td>\n",
       "      <td>34.99</td>\n",
       "    </tr>\n",
       "  </tbody>\n",
       "</table>\n",
       "</div>"
      ],
      "text/plain": [
       "     total_bill    tip     sex smoker   day    time  size  total_bill_tip_sum\n",
       "170       50.81  10.00    Male    Yes   Sat  Dinner     3               60.81\n",
       "212       48.33   9.00    Male     No   Sat  Dinner     4               57.33\n",
       "59        48.27   6.73    Male     No   Sat  Dinner     4               55.00\n",
       "156       48.17   5.00    Male     No   Sun  Dinner     6               53.17\n",
       "182       45.35   3.50    Male    Yes   Sun  Dinner     3               48.85\n",
       "197       43.11   5.00  Female    Yes  Thur   Lunch     4               48.11\n",
       "23        39.42   7.58    Male     No   Sat  Dinner     4               47.00\n",
       "102       44.30   2.50  Female    Yes   Sat  Dinner     3               46.80\n",
       "142       41.19   5.00    Male     No  Thur   Lunch     5               46.19\n",
       "95        40.17   4.73    Male    Yes   Fri  Dinner     4               44.90\n",
       "184       40.55   3.00    Male    Yes   Sun  Dinner     2               43.55\n",
       "112       38.07   4.00    Male     No   Sun  Dinner     3               42.07\n",
       "207       38.73   3.00    Male    Yes   Sat  Dinner     4               41.73\n",
       "56        38.01   3.00    Male    Yes   Sat  Dinner     4               41.01\n",
       "141       34.30   6.70    Male     No  Thur   Lunch     6               41.00\n",
       "238       35.83   4.67  Female     No   Sat  Dinner     3               40.50\n",
       "11        35.26   5.00  Female     No   Sun  Dinner     4               40.26\n",
       "52        34.81   5.20  Female     No   Sun  Dinner     4               40.01\n",
       "85        34.83   5.17  Female     No  Thur   Lunch     4               40.00\n",
       "47        32.40   6.00    Male     No   Sun  Dinner     4               38.40\n",
       "180       34.65   3.68    Male    Yes   Sun  Dinner     4               38.33\n",
       "179       34.63   3.55    Male    Yes   Sun  Dinner     2               38.18\n",
       "83        32.68   5.00    Male    Yes  Thur   Lunch     2               37.68\n",
       "39        31.27   5.00    Male     No   Sat  Dinner     3               36.27\n",
       "167       31.71   4.50    Male     No   Sun  Dinner     4               36.21\n",
       "175       32.90   3.11    Male    Yes   Sun  Dinner     2               36.01\n",
       "44        30.40   5.60    Male     No   Sun  Dinner     4               36.00\n",
       "173       31.85   3.18    Male    Yes   Sun  Dinner     2               35.03\n",
       "116       29.93   5.07    Male     No   Sun  Dinner     4               35.00\n",
       "155       29.85   5.14  Female     No   Sun  Dinner     5               34.99"
      ]
     },
     "execution_count": 35,
     "metadata": {},
     "output_type": "execute_result"
    }
   ],
   "source": [
    "new_df = df.sort_values('total_bill_tip_sum', ascending=False).iloc[:30]\n",
    "new_df"
   ]
  },
  {
   "cell_type": "markdown",
   "id": "e65583c9",
   "metadata": {
    "papermill": {
     "duration": 0.018617,
     "end_time": "2022-11-24T18:02:49.295495",
     "exception": false,
     "start_time": "2022-11-24T18:02:49.276878",
     "status": "completed"
    },
    "tags": []
   },
   "source": [
    "# **Thanks for checking my notebook!**"
   ]
  }
 ],
 "metadata": {
  "kernelspec": {
   "display_name": "Python 3",
   "language": "python",
   "name": "python3"
  },
  "language_info": {
   "codemirror_mode": {
    "name": "ipython",
    "version": 3
   },
   "file_extension": ".py",
   "mimetype": "text/x-python",
   "name": "python",
   "nbconvert_exporter": "python",
   "pygments_lexer": "ipython3",
   "version": "3.7.12"
  },
  "papermill": {
   "default_parameters": {},
   "duration": 15.573955,
   "end_time": "2022-11-24T18:02:50.036611",
   "environment_variables": {},
   "exception": null,
   "input_path": "__notebook__.ipynb",
   "output_path": "__notebook__.ipynb",
   "parameters": {},
   "start_time": "2022-11-24T18:02:34.462656",
   "version": "2.3.4"
  }
 },
 "nbformat": 4,
 "nbformat_minor": 5
}
